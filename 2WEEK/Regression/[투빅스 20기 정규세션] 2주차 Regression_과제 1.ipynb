{
 "cells": [
  {
   "cell_type": "markdown",
   "metadata": {
    "id": "HtloJibI_5uB"
   },
   "source": [
    "# 과제 1"
   ]
  },
  {
   "cell_type": "markdown",
   "metadata": {
    "id": "poKqKrLb_5uH"
   },
   "source": [
    "## Matrix 구현 \n",
    "1. Linear Regression에서 쓰이는 **정규방정식**을 행렬로 구현하고, sklearn 혹은 OLS 패키지를 통해 구한 **실제 값과 비교**해주세요.\n",
    "2. LSE에서 쓰이는 Loss Function, **MSE**를 행렬로 구현해 출력해주세요."
   ]
  },
  {
   "cell_type": "markdown",
   "metadata": {
    "id": "MaVCkq3g_5uJ"
   },
   "source": [
    "### Data Load "
   ]
  },
  {
   "cell_type": "code",
   "execution_count": 3,
   "metadata": {
    "id": "lX6_aNNU_5uK"
   },
   "outputs": [],
   "source": [
    "import pandas as pd\n",
    "data = pd.read_csv(\"assignment1.csv\")"
   ]
  },
  {
   "cell_type": "code",
   "execution_count": 4,
   "metadata": {
    "id": "PJVRecL-_5uM",
    "outputId": "78c70b21-ad58-4a1f-b5b3-f90a6f55d1c7"
   },
   "outputs": [
    {
     "data": {
      "text/html": [
       "<div>\n",
       "<style scoped>\n",
       "    .dataframe tbody tr th:only-of-type {\n",
       "        vertical-align: middle;\n",
       "    }\n",
       "\n",
       "    .dataframe tbody tr th {\n",
       "        vertical-align: top;\n",
       "    }\n",
       "\n",
       "    .dataframe thead th {\n",
       "        text-align: right;\n",
       "    }\n",
       "</style>\n",
       "<table border=\"1\" class=\"dataframe\">\n",
       "  <thead>\n",
       "    <tr style=\"text-align: right;\">\n",
       "      <th></th>\n",
       "      <th>y</th>\n",
       "      <th>x1</th>\n",
       "      <th>x2</th>\n",
       "      <th>x3</th>\n",
       "      <th>x4</th>\n",
       "      <th>x5</th>\n",
       "    </tr>\n",
       "  </thead>\n",
       "  <tbody>\n",
       "    <tr>\n",
       "      <th>0</th>\n",
       "      <td>10</td>\n",
       "      <td>38.9</td>\n",
       "      <td>64.7</td>\n",
       "      <td>4</td>\n",
       "      <td>868</td>\n",
       "      <td>59.7</td>\n",
       "    </tr>\n",
       "    <tr>\n",
       "      <th>1</th>\n",
       "      <td>13</td>\n",
       "      <td>41.6</td>\n",
       "      <td>45.3</td>\n",
       "      <td>-4</td>\n",
       "      <td>957</td>\n",
       "      <td>61.4</td>\n",
       "    </tr>\n",
       "    <tr>\n",
       "      <th>2</th>\n",
       "      <td>11</td>\n",
       "      <td>39.7</td>\n",
       "      <td>74.1</td>\n",
       "      <td>8</td>\n",
       "      <td>786</td>\n",
       "      <td>61.0</td>\n",
       "    </tr>\n",
       "    <tr>\n",
       "      <th>3</th>\n",
       "      <td>7</td>\n",
       "      <td>37.3</td>\n",
       "      <td>48.0</td>\n",
       "      <td>19</td>\n",
       "      <td>984</td>\n",
       "      <td>67.5</td>\n",
       "    </tr>\n",
       "    <tr>\n",
       "      <th>4</th>\n",
       "      <td>10</td>\n",
       "      <td>39.5</td>\n",
       "      <td>51.9</td>\n",
       "      <td>6</td>\n",
       "      <td>700</td>\n",
       "      <td>57.2</td>\n",
       "    </tr>\n",
       "  </tbody>\n",
       "</table>\n",
       "</div>"
      ],
      "text/plain": [
       "    y    x1    x2  x3   x4    x5\n",
       "0  10  38.9  64.7   4  868  59.7\n",
       "1  13  41.6  45.3  -4  957  61.4\n",
       "2  11  39.7  74.1   8  786  61.0\n",
       "3   7  37.3  48.0  19  984  67.5\n",
       "4  10  39.5  51.9   6  700  57.2"
      ]
     },
     "execution_count": 4,
     "metadata": {},
     "output_type": "execute_result"
    }
   ],
   "source": [
    "data.head()"
   ]
  },
  {
   "cell_type": "code",
   "execution_count": 5,
   "metadata": {
    "id": "Cdf4C5No_5uP",
    "outputId": "28e40fcd-7aed-40be-b449-38b4c9937e5c"
   },
   "outputs": [
    {
     "data": {
      "text/plain": [
       "(9, 6)"
      ]
     },
     "execution_count": 5,
     "metadata": {},
     "output_type": "execute_result"
    }
   ],
   "source": [
    "data.shape     # y:(9,1), X:(9,5)"
   ]
  },
  {
   "cell_type": "code",
   "execution_count": 6,
   "metadata": {
    "id": "rZuPCz_9_5uQ"
   },
   "outputs": [],
   "source": [
    "X = data.drop([\"y\"], axis=1)\n",
    "y = data.y"
   ]
  },
  {
   "cell_type": "code",
   "execution_count": 7,
   "metadata": {
    "id": "sI24Ruws_5uQ"
   },
   "outputs": [],
   "source": [
    "# Matrix 계산을 위해 X와 y를 numpy 형태로 바꾸어줍니다. \n",
    "X = X.to_numpy()\n",
    "y = y.to_numpy()"
   ]
  },
  {
   "cell_type": "code",
   "execution_count": 8,
   "metadata": {
    "id": "oIEx1Gk5_5uR",
    "outputId": "af2ee5f2-5512-404c-91b7-a0afcfdbed01"
   },
   "outputs": [
    {
     "data": {
      "text/plain": [
       "array([[  38.9,   64.7,    4. ,  868. ,   59.7],\n",
       "       [  41.6,   45.3,   -4. ,  957. ,   61.4],\n",
       "       [  39.7,   74.1,    8. ,  786. ,   61. ],\n",
       "       [  37.3,   48. ,   19. ,  984. ,   67.5],\n",
       "       [  39.5,   51.9,    6. ,  700. ,   57.2],\n",
       "       [  37.4,   53.6,   -5. , 1037. ,   58.8],\n",
       "       [  35.1,   71.4,    3. ,  986. ,   58.6],\n",
       "       [  38.8,   58.3,    6. ,  819. ,   59.2],\n",
       "       [  36.6,   52.6,  -19. ,  791. ,   54.4]])"
      ]
     },
     "execution_count": 8,
     "metadata": {},
     "output_type": "execute_result"
    }
   ],
   "source": [
    "X"
   ]
  },
  {
   "cell_type": "code",
   "execution_count": 9,
   "metadata": {
    "id": "8xH58zzD_5uS",
    "outputId": "353a1f50-ddc0-4f27-9c69-ec6b1b2f2046"
   },
   "outputs": [
    {
     "data": {
      "text/plain": [
       "array([10, 13, 11,  7, 10,  9,  9,  6,  5], dtype=int64)"
      ]
     },
     "execution_count": 9,
     "metadata": {},
     "output_type": "execute_result"
    }
   ],
   "source": [
    "y"
   ]
  },
  {
   "cell_type": "markdown",
   "metadata": {
    "id": "F3JfJR95_5uT"
   },
   "source": [
    "### 1. Normal Equation 정규방정식"
   ]
  },
  {
   "cell_type": "markdown",
   "metadata": {},
   "source": [
    "**선형방정식**   \n",
    "$y_1 = \\beta_0 + \\beta_1x_{11} + \\beta_2x_{12} + \\beta_3x_{13} + \\beta_4x_{14} + \\beta_5x_{15} + \\varepsilon_1$   \n",
    "$y_2 = \\beta_0 + \\beta_1x_{21} + \\beta_2x_{22} + \\beta_3x_{23} + \\beta_4x_{24} + \\beta_5x_{25} + \\varepsilon_2$   \n",
    "...   \n",
    "$y_n = \\beta_0 + \\beta_1x_{n1} + \\beta_2x_{n2} + \\beta_3x_{n3} + \\beta_4x_{n4} + \\beta_5x_{n5} + \\varepsilon_n$\n",
    "<br>\n",
    "<br>\n",
    "<br>\n",
    "**행렬 표현**    \n",
    "$\n",
    "\\begin{equation*}\n",
    "\\begin{pmatrix} \n",
    "   y_{1}\\\\\n",
    "   y_{2}\\\\\n",
    "   \\cdots \\\\\n",
    "   y_{n}\\\\\n",
    "\\end{pmatrix}=\n",
    "\\begin{pmatrix}\n",
    "1 & x_{11} & x_{12} &  x_{13} & x_{14} & x_{15} \\\\\n",
    "1 & x_{21} & x_{22} &  x_{13} & x_{14} & x_{25} \\\\\n",
    "\\vdots  & \\vdots  & \\ddots & \\vdots  \\\\\n",
    "1 & x_{n1} & x_{n2} &  x_{13} & x_{14} & x_{n5} \n",
    "\\end{pmatrix}\n",
    "\\begin{pmatrix} \n",
    "   \\beta_{0}\\\\\n",
    "   \\beta_{1}\\\\\n",
    "   \\cdots \\\\\n",
    "   \\beta_{5}\\\\\n",
    "\\end{pmatrix}+\n",
    "\\begin{pmatrix} \n",
    "   \\varepsilon_{1}\\\\\n",
    "   \\varepsilon_{2}\\\\\n",
    "   \\cdots \\\\\n",
    "   \\varepsilon_{n}\\\\\n",
    "\\end{pmatrix}\n",
    "\\end{equation*}\n",
    "$    \n",
    "$y = X\\beta + \\varepsilon$ 으로 $\\beta$ 가중치와 $X$ 값의 행렬을 곱해서 $y$ 값을 예측하고 있다.\n",
    "<br>\n",
    "<br>\n",
    "<br>\n",
    "**오차(실제값 - 예측값) 제곱의 합**    \n",
    "\n",
    "$\\varepsilon$ : nx1행렬 → 오차 제곱을 위해 전치를 해야 한다.    \n",
    "$\\sum\\limits_{i=1}^{n}\\varepsilon_i^2 = \\varepsilon'\\varepsilon = (y - X\\beta)'(y - X\\beta) = (y' - \\beta'X')(y - X\\beta) = y'y + \\beta'X'X\\beta - 2\\beta'X'y$\n",
    "\n",
    "\n",
    "경사하강법(gradient descent)에 의해 $\\partial L$이 0이 될때 최소값을 가지게 된다.   \n",
    "$\\frac{\\partial L}{\\partial\\beta} = 2X'X\\beta - 2X'y = 0  →  \\beta = (X'X)^{-1}X'y$"
   ]
  },
  {
   "cell_type": "code",
   "execution_count": 10,
   "metadata": {
    "id": "Fs3H6XKI_5uX"
   },
   "outputs": [],
   "source": [
    "import numpy as np\n",
    "from numpy.linalg import inv "
   ]
  },
  {
   "cell_type": "code",
   "execution_count": 11,
   "metadata": {
    "id": "oEiAbw86_5uX"
   },
   "outputs": [],
   "source": [
    "def estimate_beta(X, y):\n",
    "    designX = np.concatenate([np.ones((len(y), 1)), X], axis=1)\n",
    "    beta_hat = np.dot(np.dot(inv(np.dot(designX.T, designX)), designX.T), y)\n",
    "    return beta_hat"
   ]
  },
  {
   "cell_type": "code",
   "execution_count": null,
   "metadata": {},
   "outputs": [],
   "source": [
    "# designX 코드 풀어보기 ; 𝑋행렬 1열에 1을 추가하는 작업"
   ]
  },
  {
   "cell_type": "code",
   "execution_count": 20,
   "metadata": {},
   "outputs": [
    {
     "data": {
      "text/plain": [
       "(9, 1)"
      ]
     },
     "execution_count": 20,
     "metadata": {},
     "output_type": "execute_result"
    }
   ],
   "source": [
    "(len(y), 1)"
   ]
  },
  {
   "cell_type": "code",
   "execution_count": 21,
   "metadata": {},
   "outputs": [
    {
     "data": {
      "text/plain": [
       "array([[1.],\n",
       "       [1.],\n",
       "       [1.],\n",
       "       [1.],\n",
       "       [1.],\n",
       "       [1.],\n",
       "       [1.],\n",
       "       [1.],\n",
       "       [1.]])"
      ]
     },
     "execution_count": 21,
     "metadata": {},
     "output_type": "execute_result"
    }
   ],
   "source": [
    "np.ones((len(y), 1))  ## 9x1 의 원소가 1인 2차원 배열"
   ]
  },
  {
   "cell_type": "code",
   "execution_count": 22,
   "metadata": {},
   "outputs": [
    {
     "data": {
      "text/plain": [
       "[array([[1.],\n",
       "        [1.],\n",
       "        [1.],\n",
       "        [1.],\n",
       "        [1.],\n",
       "        [1.],\n",
       "        [1.],\n",
       "        [1.],\n",
       "        [1.]]),\n",
       " array([[  38.9,   64.7,    4. ,  868. ,   59.7],\n",
       "        [  41.6,   45.3,   -4. ,  957. ,   61.4],\n",
       "        [  39.7,   74.1,    8. ,  786. ,   61. ],\n",
       "        [  37.3,   48. ,   19. ,  984. ,   67.5],\n",
       "        [  39.5,   51.9,    6. ,  700. ,   57.2],\n",
       "        [  37.4,   53.6,   -5. , 1037. ,   58.8],\n",
       "        [  35.1,   71.4,    3. ,  986. ,   58.6],\n",
       "        [  38.8,   58.3,    6. ,  819. ,   59.2],\n",
       "        [  36.6,   52.6,  -19. ,  791. ,   54.4]])]"
      ]
     },
     "execution_count": 22,
     "metadata": {},
     "output_type": "execute_result"
    }
   ],
   "source": [
    "[np.ones((len(y), 1)), X]  ## 배열 2개 리스트로 묶기 [(9,1), (9,5)]"
   ]
  },
  {
   "cell_type": "code",
   "execution_count": 24,
   "metadata": {},
   "outputs": [
    {
     "data": {
      "text/plain": [
       "array([[ 1.000e+00,  3.890e+01,  6.470e+01,  4.000e+00,  8.680e+02,\n",
       "         5.970e+01],\n",
       "       [ 1.000e+00,  4.160e+01,  4.530e+01, -4.000e+00,  9.570e+02,\n",
       "         6.140e+01],\n",
       "       [ 1.000e+00,  3.970e+01,  7.410e+01,  8.000e+00,  7.860e+02,\n",
       "         6.100e+01],\n",
       "       [ 1.000e+00,  3.730e+01,  4.800e+01,  1.900e+01,  9.840e+02,\n",
       "         6.750e+01],\n",
       "       [ 1.000e+00,  3.950e+01,  5.190e+01,  6.000e+00,  7.000e+02,\n",
       "         5.720e+01],\n",
       "       [ 1.000e+00,  3.740e+01,  5.360e+01, -5.000e+00,  1.037e+03,\n",
       "         5.880e+01],\n",
       "       [ 1.000e+00,  3.510e+01,  7.140e+01,  3.000e+00,  9.860e+02,\n",
       "         5.860e+01],\n",
       "       [ 1.000e+00,  3.880e+01,  5.830e+01,  6.000e+00,  8.190e+02,\n",
       "         5.920e+01],\n",
       "       [ 1.000e+00,  3.660e+01,  5.260e+01, -1.900e+01,  7.910e+02,\n",
       "         5.440e+01]])"
      ]
     },
     "execution_count": 24,
     "metadata": {},
     "output_type": "execute_result"
    }
   ],
   "source": [
    "designX = np.concatenate([np.ones((len(y), 1)), X], axis=1)    ## axis=1 ; 2차원 배열 좌→우로 합치기\n",
    "designX"
   ]
  },
  {
   "cell_type": "code",
   "execution_count": null,
   "metadata": {},
   "outputs": [],
   "source": [
    "# beta_hat 코드 풀어보기"
   ]
  },
  {
   "cell_type": "code",
   "execution_count": 26,
   "metadata": {},
   "outputs": [
    {
     "data": {
      "text/plain": [
       "array([[9.000000e+00, 3.449000e+02, 5.199000e+02, 1.800000e+01,\n",
       "        7.928000e+03, 5.378000e+02],\n",
       "       [3.449000e+02, 1.324717e+04, 1.988151e+04, 7.082000e+02,\n",
       "        3.032540e+05, 2.061940e+04],\n",
       "       [5.199000e+02, 1.988151e+04, 3.086317e+04, 1.190400e+03,\n",
       "        4.566542e+05, 3.102131e+04],\n",
       "       [1.800000e+01, 7.082000e+02, 1.190400e+03, 9.240000e+02,\n",
       "        1.648600e+04, 1.310300e+03],\n",
       "       [7.928000e+03, 3.032540e+05, 4.566542e+05, 1.648600e+04,\n",
       "        7.089332e+06, 4.752558e+05],\n",
       "       [5.378000e+02, 2.061940e+04, 3.102131e+04, 1.310300e+03,\n",
       "        4.752558e+05, 3.223854e+04]])"
      ]
     },
     "execution_count": 26,
     "metadata": {},
     "output_type": "execute_result"
    }
   ],
   "source": [
    "np.dot(designX.T, designX)    # 𝑋'𝑋 행렬곱"
   ]
  },
  {
   "cell_type": "code",
   "execution_count": 27,
   "metadata": {},
   "outputs": [
    {
     "data": {
      "text/plain": [
       "array([[ 2.13111451e+02, -1.21756821e+00, -3.94872253e-01,\n",
       "         7.73629493e-01,  1.31798148e-02, -2.62213574e+00],\n",
       "       [-1.21756821e+00,  5.21038395e-02,  1.50771775e-03,\n",
       "         4.47690658e-03,  6.09118142e-04, -2.36259498e-02],\n",
       "       [-3.94872253e-01,  1.50771775e-03,  1.74725096e-03,\n",
       "        -1.46071042e-03, -2.37466429e-05,  4.35105768e-03],\n",
       "       [ 7.73629493e-01,  4.47690658e-03, -1.46071042e-03,\n",
       "         5.86729294e-03,  2.28092916e-04, -1.79644089e-02],\n",
       "       [ 1.31798148e-02,  6.09118142e-04, -2.37466429e-05,\n",
       "         2.28092916e-04,  2.48514341e-05, -9.62226000e-04],\n",
       "       [-2.62213574e+00, -2.36259498e-02,  4.35105768e-03,\n",
       "        -1.79644089e-02, -9.62226000e-04,  6.96124654e-02]])"
      ]
     },
     "execution_count": 27,
     "metadata": {},
     "output_type": "execute_result"
    }
   ],
   "source": [
    "inv(np.dot(designX.T, designX))    # (𝑋'𝑋)−1  구한 행렬곱의 역행렬"
   ]
  },
  {
   "cell_type": "code",
   "execution_count": 28,
   "metadata": {},
   "outputs": [
    {
     "data": {
      "text/plain": [
       "array([[-1.80709367e+00, -6.90766931e+00, -7.88795071e+00,\n",
       "        -5.83975738e-01,  8.40511969e+00,  2.02698606e+00,\n",
       "         3.83995938e+00,  3.05436150e+00,  8.60262782e-01],\n",
       "       [ 4.29734602e-02,  1.32636250e-01,  3.60752826e-02,\n",
       "        -1.12042675e-01,  2.06238165e-02,  3.19941955e-02,\n",
       "        -5.15318422e-02,  1.90336818e-02, -1.19762170e-01],\n",
       "       [ 1.01283207e-02, -2.72847982e-03,  2.95194120e-02,\n",
       "        -1.21901357e-02, -2.11414900e-02, -6.31048235e-03,\n",
       "         9.97801785e-03, -5.13822140e-03, -2.11694126e-03],\n",
       "       [ 2.25180922e-03, -1.45003299e-02, -2.64855223e-02,\n",
       "        -6.17159401e-03,  4.19610447e-02,  1.36603693e-02,\n",
       "         1.62613252e-02,  2.06929027e-02, -4.76700050e-02],\n",
       "       [ 3.76626994e-04,  1.23318096e-03, -1.73563667e-03,\n",
       "        -1.40259580e-03, -2.67235194e-04,  2.73959704e-03,\n",
       "         1.66570046e-03,  1.87272254e-04, -2.79691005e-03],\n",
       "       [-1.08773684e-02,  1.73403962e-02,  1.08662916e-01,\n",
       "         1.16154369e-01, -1.29052490e-01, -8.73229171e-02,\n",
       "        -6.40986438e-02, -5.99475190e-02,  1.09141257e-01]])"
      ]
     },
     "execution_count": 28,
     "metadata": {},
     "output_type": "execute_result"
    }
   ],
   "source": [
    "np.dot(inv(np.dot(designX.T, designX)), designX.T)  # (𝑋'𝑋)−1𝑋'"
   ]
  },
  {
   "cell_type": "code",
   "execution_count": 29,
   "metadata": {},
   "outputs": [
    {
     "data": {
      "text/plain": [
       "array([-3.92447368e+01,  1.31232583e+00,  8.53744361e-02,  7.41849897e-02,\n",
       "        1.50018573e-02, -3.42273652e-01])"
      ]
     },
     "execution_count": 29,
     "metadata": {},
     "output_type": "execute_result"
    }
   ],
   "source": [
    "np.dot(np.dot(inv(np.dot(designX.T, designX)), designX.T), y)   # 𝛽 = (𝑋'𝑋)−1𝑋'𝑦"
   ]
  },
  {
   "cell_type": "code",
   "execution_count": null,
   "metadata": {},
   "outputs": [],
   "source": [
    "# 함수 적용"
   ]
  },
  {
   "cell_type": "code",
   "execution_count": 30,
   "metadata": {
    "id": "MLFE-cvl_5uY",
    "outputId": "ee491c4c-c614-4a2c-986f-0d14e2d3bf0c"
   },
   "outputs": [
    {
     "data": {
      "text/plain": [
       "array([-3.92447368e+01,  1.31232583e+00,  8.53744361e-02,  7.41849897e-02,\n",
       "        1.50018573e-02, -3.42273652e-01])"
      ]
     },
     "execution_count": 30,
     "metadata": {},
     "output_type": "execute_result"
    }
   ],
   "source": [
    "beta_hat = estimate_beta(X, y)\n",
    "beta_hat"
   ]
  },
  {
   "cell_type": "markdown",
   "metadata": {
    "id": "Kr4KXjl9_5uZ"
   },
   "source": [
    "#### 실제 값과 비교"
   ]
  },
  {
   "cell_type": "code",
   "execution_count": 31,
   "metadata": {
    "id": "Ef3Ggqo8_5uZ"
   },
   "outputs": [],
   "source": [
    "from sklearn.linear_model import LinearRegression"
   ]
  },
  {
   "cell_type": "code",
   "execution_count": 32,
   "metadata": {
    "id": "6Parv6ui_5uZ"
   },
   "outputs": [],
   "source": [
    "# 선형회귀 모델 생성\n",
    "model = LinearRegression()\n",
    "# 모델 적합\n",
    "model.fit(X, y)\n",
    "\n",
    "# 동일한 데이터에 대해 예측값 구하기\n",
    "pred = model.predict(X)"
   ]
  },
  {
   "cell_type": "code",
   "execution_count": 33,
   "metadata": {
    "id": "B2ANlaBa_5ua",
    "outputId": "66492b5d-4e30-4a93-b778-fc9b7ff58161"
   },
   "outputs": [
    {
     "name": "stdout",
     "output_type": "stream",
     "text": [
      "-39.24473678135652\n",
      "[ 1.31232583  0.08537444  0.07418499  0.01500186 -0.34227365]\n"
     ]
    }
   ],
   "source": [
    "print(model.intercept_)   # intercept\n",
    "print(model.coef_)   # 추정된 회귀계수 (intercept 제외)"
   ]
  },
  {
   "cell_type": "markdown",
   "metadata": {
    "id": "Csj01bXd_5ua"
   },
   "source": [
    "### 2. MSE"
   ]
  },
  {
   "cell_type": "code",
   "execution_count": 55,
   "metadata": {
    "id": "ADYxjyQ9_5ub"
   },
   "outputs": [],
   "source": [
    "def MSE(X, y, beta_hat):\n",
    "    # X행렬 1열에 1원소 추가\n",
    "    designX = np.concatenate([np.ones((len(y), 1)), X], axis=1)\n",
    "    # 예측값 구하기\n",
    "    y_pred = np.dot(designX, beta_hat)\n",
    "    \n",
    "    # SSE / n-p-1\n",
    "    mse = np.sum((y - y_pred)**2) / (len(y) - (X.shape[1] + 1))\n",
    "    \n",
    "    return mse"
   ]
  },
  {
   "cell_type": "code",
   "execution_count": 56,
   "metadata": {
    "id": "Q4OB-8Oa_5ub",
    "outputId": "d7baf8ce-860a-41ca-93a3-f669853c733b"
   },
   "outputs": [
    {
     "data": {
      "text/plain": [
       "4.846793168705768"
      ]
     },
     "execution_count": 56,
     "metadata": {},
     "output_type": "execute_result"
    }
   ],
   "source": [
    "MSE(X, y, estimate_beta(X, y))"
   ]
  },
  {
   "cell_type": "code",
   "execution_count": null,
   "metadata": {},
   "outputs": [],
   "source": []
  }
 ],
 "metadata": {
  "colab": {
   "name": "Regression_과제1",
   "provenance": []
  },
  "kernelspec": {
   "display_name": "Python 3 (ipykernel)",
   "language": "python",
   "name": "python3"
  },
  "language_info": {
   "codemirror_mode": {
    "name": "ipython",
    "version": 3
   },
   "file_extension": ".py",
   "mimetype": "text/x-python",
   "name": "python",
   "nbconvert_exporter": "python",
   "pygments_lexer": "ipython3",
   "version": "3.9.13"
  },
  "toc": {
   "base_numbering": 1,
   "nav_menu": {},
   "number_sections": false,
   "sideBar": true,
   "skip_h1_title": false,
   "title_cell": "Table of Contents",
   "title_sidebar": "Contents",
   "toc_cell": false,
   "toc_position": {
    "height": "calc(100% - 180px)",
    "left": "10px",
    "top": "150px",
    "width": "329.4px"
   },
   "toc_section_display": true,
   "toc_window_display": false
  }
 },
 "nbformat": 4,
 "nbformat_minor": 1
}
