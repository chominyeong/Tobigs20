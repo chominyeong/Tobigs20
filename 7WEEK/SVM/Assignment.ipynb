{
 "cells": [
  {
   "cell_type": "markdown",
   "id": "9ad88f3e",
   "metadata": {},
   "source": [
    "# Multiclass SVM 구현"
   ]
  },
  {
   "cell_type": "code",
   "execution_count": 1,
   "id": "8ebf173b",
   "metadata": {},
   "outputs": [],
   "source": [
    "import numpy as np\n",
    "import pandas as pd\n",
    "import matplotlib.pyplot as plt\n",
    "import seaborn as sns\n",
    "from sklearn.svm import SVC\n",
    "from sklearn.model_selection import train_test_split\n",
    "from sklearn.pipeline import Pipeline\n",
    "from sklearn.preprocessing import StandardScaler\n",
    "from sklearn.metrics import accuracy_score"
   ]
  },
  {
   "cell_type": "code",
   "execution_count": 2,
   "id": "1ee53277",
   "metadata": {},
   "outputs": [],
   "source": [
    "#IRIS 데이터 로드\n",
    "iris =  sns.load_dataset('iris') \n",
    "X= iris.iloc[:,:4] #학습할데이터\n",
    "y = iris.iloc[:,-1] #타겟"
   ]
  },
  {
   "cell_type": "code",
   "execution_count": 3,
   "id": "88a4203d",
   "metadata": {},
   "outputs": [],
   "source": [
    "X_train, X_test, y_train, y_test = train_test_split(X, y, test_size=0.2, random_state=48)\n",
    "\n",
    "def standardization(train, test):\n",
    "    scaler = StandardScaler()\n",
    "    train = scaler.fit_transform(train)\n",
    "    test = scaler.transform(test)\n",
    "    return train, test\n",
    "\n",
    "X_train, X_test = standardization(X_train, X_test)"
   ]
  },
  {
   "cell_type": "code",
   "execution_count": 4,
   "id": "a538e3bc",
   "metadata": {
    "scrolled": false
   },
   "outputs": [
    {
     "data": {
      "text/plain": [
       "array([[ 0.78522493,  0.32015325,  0.77221097,  1.04726529],\n",
       "       [-0.26563371, -1.29989934,  0.0982814 , -0.11996537],\n",
       "       [ 0.43493872,  0.78302542,  0.94069336,  1.43634218],\n",
       "       [-0.84944407,  0.78302542, -1.24957775, -1.28719604],\n",
       "       [-0.38239578, -1.7627715 ,  0.15444219,  0.13941922],\n",
       "       [ 0.55170079, -0.374155  ,  1.05301496,  0.7878807 ],\n",
       "       [ 0.31817664, -0.14271892,  0.65988937,  0.7878807 ],\n",
       "       [ 0.20141457, -0.374155  ,  0.43524618,  0.39880381],\n",
       "       [-1.66677857, -0.14271892, -1.36189934, -1.28719604],\n",
       "       [-0.14887164, -0.60559109,  0.21060299,  0.13941922],\n",
       "       [-0.14887164, -1.06846325, -0.12636179, -0.24965767],\n",
       "       [ 0.31817664, -0.60559109,  0.15444219,  0.13941922],\n",
       "       [ 0.66846286, -0.83702717,  0.88453256,  0.91757299],\n",
       "       [ 0.0846525 , -0.14271892,  0.77221097,  0.7878807 ],\n",
       "       [-0.49915786, -0.14271892,  0.43524618,  0.39880381],\n",
       "       [-0.26563371, -0.60559109,  0.65988937,  1.04726529],\n",
       "       [ 2.18636979,  1.70876975,  1.67078373,  1.30664988],\n",
       "       [-0.49915786,  1.94020584, -1.13725615, -1.02781144],\n",
       "       [-0.96620614,  1.0144615 , -1.36189934, -1.15750374],\n",
       "       [ 1.60255943,  0.32015325,  1.27765815,  0.7878807 ],\n",
       "       [-0.84944407,  1.70876975, -1.02493456, -1.02781144],\n",
       "       [ 0.901987  , -0.14271892,  0.37908538,  0.26911151],\n",
       "       [-1.19973028,  0.78302542, -1.02493456, -1.28719604],\n",
       "       [-0.61591993,  1.47733367, -1.24957775, -1.28719604],\n",
       "       [-0.49915786,  1.47733367, -1.24957775, -1.28719604],\n",
       "       [-0.03210957, -0.83702717,  0.77221097,  0.91757299],\n",
       "       [-1.31649236,  0.32015325, -1.19341695, -1.28719604],\n",
       "       [ 1.25227322,  0.08871717,  0.94069336,  1.17695758],\n",
       "       [-1.08296821,  0.08871717, -1.24957775, -1.41688833],\n",
       "       [-1.08296821, -1.29989934,  0.43524618,  0.6581884 ],\n",
       "       [ 0.43493872, -0.374155  ,  0.32292459,  0.13941922],\n",
       "       [ 1.60255943,  1.24589758,  1.33381894,  1.69572677],\n",
       "       [ 0.31817664, -0.374155  ,  0.54756778,  0.26911151],\n",
       "       [ 1.83608357, -0.60559109,  1.33381894,  0.91757299],\n",
       "       [-0.03210957, -0.83702717,  0.0982814 ,  0.00972692],\n",
       "       [ 0.20141457, -1.99420759,  0.71605017,  0.39880381],\n",
       "       [ 1.01874907,  0.08871717,  1.05301496,  1.56603447],\n",
       "       [-0.84944407,  1.0144615 , -1.30573855, -1.15750374],\n",
       "       [-0.14887164, -0.14271892,  0.26676379,  0.00972692],\n",
       "       [-0.38239578, -1.53133542,  0.0421206 , -0.11996537],\n",
       "       [ 0.55170079, -1.29989934,  0.71605017,  0.91757299],\n",
       "       [ 1.48579736, -0.14271892,  1.22149735,  1.17695758],\n",
       "       [-0.38239578, -1.06846325,  0.37908538,  0.00972692],\n",
       "       [-0.96620614, -1.7627715 , -0.23868339, -0.24965767],\n",
       "       [ 1.25227322,  0.08871717,  0.77221097,  1.43634218],\n",
       "       [ 0.66846286, -0.60559109,  1.05301496,  1.17695758],\n",
       "       [ 0.43493872, -1.99420759,  0.43524618,  0.39880381],\n",
       "       [-0.14887164, -0.60559109,  0.43524618,  0.13941922],\n",
       "       [-0.732682  , -0.83702717,  0.0982814 ,  0.26911151],\n",
       "       [ 2.06960772, -0.14271892,  1.61462293,  1.17695758],\n",
       "       [ 1.13551115, -0.60559109,  0.60372857,  0.26911151],\n",
       "       [-0.84944407, -1.29989934, -0.40716578, -0.11996537],\n",
       "       [-0.14887164, -1.29989934,  0.71605017,  1.04726529],\n",
       "       [ 0.66846286, -0.374155  ,  0.32292459,  0.13941922],\n",
       "       [ 1.01874907,  0.08871717,  0.37908538,  0.26911151],\n",
       "       [-0.26563371, -0.83702717,  0.26676379,  0.13941922],\n",
       "       [ 1.25227322,  0.08871717,  0.65988937,  0.39880381],\n",
       "       [-0.84944407,  0.55158933, -1.13725615, -0.89811915],\n",
       "       [-1.08296821, -0.14271892, -1.30573855, -1.28719604],\n",
       "       [ 0.20141457, -0.83702717,  0.77221097,  0.52849611],\n",
       "       [-1.08296821, -1.53133542, -0.23868339, -0.24965767],\n",
       "       [-0.03210957,  2.17164192, -1.41806014, -1.28719604],\n",
       "       [-0.96620614,  1.0144615 , -1.19341695, -0.76842685],\n",
       "       [ 0.55170079, -0.83702717,  0.65988937,  0.7878807 ],\n",
       "       [ 1.7193215 , -0.374155  ,  1.44614054,  0.7878807 ],\n",
       "       [-0.732682  ,  2.403078  , -1.24957775, -1.41688833],\n",
       "       [-0.14887164,  3.09738625, -1.24957775, -1.02781144],\n",
       "       [ 1.13551115, -0.14271892,  0.99685416,  1.17695758],\n",
       "       [-1.43325443,  0.08871717, -1.24957775, -1.28719604],\n",
       "       [-0.03210957, -0.83702717,  0.21060299, -0.24965767],\n",
       "       [ 1.01874907, -0.14271892,  0.82837177,  1.43634218],\n",
       "       [ 1.36903529,  0.32015325,  0.54756778,  0.26911151],\n",
       "       [-0.96620614,  0.32015325, -1.41806014, -1.28719604],\n",
       "       [-0.96620614,  0.78302542, -1.24957775, -1.28719604],\n",
       "       [ 0.55170079,  0.55158933,  1.27765815,  1.69572677],\n",
       "       [ 2.18636979, -0.60559109,  1.67078373,  1.04726529],\n",
       "       [ 0.0846525 , -0.14271892,  0.26676379,  0.39880381],\n",
       "       [-1.31649236,  0.32015325, -1.36189934, -1.28719604],\n",
       "       [ 0.66846286,  0.32015325,  0.88453256,  1.43634218],\n",
       "       [-0.96620614,  0.78302542, -1.19341695, -1.02781144],\n",
       "       [ 0.20141457,  0.78302542,  0.43524618,  0.52849611],\n",
       "       [-1.19973028, -0.14271892, -1.30573855, -1.41688833],\n",
       "       [ 1.01874907,  0.55158933,  1.10917575,  1.17695758],\n",
       "       [ 0.78522493, -0.60559109,  0.49140698,  0.39880381],\n",
       "       [-1.43325443,  1.24589758, -1.53038174, -1.28719604],\n",
       "       [-0.03210957, -0.60559109,  0.77221097,  1.56603447],\n",
       "       [-1.78354064, -0.14271892, -1.47422094, -1.41688833],\n",
       "       [ 1.01874907, -1.29989934,  1.16533655,  0.7878807 ],\n",
       "       [-1.08296821,  1.24589758, -1.30573855, -1.41688833],\n",
       "       [-0.49915786,  1.94020584, -1.36189934, -1.02781144],\n",
       "       [-1.43325443,  0.32015325, -1.30573855, -1.28719604],\n",
       "       [-0.03210957, -0.83702717,  0.77221097,  0.91757299],\n",
       "       [ 0.55170079, -0.60559109,  0.77221097,  0.39880381],\n",
       "       [-0.96620614,  0.55158933, -1.30573855, -1.28719604],\n",
       "       [ 2.41989393,  1.70876975,  1.50230134,  1.04726529],\n",
       "       [-1.66677857,  0.32015325, -1.36189934, -1.28719604],\n",
       "       [-1.19973028, -0.14271892, -1.30573855, -1.15750374],\n",
       "       [ 1.01874907,  0.55158933,  1.10917575,  1.69572677],\n",
       "       [-0.96620614, -2.45707976, -0.12636179, -0.24965767],\n",
       "       [-0.732682  ,  1.0144615 , -1.24957775, -1.28719604],\n",
       "       [ 2.18636979, -1.06846325,  1.78310533,  1.43634218],\n",
       "       [ 1.13551115,  0.32015325,  1.22149735,  1.43634218],\n",
       "       [-0.96620614, -0.14271892, -1.19341695, -1.28719604],\n",
       "       [-0.84944407,  1.47733367, -1.24957775, -1.02781144],\n",
       "       [ 2.18636979, -0.14271892,  1.33381894,  1.43634218],\n",
       "       [-0.14887164,  1.70876975, -1.13725615, -1.15750374],\n",
       "       [-0.26563371, -0.14271892,  0.43524618,  0.39880381],\n",
       "       [-1.19973028,  0.08871717, -1.19341695, -1.28719604],\n",
       "       [ 0.78522493, -0.14271892,  1.16533655,  1.30664988],\n",
       "       [ 0.901987  , -0.374155  ,  0.49140698,  0.13941922],\n",
       "       [-0.732682  ,  0.78302542, -1.30573855, -1.28719604],\n",
       "       [-0.84944407,  1.70876975, -1.19341695, -1.28719604],\n",
       "       [-1.43325443,  0.78302542, -1.30573855, -1.15750374],\n",
       "       [-0.03210957, -1.06846325,  0.15444219,  0.00972692],\n",
       "       [-1.08296821,  0.08871717, -1.24957775, -1.28719604],\n",
       "       [-0.26563371, -0.374155  , -0.070201  ,  0.13941922],\n",
       "       [ 0.31817664, -0.14271892,  0.49140698,  0.26911151],\n",
       "       [-0.38239578, -1.53133542, -0.0140402 , -0.24965767],\n",
       "       [ 0.66846286,  0.32015325,  0.43524618,  0.39880381],\n",
       "       [-0.84944407,  1.0144615 , -1.30573855, -1.28719604]])"
      ]
     },
     "execution_count": 4,
     "metadata": {},
     "output_type": "execute_result"
    }
   ],
   "source": [
    "X_train"
   ]
  },
  {
   "cell_type": "code",
   "execution_count": 5,
   "id": "b5f6ef02",
   "metadata": {},
   "outputs": [
    {
     "data": {
      "text/plain": [
       "array([[-0.14887164, -0.374155  ,  0.26676379,  0.13941922],\n",
       "       [ 0.31817664, -0.60559109,  0.54756778,  0.00972692],\n",
       "       [ 0.31817664, -1.06846325,  1.05301496,  0.26911151],\n",
       "       [-1.5500165 , -1.7627715 , -1.36189934, -1.15750374],\n",
       "       [ 0.0846525 ,  0.32015325,  0.60372857,  0.7878807 ],\n",
       "       [ 0.78522493, -0.14271892,  0.99685416,  0.7878807 ],\n",
       "       [-0.84944407,  1.70876975, -1.24957775, -1.15750374],\n",
       "       [ 0.20141457, -0.14271892,  0.60372857,  0.7878807 ],\n",
       "       [-0.38239578,  2.63451409, -1.30573855, -1.28719604],\n",
       "       [-0.38239578, -1.29989934,  0.15444219,  0.13941922],\n",
       "       [ 0.66846286,  0.08871717,  0.99685416,  0.7878807 ],\n",
       "       [-0.38239578,  1.0144615 , -1.36189934, -1.28719604],\n",
       "       [-0.49915786,  0.78302542, -1.13725615, -1.28719604],\n",
       "       [ 0.43493872, -0.60559109,  0.60372857,  0.7878807 ],\n",
       "       [ 0.55170079, -1.7627715 ,  0.37908538,  0.13941922],\n",
       "       [ 0.55170079,  0.55158933,  0.54756778,  0.52849611],\n",
       "       [-1.19973028,  0.78302542, -1.19341695, -1.28719604],\n",
       "       [ 0.20141457, -1.99420759,  0.15444219, -0.24965767],\n",
       "       [ 0.55170079, -1.29989934,  0.65988937,  0.39880381],\n",
       "       [ 1.25227322,  0.32015325,  1.10917575,  1.43634218],\n",
       "       [-1.66677857, -0.374155  , -1.30573855, -1.28719604],\n",
       "       [ 0.78522493, -0.14271892,  0.82837177,  1.04726529],\n",
       "       [ 1.01874907, -0.14271892,  0.71605017,  0.6581884 ],\n",
       "       [ 1.01874907,  0.08871717,  0.54756778,  0.39880381],\n",
       "       [ 1.60255943, -0.14271892,  1.16533655,  0.52849611],\n",
       "       [-0.96620614,  1.24589758, -1.30573855, -1.28719604],\n",
       "       [-0.49915786,  0.78302542, -1.24957775, -1.02781144],\n",
       "       [ 0.55170079,  0.78302542,  1.05301496,  1.56603447],\n",
       "       [ 0.66846286, -0.60559109,  1.05301496,  1.30664988],\n",
       "       [-0.26563371, -0.14271892,  0.21060299,  0.13941922]])"
      ]
     },
     "execution_count": 5,
     "metadata": {},
     "output_type": "execute_result"
    }
   ],
   "source": [
    "X_test"
   ]
  },
  {
   "cell_type": "code",
   "execution_count": 6,
   "id": "8a3c2fd6",
   "metadata": {},
   "outputs": [
    {
     "data": {
      "text/html": [
       "<div>\n",
       "<style scoped>\n",
       "    .dataframe tbody tr th:only-of-type {\n",
       "        vertical-align: middle;\n",
       "    }\n",
       "\n",
       "    .dataframe tbody tr th {\n",
       "        vertical-align: top;\n",
       "    }\n",
       "\n",
       "    .dataframe thead th {\n",
       "        text-align: right;\n",
       "    }\n",
       "</style>\n",
       "<table border=\"1\" class=\"dataframe\">\n",
       "  <thead>\n",
       "    <tr style=\"text-align: right;\">\n",
       "      <th></th>\n",
       "      <th>setosa</th>\n",
       "      <th>versicolor</th>\n",
       "      <th>virginica</th>\n",
       "    </tr>\n",
       "  </thead>\n",
       "  <tbody>\n",
       "    <tr>\n",
       "      <th>110</th>\n",
       "      <td>0</td>\n",
       "      <td>0</td>\n",
       "      <td>1</td>\n",
       "    </tr>\n",
       "    <tr>\n",
       "      <th>69</th>\n",
       "      <td>0</td>\n",
       "      <td>1</td>\n",
       "      <td>0</td>\n",
       "    </tr>\n",
       "    <tr>\n",
       "      <th>148</th>\n",
       "      <td>0</td>\n",
       "      <td>0</td>\n",
       "      <td>1</td>\n",
       "    </tr>\n",
       "    <tr>\n",
       "      <th>39</th>\n",
       "      <td>1</td>\n",
       "      <td>0</td>\n",
       "      <td>0</td>\n",
       "    </tr>\n",
       "    <tr>\n",
       "      <th>53</th>\n",
       "      <td>0</td>\n",
       "      <td>1</td>\n",
       "      <td>0</td>\n",
       "    </tr>\n",
       "    <tr>\n",
       "      <th>...</th>\n",
       "      <td>...</td>\n",
       "      <td>...</td>\n",
       "      <td>...</td>\n",
       "    </tr>\n",
       "    <tr>\n",
       "      <th>64</th>\n",
       "      <td>0</td>\n",
       "      <td>1</td>\n",
       "      <td>0</td>\n",
       "    </tr>\n",
       "    <tr>\n",
       "      <th>91</th>\n",
       "      <td>0</td>\n",
       "      <td>1</td>\n",
       "      <td>0</td>\n",
       "    </tr>\n",
       "    <tr>\n",
       "      <th>81</th>\n",
       "      <td>0</td>\n",
       "      <td>1</td>\n",
       "      <td>0</td>\n",
       "    </tr>\n",
       "    <tr>\n",
       "      <th>51</th>\n",
       "      <td>0</td>\n",
       "      <td>1</td>\n",
       "      <td>0</td>\n",
       "    </tr>\n",
       "    <tr>\n",
       "      <th>0</th>\n",
       "      <td>1</td>\n",
       "      <td>0</td>\n",
       "      <td>0</td>\n",
       "    </tr>\n",
       "  </tbody>\n",
       "</table>\n",
       "<p>120 rows × 3 columns</p>\n",
       "</div>"
      ],
      "text/plain": [
       "     setosa  versicolor  virginica\n",
       "110       0           0          1\n",
       "69        0           1          0\n",
       "148       0           0          1\n",
       "39        1           0          0\n",
       "53        0           1          0\n",
       "..      ...         ...        ...\n",
       "64        0           1          0\n",
       "91        0           1          0\n",
       "81        0           1          0\n",
       "51        0           1          0\n",
       "0         1           0          0\n",
       "\n",
       "[120 rows x 3 columns]"
      ]
     },
     "execution_count": 6,
     "metadata": {},
     "output_type": "execute_result"
    }
   ],
   "source": [
    "# one-hot 인코딩\n",
    "y_train = pd.get_dummies(y_train)\n",
    "y_train"
   ]
  },
  {
   "cell_type": "markdown",
   "id": "5f665ce2",
   "metadata": {},
   "source": [
    "### Setosa vs (Versicolor, Virginica)"
   ]
  },
  {
   "cell_type": "code",
   "execution_count": 7,
   "id": "2bb23794",
   "metadata": {},
   "outputs": [
    {
     "data": {
      "text/html": [
       "<style>#sk-container-id-1 {color: black;background-color: white;}#sk-container-id-1 pre{padding: 0;}#sk-container-id-1 div.sk-toggleable {background-color: white;}#sk-container-id-1 label.sk-toggleable__label {cursor: pointer;display: block;width: 100%;margin-bottom: 0;padding: 0.3em;box-sizing: border-box;text-align: center;}#sk-container-id-1 label.sk-toggleable__label-arrow:before {content: \"▸\";float: left;margin-right: 0.25em;color: #696969;}#sk-container-id-1 label.sk-toggleable__label-arrow:hover:before {color: black;}#sk-container-id-1 div.sk-estimator:hover label.sk-toggleable__label-arrow:before {color: black;}#sk-container-id-1 div.sk-toggleable__content {max-height: 0;max-width: 0;overflow: hidden;text-align: left;background-color: #f0f8ff;}#sk-container-id-1 div.sk-toggleable__content pre {margin: 0.2em;color: black;border-radius: 0.25em;background-color: #f0f8ff;}#sk-container-id-1 input.sk-toggleable__control:checked~div.sk-toggleable__content {max-height: 200px;max-width: 100%;overflow: auto;}#sk-container-id-1 input.sk-toggleable__control:checked~label.sk-toggleable__label-arrow:before {content: \"▾\";}#sk-container-id-1 div.sk-estimator input.sk-toggleable__control:checked~label.sk-toggleable__label {background-color: #d4ebff;}#sk-container-id-1 div.sk-label input.sk-toggleable__control:checked~label.sk-toggleable__label {background-color: #d4ebff;}#sk-container-id-1 input.sk-hidden--visually {border: 0;clip: rect(1px 1px 1px 1px);clip: rect(1px, 1px, 1px, 1px);height: 1px;margin: -1px;overflow: hidden;padding: 0;position: absolute;width: 1px;}#sk-container-id-1 div.sk-estimator {font-family: monospace;background-color: #f0f8ff;border: 1px dotted black;border-radius: 0.25em;box-sizing: border-box;margin-bottom: 0.5em;}#sk-container-id-1 div.sk-estimator:hover {background-color: #d4ebff;}#sk-container-id-1 div.sk-parallel-item::after {content: \"\";width: 100%;border-bottom: 1px solid gray;flex-grow: 1;}#sk-container-id-1 div.sk-label:hover label.sk-toggleable__label {background-color: #d4ebff;}#sk-container-id-1 div.sk-serial::before {content: \"\";position: absolute;border-left: 1px solid gray;box-sizing: border-box;top: 0;bottom: 0;left: 50%;z-index: 0;}#sk-container-id-1 div.sk-serial {display: flex;flex-direction: column;align-items: center;background-color: white;padding-right: 0.2em;padding-left: 0.2em;position: relative;}#sk-container-id-1 div.sk-item {position: relative;z-index: 1;}#sk-container-id-1 div.sk-parallel {display: flex;align-items: stretch;justify-content: center;background-color: white;position: relative;}#sk-container-id-1 div.sk-item::before, #sk-container-id-1 div.sk-parallel-item::before {content: \"\";position: absolute;border-left: 1px solid gray;box-sizing: border-box;top: 0;bottom: 0;left: 50%;z-index: -1;}#sk-container-id-1 div.sk-parallel-item {display: flex;flex-direction: column;z-index: 1;position: relative;background-color: white;}#sk-container-id-1 div.sk-parallel-item:first-child::after {align-self: flex-end;width: 50%;}#sk-container-id-1 div.sk-parallel-item:last-child::after {align-self: flex-start;width: 50%;}#sk-container-id-1 div.sk-parallel-item:only-child::after {width: 0;}#sk-container-id-1 div.sk-dashed-wrapped {border: 1px dashed gray;margin: 0 0.4em 0.5em 0.4em;box-sizing: border-box;padding-bottom: 0.4em;background-color: white;}#sk-container-id-1 div.sk-label label {font-family: monospace;font-weight: bold;display: inline-block;line-height: 1.2em;}#sk-container-id-1 div.sk-label-container {text-align: center;}#sk-container-id-1 div.sk-container {/* jupyter's `normalize.less` sets `[hidden] { display: none; }` but bootstrap.min.css set `[hidden] { display: none !important; }` so we also need the `!important` here to be able to override the default hidden behavior on the sphinx rendered scikit-learn.org. See: https://github.com/scikit-learn/scikit-learn/issues/21755 */display: inline-block !important;position: relative;}#sk-container-id-1 div.sk-text-repr-fallback {display: none;}</style><div id=\"sk-container-id-1\" class=\"sk-top-container\"><div class=\"sk-text-repr-fallback\"><pre>SVC()</pre><b>In a Jupyter environment, please rerun this cell to show the HTML representation or trust the notebook. <br />On GitHub, the HTML representation is unable to render, please try loading this page with nbviewer.org.</b></div><div class=\"sk-container\" hidden><div class=\"sk-item\"><div class=\"sk-estimator sk-toggleable\"><input class=\"sk-toggleable__control sk-hidden--visually\" id=\"sk-estimator-id-1\" type=\"checkbox\" checked><label for=\"sk-estimator-id-1\" class=\"sk-toggleable__label sk-toggleable__label-arrow\">SVC</label><div class=\"sk-toggleable__content\"><pre>SVC()</pre></div></div></div></div></div>"
      ],
      "text/plain": [
       "SVC()"
      ]
     },
     "execution_count": 7,
     "metadata": {},
     "output_type": "execute_result"
    }
   ],
   "source": [
    "svm1 = SVC()\n",
    "svm1.fit(X_train, y_train.iloc[:,0])"
   ]
  },
  {
   "cell_type": "code",
   "execution_count": 8,
   "id": "8d6420ac",
   "metadata": {},
   "outputs": [
    {
     "data": {
      "text/plain": [
       "array([0, 0, 0, 0, 0, 0, 1, 0, 1, 0, 0, 1, 1, 0, 0, 0, 1, 0, 0, 0, 1, 0,\n",
       "       0, 0, 0, 1, 1, 0, 0, 0], dtype=uint8)"
      ]
     },
     "execution_count": 8,
     "metadata": {},
     "output_type": "execute_result"
    }
   ],
   "source": [
    "svm1.predict(X_test)"
   ]
  },
  {
   "cell_type": "code",
   "execution_count": 9,
   "id": "7fae001c",
   "metadata": {},
   "outputs": [
    {
     "data": {
      "text/plain": [
       "array([-1.12800812, -1.16251843, -1.1422978 , -0.08568098, -1.17027451,\n",
       "       -1.23267582,  1.09183692, -1.2512859 ,  1.02069728, -1.2643363 ,\n",
       "       -1.23088294,  1.10969518,  1.09329371, -1.25623518, -1.04702622,\n",
       "       -1.12673257,  1.1923107 , -1.02360898, -1.15249844, -1.1523064 ,\n",
       "        0.88066583, -1.22401144, -1.21240853, -1.14948774, -1.13066337,\n",
       "        1.17327079,  1.04484236, -1.03358459, -1.13006558, -1.02256327])"
      ]
     },
     "execution_count": 9,
     "metadata": {},
     "output_type": "execute_result"
    }
   ],
   "source": [
    "lst1 = svm1.decision_function(X_test)\n",
    "lst1"
   ]
  },
  {
   "cell_type": "markdown",
   "id": "075a7763",
   "metadata": {},
   "source": [
    "### Versicolor vs (Setosa, Virginica)"
   ]
  },
  {
   "cell_type": "code",
   "execution_count": 10,
   "id": "d32925b5",
   "metadata": {},
   "outputs": [
    {
     "data": {
      "text/html": [
       "<style>#sk-container-id-2 {color: black;background-color: white;}#sk-container-id-2 pre{padding: 0;}#sk-container-id-2 div.sk-toggleable {background-color: white;}#sk-container-id-2 label.sk-toggleable__label {cursor: pointer;display: block;width: 100%;margin-bottom: 0;padding: 0.3em;box-sizing: border-box;text-align: center;}#sk-container-id-2 label.sk-toggleable__label-arrow:before {content: \"▸\";float: left;margin-right: 0.25em;color: #696969;}#sk-container-id-2 label.sk-toggleable__label-arrow:hover:before {color: black;}#sk-container-id-2 div.sk-estimator:hover label.sk-toggleable__label-arrow:before {color: black;}#sk-container-id-2 div.sk-toggleable__content {max-height: 0;max-width: 0;overflow: hidden;text-align: left;background-color: #f0f8ff;}#sk-container-id-2 div.sk-toggleable__content pre {margin: 0.2em;color: black;border-radius: 0.25em;background-color: #f0f8ff;}#sk-container-id-2 input.sk-toggleable__control:checked~div.sk-toggleable__content {max-height: 200px;max-width: 100%;overflow: auto;}#sk-container-id-2 input.sk-toggleable__control:checked~label.sk-toggleable__label-arrow:before {content: \"▾\";}#sk-container-id-2 div.sk-estimator input.sk-toggleable__control:checked~label.sk-toggleable__label {background-color: #d4ebff;}#sk-container-id-2 div.sk-label input.sk-toggleable__control:checked~label.sk-toggleable__label {background-color: #d4ebff;}#sk-container-id-2 input.sk-hidden--visually {border: 0;clip: rect(1px 1px 1px 1px);clip: rect(1px, 1px, 1px, 1px);height: 1px;margin: -1px;overflow: hidden;padding: 0;position: absolute;width: 1px;}#sk-container-id-2 div.sk-estimator {font-family: monospace;background-color: #f0f8ff;border: 1px dotted black;border-radius: 0.25em;box-sizing: border-box;margin-bottom: 0.5em;}#sk-container-id-2 div.sk-estimator:hover {background-color: #d4ebff;}#sk-container-id-2 div.sk-parallel-item::after {content: \"\";width: 100%;border-bottom: 1px solid gray;flex-grow: 1;}#sk-container-id-2 div.sk-label:hover label.sk-toggleable__label {background-color: #d4ebff;}#sk-container-id-2 div.sk-serial::before {content: \"\";position: absolute;border-left: 1px solid gray;box-sizing: border-box;top: 0;bottom: 0;left: 50%;z-index: 0;}#sk-container-id-2 div.sk-serial {display: flex;flex-direction: column;align-items: center;background-color: white;padding-right: 0.2em;padding-left: 0.2em;position: relative;}#sk-container-id-2 div.sk-item {position: relative;z-index: 1;}#sk-container-id-2 div.sk-parallel {display: flex;align-items: stretch;justify-content: center;background-color: white;position: relative;}#sk-container-id-2 div.sk-item::before, #sk-container-id-2 div.sk-parallel-item::before {content: \"\";position: absolute;border-left: 1px solid gray;box-sizing: border-box;top: 0;bottom: 0;left: 50%;z-index: -1;}#sk-container-id-2 div.sk-parallel-item {display: flex;flex-direction: column;z-index: 1;position: relative;background-color: white;}#sk-container-id-2 div.sk-parallel-item:first-child::after {align-self: flex-end;width: 50%;}#sk-container-id-2 div.sk-parallel-item:last-child::after {align-self: flex-start;width: 50%;}#sk-container-id-2 div.sk-parallel-item:only-child::after {width: 0;}#sk-container-id-2 div.sk-dashed-wrapped {border: 1px dashed gray;margin: 0 0.4em 0.5em 0.4em;box-sizing: border-box;padding-bottom: 0.4em;background-color: white;}#sk-container-id-2 div.sk-label label {font-family: monospace;font-weight: bold;display: inline-block;line-height: 1.2em;}#sk-container-id-2 div.sk-label-container {text-align: center;}#sk-container-id-2 div.sk-container {/* jupyter's `normalize.less` sets `[hidden] { display: none; }` but bootstrap.min.css set `[hidden] { display: none !important; }` so we also need the `!important` here to be able to override the default hidden behavior on the sphinx rendered scikit-learn.org. See: https://github.com/scikit-learn/scikit-learn/issues/21755 */display: inline-block !important;position: relative;}#sk-container-id-2 div.sk-text-repr-fallback {display: none;}</style><div id=\"sk-container-id-2\" class=\"sk-top-container\"><div class=\"sk-text-repr-fallback\"><pre>SVC()</pre><b>In a Jupyter environment, please rerun this cell to show the HTML representation or trust the notebook. <br />On GitHub, the HTML representation is unable to render, please try loading this page with nbviewer.org.</b></div><div class=\"sk-container\" hidden><div class=\"sk-item\"><div class=\"sk-estimator sk-toggleable\"><input class=\"sk-toggleable__control sk-hidden--visually\" id=\"sk-estimator-id-2\" type=\"checkbox\" checked><label for=\"sk-estimator-id-2\" class=\"sk-toggleable__label sk-toggleable__label-arrow\">SVC</label><div class=\"sk-toggleable__content\"><pre>SVC()</pre></div></div></div></div></div>"
      ],
      "text/plain": [
       "SVC()"
      ]
     },
     "execution_count": 10,
     "metadata": {},
     "output_type": "execute_result"
    }
   ],
   "source": [
    "svm2 = SVC()\n",
    "svm2.fit(X_train, y_train.iloc[:,1])"
   ]
  },
  {
   "cell_type": "code",
   "execution_count": 11,
   "id": "bae59023",
   "metadata": {},
   "outputs": [
    {
     "data": {
      "text/plain": [
       "array([1, 1, 0, 0, 1, 0, 0, 0, 0, 1, 0, 0, 0, 0, 1, 1, 0, 1, 1, 0, 0, 0,\n",
       "       1, 1, 0, 0, 0, 0, 0, 1], dtype=uint8)"
      ]
     },
     "execution_count": 11,
     "metadata": {},
     "output_type": "execute_result"
    }
   ],
   "source": [
    "svm2.predict(X_test)"
   ]
  },
  {
   "cell_type": "code",
   "execution_count": 12,
   "id": "36b0bd37",
   "metadata": {},
   "outputs": [
    {
     "data": {
      "text/plain": [
       "array([ 1.22902861,  1.18021327, -0.17897727, -0.18270157,  0.11157081,\n",
       "       -0.62302972, -1.30208112, -0.1161839 , -1.11408288,  0.98146982,\n",
       "       -0.50352989, -1.22949294, -1.09831885, -0.35890882,  0.58081027,\n",
       "        0.69274083, -1.43031588,  1.07405999,  0.047718  , -1.42480972,\n",
       "       -1.11371034, -0.89665337,  0.04194481,  0.8041226 , -0.32973119,\n",
       "       -1.43978879, -1.02086281, -1.26618241, -1.86832122,  1.23359629])"
      ]
     },
     "execution_count": 12,
     "metadata": {},
     "output_type": "execute_result"
    }
   ],
   "source": [
    "lst2 = svm2.decision_function(X_test)\n",
    "lst2"
   ]
  },
  {
   "cell_type": "markdown",
   "id": "9e344872",
   "metadata": {},
   "source": [
    "### Virsinica vs (Setosa, Versicolor)"
   ]
  },
  {
   "cell_type": "code",
   "execution_count": 13,
   "id": "cafde050",
   "metadata": {},
   "outputs": [
    {
     "data": {
      "text/html": [
       "<style>#sk-container-id-3 {color: black;background-color: white;}#sk-container-id-3 pre{padding: 0;}#sk-container-id-3 div.sk-toggleable {background-color: white;}#sk-container-id-3 label.sk-toggleable__label {cursor: pointer;display: block;width: 100%;margin-bottom: 0;padding: 0.3em;box-sizing: border-box;text-align: center;}#sk-container-id-3 label.sk-toggleable__label-arrow:before {content: \"▸\";float: left;margin-right: 0.25em;color: #696969;}#sk-container-id-3 label.sk-toggleable__label-arrow:hover:before {color: black;}#sk-container-id-3 div.sk-estimator:hover label.sk-toggleable__label-arrow:before {color: black;}#sk-container-id-3 div.sk-toggleable__content {max-height: 0;max-width: 0;overflow: hidden;text-align: left;background-color: #f0f8ff;}#sk-container-id-3 div.sk-toggleable__content pre {margin: 0.2em;color: black;border-radius: 0.25em;background-color: #f0f8ff;}#sk-container-id-3 input.sk-toggleable__control:checked~div.sk-toggleable__content {max-height: 200px;max-width: 100%;overflow: auto;}#sk-container-id-3 input.sk-toggleable__control:checked~label.sk-toggleable__label-arrow:before {content: \"▾\";}#sk-container-id-3 div.sk-estimator input.sk-toggleable__control:checked~label.sk-toggleable__label {background-color: #d4ebff;}#sk-container-id-3 div.sk-label input.sk-toggleable__control:checked~label.sk-toggleable__label {background-color: #d4ebff;}#sk-container-id-3 input.sk-hidden--visually {border: 0;clip: rect(1px 1px 1px 1px);clip: rect(1px, 1px, 1px, 1px);height: 1px;margin: -1px;overflow: hidden;padding: 0;position: absolute;width: 1px;}#sk-container-id-3 div.sk-estimator {font-family: monospace;background-color: #f0f8ff;border: 1px dotted black;border-radius: 0.25em;box-sizing: border-box;margin-bottom: 0.5em;}#sk-container-id-3 div.sk-estimator:hover {background-color: #d4ebff;}#sk-container-id-3 div.sk-parallel-item::after {content: \"\";width: 100%;border-bottom: 1px solid gray;flex-grow: 1;}#sk-container-id-3 div.sk-label:hover label.sk-toggleable__label {background-color: #d4ebff;}#sk-container-id-3 div.sk-serial::before {content: \"\";position: absolute;border-left: 1px solid gray;box-sizing: border-box;top: 0;bottom: 0;left: 50%;z-index: 0;}#sk-container-id-3 div.sk-serial {display: flex;flex-direction: column;align-items: center;background-color: white;padding-right: 0.2em;padding-left: 0.2em;position: relative;}#sk-container-id-3 div.sk-item {position: relative;z-index: 1;}#sk-container-id-3 div.sk-parallel {display: flex;align-items: stretch;justify-content: center;background-color: white;position: relative;}#sk-container-id-3 div.sk-item::before, #sk-container-id-3 div.sk-parallel-item::before {content: \"\";position: absolute;border-left: 1px solid gray;box-sizing: border-box;top: 0;bottom: 0;left: 50%;z-index: -1;}#sk-container-id-3 div.sk-parallel-item {display: flex;flex-direction: column;z-index: 1;position: relative;background-color: white;}#sk-container-id-3 div.sk-parallel-item:first-child::after {align-self: flex-end;width: 50%;}#sk-container-id-3 div.sk-parallel-item:last-child::after {align-self: flex-start;width: 50%;}#sk-container-id-3 div.sk-parallel-item:only-child::after {width: 0;}#sk-container-id-3 div.sk-dashed-wrapped {border: 1px dashed gray;margin: 0 0.4em 0.5em 0.4em;box-sizing: border-box;padding-bottom: 0.4em;background-color: white;}#sk-container-id-3 div.sk-label label {font-family: monospace;font-weight: bold;display: inline-block;line-height: 1.2em;}#sk-container-id-3 div.sk-label-container {text-align: center;}#sk-container-id-3 div.sk-container {/* jupyter's `normalize.less` sets `[hidden] { display: none; }` but bootstrap.min.css set `[hidden] { display: none !important; }` so we also need the `!important` here to be able to override the default hidden behavior on the sphinx rendered scikit-learn.org. See: https://github.com/scikit-learn/scikit-learn/issues/21755 */display: inline-block !important;position: relative;}#sk-container-id-3 div.sk-text-repr-fallback {display: none;}</style><div id=\"sk-container-id-3\" class=\"sk-top-container\"><div class=\"sk-text-repr-fallback\"><pre>SVC()</pre><b>In a Jupyter environment, please rerun this cell to show the HTML representation or trust the notebook. <br />On GitHub, the HTML representation is unable to render, please try loading this page with nbviewer.org.</b></div><div class=\"sk-container\" hidden><div class=\"sk-item\"><div class=\"sk-estimator sk-toggleable\"><input class=\"sk-toggleable__control sk-hidden--visually\" id=\"sk-estimator-id-3\" type=\"checkbox\" checked><label for=\"sk-estimator-id-3\" class=\"sk-toggleable__label sk-toggleable__label-arrow\">SVC</label><div class=\"sk-toggleable__content\"><pre>SVC()</pre></div></div></div></div></div>"
      ],
      "text/plain": [
       "SVC()"
      ]
     },
     "execution_count": 13,
     "metadata": {},
     "output_type": "execute_result"
    }
   ],
   "source": [
    "svm3 = SVC()\n",
    "svm3.fit(X_train, y_train.iloc[:,2])"
   ]
  },
  {
   "cell_type": "code",
   "execution_count": 14,
   "id": "b2fc6c3c",
   "metadata": {},
   "outputs": [
    {
     "data": {
      "text/plain": [
       "array([0, 0, 1, 0, 0, 1, 0, 1, 0, 0, 1, 0, 0, 1, 0, 0, 0, 0, 0, 1, 0, 1,\n",
       "       1, 0, 1, 0, 0, 1, 1, 0], dtype=uint8)"
      ]
     },
     "execution_count": 14,
     "metadata": {},
     "output_type": "execute_result"
    }
   ],
   "source": [
    "svm3.predict(X_test)"
   ]
  },
  {
   "cell_type": "code",
   "execution_count": 15,
   "id": "ed704717",
   "metadata": {},
   "outputs": [
    {
     "data": {
      "text/plain": [
       "array([-1.42708779, -1.21748862,  0.15658044, -0.9341312 , -0.13715909,\n",
       "        0.77015558, -1.1852678 ,  0.18563113, -1.0405367 , -0.99876073,\n",
       "        0.64733162, -1.33283373, -1.49025247,  0.45890847, -0.65925536,\n",
       "       -0.69718272, -1.26836718, -1.17659977, -0.03926931,  1.53339216,\n",
       "       -1.12083008,  1.03585352,  0.11634206, -0.71111991,  0.41357359,\n",
       "       -1.2021444 , -1.55142381,  1.2333595 ,  1.84275195, -1.57732042])"
      ]
     },
     "execution_count": 15,
     "metadata": {},
     "output_type": "execute_result"
    }
   ],
   "source": [
    "lst3 = svm3.decision_function(X_test)\n",
    "lst3"
   ]
  },
  {
   "cell_type": "markdown",
   "id": "510deb36",
   "metadata": {},
   "source": [
    "### 각 class별로 확률이 구해졌다면 argmax로 가장 높은 확률을 가질때의 class를 찾기"
   ]
  },
  {
   "cell_type": "code",
   "execution_count": 16,
   "id": "6ddd58d5",
   "metadata": {},
   "outputs": [
    {
     "name": "stdout",
     "output_type": "stream",
     "text": [
      "[1, 1, 2, 0, 1, 2, 0, 2, 0, 1, 2, 0, 0, 2, 1, 1, 0, 1, 1, 2, 0, 2, 2, 1, 2, 0, 0, 2, 2, 1]\n"
     ]
    }
   ],
   "source": [
    "iris = []\n",
    "for i in range(len(lst1)):\n",
    "    iris.append(np.argmax([lst1[i], lst2[i], lst3[i]]))\n",
    "print(iris)"
   ]
  },
  {
   "cell_type": "markdown",
   "id": "8f642483",
   "metadata": {},
   "source": [
    "0이면 setosa, 1이면 versicolor, 2면 virginica"
   ]
  },
  {
   "cell_type": "code",
   "execution_count": 17,
   "id": "e72b0f58",
   "metadata": {},
   "outputs": [
    {
     "data": {
      "text/html": [
       "<div>\n",
       "<style scoped>\n",
       "    .dataframe tbody tr th:only-of-type {\n",
       "        vertical-align: middle;\n",
       "    }\n",
       "\n",
       "    .dataframe tbody tr th {\n",
       "        vertical-align: top;\n",
       "    }\n",
       "\n",
       "    .dataframe thead th {\n",
       "        text-align: right;\n",
       "    }\n",
       "</style>\n",
       "<table border=\"1\" class=\"dataframe\">\n",
       "  <thead>\n",
       "    <tr style=\"text-align: right;\">\n",
       "      <th></th>\n",
       "      <th>0</th>\n",
       "    </tr>\n",
       "  </thead>\n",
       "  <tbody>\n",
       "    <tr>\n",
       "      <th>96</th>\n",
       "      <td>versicolor</td>\n",
       "    </tr>\n",
       "    <tr>\n",
       "      <th>73</th>\n",
       "      <td>versicolor</td>\n",
       "    </tr>\n",
       "    <tr>\n",
       "      <th>134</th>\n",
       "      <td>virginica</td>\n",
       "    </tr>\n",
       "    <tr>\n",
       "      <th>41</th>\n",
       "      <td>setosa</td>\n",
       "    </tr>\n",
       "    <tr>\n",
       "      <th>70</th>\n",
       "      <td>versicolor</td>\n",
       "    </tr>\n",
       "    <tr>\n",
       "      <th>116</th>\n",
       "      <td>virginica</td>\n",
       "    </tr>\n",
       "    <tr>\n",
       "      <th>19</th>\n",
       "      <td>setosa</td>\n",
       "    </tr>\n",
       "    <tr>\n",
       "      <th>138</th>\n",
       "      <td>virginica</td>\n",
       "    </tr>\n",
       "    <tr>\n",
       "      <th>33</th>\n",
       "      <td>setosa</td>\n",
       "    </tr>\n",
       "    <tr>\n",
       "      <th>89</th>\n",
       "      <td>versicolor</td>\n",
       "    </tr>\n",
       "    <tr>\n",
       "      <th>137</th>\n",
       "      <td>virginica</td>\n",
       "    </tr>\n",
       "    <tr>\n",
       "      <th>36</th>\n",
       "      <td>setosa</td>\n",
       "    </tr>\n",
       "    <tr>\n",
       "      <th>20</th>\n",
       "      <td>setosa</td>\n",
       "    </tr>\n",
       "    <tr>\n",
       "      <th>126</th>\n",
       "      <td>virginica</td>\n",
       "    </tr>\n",
       "    <tr>\n",
       "      <th>87</th>\n",
       "      <td>versicolor</td>\n",
       "    </tr>\n",
       "    <tr>\n",
       "      <th>56</th>\n",
       "      <td>versicolor</td>\n",
       "    </tr>\n",
       "    <tr>\n",
       "      <th>11</th>\n",
       "      <td>setosa</td>\n",
       "    </tr>\n",
       "    <tr>\n",
       "      <th>62</th>\n",
       "      <td>versicolor</td>\n",
       "    </tr>\n",
       "    <tr>\n",
       "      <th>72</th>\n",
       "      <td>versicolor</td>\n",
       "    </tr>\n",
       "    <tr>\n",
       "      <th>120</th>\n",
       "      <td>virginica</td>\n",
       "    </tr>\n",
       "    <tr>\n",
       "      <th>8</th>\n",
       "      <td>setosa</td>\n",
       "    </tr>\n",
       "    <tr>\n",
       "      <th>147</th>\n",
       "      <td>virginica</td>\n",
       "    </tr>\n",
       "    <tr>\n",
       "      <th>77</th>\n",
       "      <td>virginica</td>\n",
       "    </tr>\n",
       "    <tr>\n",
       "      <th>86</th>\n",
       "      <td>versicolor</td>\n",
       "    </tr>\n",
       "    <tr>\n",
       "      <th>129</th>\n",
       "      <td>virginica</td>\n",
       "    </tr>\n",
       "    <tr>\n",
       "      <th>4</th>\n",
       "      <td>setosa</td>\n",
       "    </tr>\n",
       "    <tr>\n",
       "      <th>31</th>\n",
       "      <td>setosa</td>\n",
       "    </tr>\n",
       "    <tr>\n",
       "      <th>136</th>\n",
       "      <td>virginica</td>\n",
       "    </tr>\n",
       "    <tr>\n",
       "      <th>132</th>\n",
       "      <td>virginica</td>\n",
       "    </tr>\n",
       "    <tr>\n",
       "      <th>88</th>\n",
       "      <td>versicolor</td>\n",
       "    </tr>\n",
       "  </tbody>\n",
       "</table>\n",
       "</div>"
      ],
      "text/plain": [
       "              0\n",
       "96   versicolor\n",
       "73   versicolor\n",
       "134   virginica\n",
       "41       setosa\n",
       "70   versicolor\n",
       "116   virginica\n",
       "19       setosa\n",
       "138   virginica\n",
       "33       setosa\n",
       "89   versicolor\n",
       "137   virginica\n",
       "36       setosa\n",
       "20       setosa\n",
       "126   virginica\n",
       "87   versicolor\n",
       "56   versicolor\n",
       "11       setosa\n",
       "62   versicolor\n",
       "72   versicolor\n",
       "120   virginica\n",
       "8        setosa\n",
       "147   virginica\n",
       "77    virginica\n",
       "86   versicolor\n",
       "129   virginica\n",
       "4        setosa\n",
       "31       setosa\n",
       "136   virginica\n",
       "132   virginica\n",
       "88   versicolor"
      ]
     },
     "execution_count": 17,
     "metadata": {},
     "output_type": "execute_result"
    }
   ],
   "source": [
    "y_pred = pd.DataFrame(iris, index=y_test.index).replace({0:\"setosa\", 1:\"versicolor\", 2:\"virginica\"})\n",
    "y_pred"
   ]
  },
  {
   "cell_type": "code",
   "execution_count": 18,
   "id": "79013991",
   "metadata": {},
   "outputs": [
    {
     "data": {
      "text/plain": [
       "0.9666666666666667"
      ]
     },
     "execution_count": 18,
     "metadata": {},
     "output_type": "execute_result"
    }
   ],
   "source": [
    "from sklearn.metrics import accuracy_score\n",
    "accuracy_score(y_test, y_pred)"
   ]
  },
  {
   "cell_type": "code",
   "execution_count": null,
   "id": "de85742d",
   "metadata": {},
   "outputs": [],
   "source": []
  },
  {
   "cell_type": "markdown",
   "id": "39293a5a",
   "metadata": {},
   "source": [
    "## Scikit-learn"
   ]
  },
  {
   "cell_type": "code",
   "execution_count": 19,
   "id": "0b75ec34",
   "metadata": {},
   "outputs": [],
   "source": [
    "X_train, X_test, y_train, y_test = train_test_split(X, y, test_size=0.2, random_state=48)\n",
    "\n",
    "def standardization(train, test):\n",
    "    scaler = StandardScaler()\n",
    "    train = scaler.fit_transform(train)\n",
    "    test = scaler.transform(test)\n",
    "    return train, test\n",
    "\n",
    "X_train, X_test = standardization(X_train, X_test)"
   ]
  },
  {
   "cell_type": "code",
   "execution_count": 20,
   "id": "7ff4cd4b",
   "metadata": {},
   "outputs": [],
   "source": [
    "from sklearn.multiclass import OneVsRestClassifier\n",
    "\n",
    "svc = SVC()\n",
    "o_vs_r = OneVsRestClassifier(svc)\n",
    "\n",
    "o_vs_r.fit(X_train, y_train)\n",
    "yhat = o_vs_r.predict(X_test)"
   ]
  },
  {
   "cell_type": "code",
   "execution_count": 21,
   "id": "38b14c6d",
   "metadata": {},
   "outputs": [
    {
     "data": {
      "text/plain": [
       "0.9666666666666667"
      ]
     },
     "execution_count": 21,
     "metadata": {},
     "output_type": "execute_result"
    }
   ],
   "source": [
    "accuracy_score(y_test, yhat)"
   ]
  },
  {
   "cell_type": "markdown",
   "id": "3e5ea735",
   "metadata": {},
   "source": [
    "동일하게 나왔다ㅎㅎ"
   ]
  },
  {
   "cell_type": "code",
   "execution_count": null,
   "id": "827c5f55",
   "metadata": {},
   "outputs": [],
   "source": []
  }
 ],
 "metadata": {
  "kernelspec": {
   "display_name": "Python 3 (ipykernel)",
   "language": "python",
   "name": "python3"
  },
  "language_info": {
   "codemirror_mode": {
    "name": "ipython",
    "version": 3
   },
   "file_extension": ".py",
   "mimetype": "text/x-python",
   "name": "python",
   "nbconvert_exporter": "python",
   "pygments_lexer": "ipython3",
   "version": "3.9.13"
  },
  "toc": {
   "base_numbering": 1,
   "nav_menu": {},
   "number_sections": false,
   "sideBar": true,
   "skip_h1_title": false,
   "title_cell": "Table of Contents",
   "title_sidebar": "Contents",
   "toc_cell": false,
   "toc_position": {
    "height": "calc(100% - 180px)",
    "left": "10px",
    "top": "150px",
    "width": "303.837px"
   },
   "toc_section_display": true,
   "toc_window_display": false
  }
 },
 "nbformat": 4,
 "nbformat_minor": 5
}
