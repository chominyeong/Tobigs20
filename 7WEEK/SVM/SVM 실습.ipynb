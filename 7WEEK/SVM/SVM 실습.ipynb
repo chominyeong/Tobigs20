{
 "cells": [
  {
   "cell_type": "markdown",
   "id": "21f2ef20",
   "metadata": {},
   "source": [
    "## Support Vector Machine 실습코드\n",
    "\n",
    " https://www.kaggle.com/fengdanye/machine-learning-4-support-vector-machine\n",
    " \n",
    " 위 사이트 및 12기 박진혁님 의 코드를 참조하였습니다."
   ]
  },
  {
   "cell_type": "markdown",
   "id": "a9cfd387",
   "metadata": {},
   "source": [
    "# 1. SVM 시각화"
   ]
  },
  {
   "cell_type": "code",
   "execution_count": 1,
   "id": "cedca2ab",
   "metadata": {},
   "outputs": [
    {
     "data": {
      "text/html": [
       "<div>\n",
       "<style scoped>\n",
       "    .dataframe tbody tr th:only-of-type {\n",
       "        vertical-align: middle;\n",
       "    }\n",
       "\n",
       "    .dataframe tbody tr th {\n",
       "        vertical-align: top;\n",
       "    }\n",
       "\n",
       "    .dataframe thead th {\n",
       "        text-align: right;\n",
       "    }\n",
       "</style>\n",
       "<table border=\"1\" class=\"dataframe\">\n",
       "  <thead>\n",
       "    <tr style=\"text-align: right;\">\n",
       "      <th></th>\n",
       "      <th>x1</th>\n",
       "      <th>x2</th>\n",
       "      <th>y</th>\n",
       "    </tr>\n",
       "  </thead>\n",
       "  <tbody>\n",
       "    <tr>\n",
       "      <th>0</th>\n",
       "      <td>1.327241</td>\n",
       "      <td>-0.222425</td>\n",
       "      <td>1</td>\n",
       "    </tr>\n",
       "    <tr>\n",
       "      <th>1</th>\n",
       "      <td>-0.429116</td>\n",
       "      <td>1.071136</td>\n",
       "      <td>0</td>\n",
       "    </tr>\n",
       "    <tr>\n",
       "      <th>2</th>\n",
       "      <td>0.014901</td>\n",
       "      <td>0.003679</td>\n",
       "      <td>1</td>\n",
       "    </tr>\n",
       "    <tr>\n",
       "      <th>3</th>\n",
       "      <td>0.000352</td>\n",
       "      <td>1.087226</td>\n",
       "      <td>0</td>\n",
       "    </tr>\n",
       "    <tr>\n",
       "      <th>4</th>\n",
       "      <td>0.676553</td>\n",
       "      <td>0.857039</td>\n",
       "      <td>0</td>\n",
       "    </tr>\n",
       "  </tbody>\n",
       "</table>\n",
       "</div>"
      ],
      "text/plain": [
       "         x1        x2  y\n",
       "0  1.327241 -0.222425  1\n",
       "1 -0.429116  1.071136  0\n",
       "2  0.014901  0.003679  1\n",
       "3  0.000352  1.087226  0\n",
       "4  0.676553  0.857039  0"
      ]
     },
     "execution_count": 1,
     "metadata": {},
     "output_type": "execute_result"
    }
   ],
   "source": [
    "# generate dataset\n",
    "# make moon은 달모양의 데이터 분포를 생성해주는 함수입니다. 달모양 데이터가 어떻게 분류되는지 봅시당\n",
    "import numpy as np\n",
    "import pandas as pd\n",
    "import matplotlib.pyplot as plt\n",
    "from sklearn.svm import SVC\n",
    "from sklearn.model_selection import train_test_split\n",
    "from sklearn.pipeline import Pipeline\n",
    "from sklearn.preprocessing import StandardScaler\n",
    "from sklearn.datasets import make_moons\n",
    "\n",
    "X,y=make_moons(noise=0.1, random_state=2) # 반달 두 개 엎어 놓은 모양의 데이터 분포를 형성해주는 라이브러리\n",
    "data = pd.DataFrame(data = X, columns=['x1','x2']) # x 데이터는 2차원\n",
    "data['y']=y #타겟변수 분리\n",
    "data.head()"
   ]
  },
  {
   "cell_type": "code",
   "execution_count": 2,
   "id": "43e71e64",
   "metadata": {},
   "outputs": [],
   "source": [
    "#Support Vector Machine은 스케일링이 필수라고 보시면 됩니다. ('거리'라는 요소를 사용하는 KNN SVM 등은 Scaling을 해주셔야 합니다)\n",
    "scaler = StandardScaler() #정규화를 하자!\n",
    "Xstan = scaler.fit_transform(X) # 스케일링을 해주자!"
   ]
  },
  {
   "cell_type": "code",
   "execution_count": 3,
   "id": "b598ae34",
   "metadata": {},
   "outputs": [],
   "source": [
    "from sklearn.metrics.pairwise import rbf_kernel "
   ]
  },
  {
   "cell_type": "code",
   "execution_count": 4,
   "id": "800c443c",
   "metadata": {},
   "outputs": [
    {
     "data": {
      "text/plain": [
       "SVC(C=100, kernel='linear')"
      ]
     },
     "execution_count": 4,
     "metadata": {},
     "output_type": "execute_result"
    }
   ],
   "source": [
    "svc=SVC(kernel='linear', C = 100) #linear한 SVM 적용 해보자 에러페널티는 높게주고\n",
    "svc.fit(Xstan,y) # 모델 트레이닝 하는 코드"
   ]
  },
  {
   "cell_type": "code",
   "execution_count": 5,
   "id": "48fcf331",
   "metadata": {},
   "outputs": [],
   "source": [
    "#https://scikit-learn.org/stable/auto_examples/svm/plot_separating_hyperplane.html\n",
    "#공식문서에 있는 hyperplane 그려주는 method를 약간 수정한 함수\n",
    "def draw_hyperplane(model, X, y):\n",
    "    plt.scatter(X[:, 0], X[:, 1],c=y, s=30, cmap=plt.cm.Paired)\n",
    "\n",
    "    # plot the decision function\n",
    "    ax = plt.gca()\n",
    "    xlim = ax.get_xlim()\n",
    "    ylim = ax.get_ylim()\n",
    "\n",
    "    # create grid to evaluate model\n",
    "    xx = np.linspace(xlim[0], xlim[1], 30)\n",
    "    yy = np.linspace(ylim[0], ylim[1], 30)\n",
    "    YY, XX = np.meshgrid(yy, xx)\n",
    "    xy = np.vstack([XX.ravel(), YY.ravel()]).T\n",
    "    Z = model.decision_function(xy).reshape(XX.shape)\n",
    "\n",
    "    # plot decision boundary and margins\n",
    "    ax.contour(XX, YY, Z, colors='k', levels=[-1, 0, 1], alpha=0.5,\n",
    "            linestyles=['--', '-', '--'])\n",
    "    # plot support vectors\n",
    "    ax.scatter(model.support_vectors_[:, 0], model.support_vectors_[:, 1], s=50,\n",
    "            linewidth=1, facecolors='none', edgecolors='k')\n",
    "    plt.xlabel('x1', fontsize = 18)\n",
    "    plt.ylabel('x2', fontsize = 18)\n",
    "    plt.show()"
   ]
  },
  {
   "cell_type": "code",
   "execution_count": 6,
   "id": "f2db490e",
   "metadata": {},
   "outputs": [
    {
     "data": {
      "image/png": "[encoded data removed]",
      "text/plain": [
       "<Figure size 432x288 with 1 Axes>"
      ]
     },
     "metadata": {
      "needs_background": "light"
     },
     "output_type": "display_data"
    }
   ],
   "source": [
    "draw_hyperplane(svc,Xstan,y) #굵은 부분은 서포트벡터 + 에러난 벡터 "
   ]
  },
  {
   "cell_type": "code",
   "execution_count": 7,
   "id": "f47cb34f",
   "metadata": {},
   "outputs": [
    {
     "data": {
      "image/png": "[encoded data removed]",
      "text/plain": [
       "<Figure size 432x288 with 1 Axes>"
      ]
     },
     "metadata": {
      "needs_background": "light"
     },
     "output_type": "display_data"
    }
   ],
   "source": [
    "#case for gaussian kernel C = 100 : overfitting\n",
    "svc_2=SVC(kernel='rbf', gamma = 1, C = 100)\n",
    "svc_2.fit(Xstan,y)\n",
    "draw_hyperplane(svc_2,Xstan,y)"
   ]
  },
  {
   "cell_type": "code",
   "execution_count": 8,
   "id": "cbb1ee07",
   "metadata": {},
   "outputs": [
    {
     "data": {
      "image/png": "[encoded data removed]",
      "text/plain": [
       "<Figure size 432x288 with 1 Axes>"
      ]
     },
     "metadata": {
      "needs_background": "light"
     },
     "output_type": "display_data"
    }
   ],
   "source": [
    "#case for gaussian kernel C = 1 : underfitting\n",
    "svc_2=SVC(kernel='rbf', gamma = 1, C = 1)\n",
    "svc_2.fit(Xstan,y)\n",
    "draw_hyperplane(svc_2,Xstan,y)"
   ]
  },
  {
   "cell_type": "code",
   "execution_count": 9,
   "id": "2e34f2d5",
   "metadata": {},
   "outputs": [
    {
     "data": {
      "image/png": "[encoded data removed]",
      "text/plain": [
       "<Figure size 432x288 with 1 Axes>"
      ]
     },
     "metadata": {
      "needs_background": "light"
     },
     "output_type": "display_data"
    }
   ],
   "source": [
    "#case for gaussian kernel gamma = 5 : overfitting\n",
    "svc_2=SVC(kernel='rbf', gamma = 5, C = 1)\n",
    "svc_2.fit(Xstan,y)\n",
    "draw_hyperplane(svc_2,Xstan,y)"
   ]
  },
  {
   "cell_type": "markdown",
   "id": "ddf2638c",
   "metadata": {},
   "source": [
    "# 2. 예측 실습"
   ]
  },
  {
   "cell_type": "markdown",
   "id": "54cbd96a",
   "metadata": {},
   "source": [
    "### 2.1 데이터 로드 및 확인"
   ]
  },
  {
   "cell_type": "code",
   "execution_count": 10,
   "id": "240a1942",
   "metadata": {},
   "outputs": [],
   "source": [
    "SN_ad = pd.read_csv('SN_ad.csv')"
   ]
  },
  {
   "cell_type": "code",
   "execution_count": 11,
   "id": "6f663c83",
   "metadata": {},
   "outputs": [
    {
     "data": {
      "text/html": [
       "<div>\n",
       "<style scoped>\n",
       "    .dataframe tbody tr th:only-of-type {\n",
       "        vertical-align: middle;\n",
       "    }\n",
       "\n",
       "    .dataframe tbody tr th {\n",
       "        vertical-align: top;\n",
       "    }\n",
       "\n",
       "    .dataframe thead th {\n",
       "        text-align: right;\n",
       "    }\n",
       "</style>\n",
       "<table border=\"1\" class=\"dataframe\">\n",
       "  <thead>\n",
       "    <tr style=\"text-align: right;\">\n",
       "      <th></th>\n",
       "      <th>User ID</th>\n",
       "      <th>Gender</th>\n",
       "      <th>Age</th>\n",
       "      <th>EstimatedSalary</th>\n",
       "      <th>Purchased</th>\n",
       "    </tr>\n",
       "  </thead>\n",
       "  <tbody>\n",
       "    <tr>\n",
       "      <th>count</th>\n",
       "      <td>4.000000e+02</td>\n",
       "      <td>400</td>\n",
       "      <td>400.000000</td>\n",
       "      <td>400.000000</td>\n",
       "      <td>400.000000</td>\n",
       "    </tr>\n",
       "    <tr>\n",
       "      <th>unique</th>\n",
       "      <td>NaN</td>\n",
       "      <td>2</td>\n",
       "      <td>NaN</td>\n",
       "      <td>NaN</td>\n",
       "      <td>NaN</td>\n",
       "    </tr>\n",
       "    <tr>\n",
       "      <th>top</th>\n",
       "      <td>NaN</td>\n",
       "      <td>Female</td>\n",
       "      <td>NaN</td>\n",
       "      <td>NaN</td>\n",
       "      <td>NaN</td>\n",
       "    </tr>\n",
       "    <tr>\n",
       "      <th>freq</th>\n",
       "      <td>NaN</td>\n",
       "      <td>204</td>\n",
       "      <td>NaN</td>\n",
       "      <td>NaN</td>\n",
       "      <td>NaN</td>\n",
       "    </tr>\n",
       "    <tr>\n",
       "      <th>mean</th>\n",
       "      <td>1.569154e+07</td>\n",
       "      <td>NaN</td>\n",
       "      <td>37.655000</td>\n",
       "      <td>69742.500000</td>\n",
       "      <td>0.357500</td>\n",
       "    </tr>\n",
       "    <tr>\n",
       "      <th>std</th>\n",
       "      <td>7.165832e+04</td>\n",
       "      <td>NaN</td>\n",
       "      <td>10.482877</td>\n",
       "      <td>34096.960282</td>\n",
       "      <td>0.479864</td>\n",
       "    </tr>\n",
       "    <tr>\n",
       "      <th>min</th>\n",
       "      <td>1.556669e+07</td>\n",
       "      <td>NaN</td>\n",
       "      <td>18.000000</td>\n",
       "      <td>15000.000000</td>\n",
       "      <td>0.000000</td>\n",
       "    </tr>\n",
       "    <tr>\n",
       "      <th>25%</th>\n",
       "      <td>1.562676e+07</td>\n",
       "      <td>NaN</td>\n",
       "      <td>29.750000</td>\n",
       "      <td>43000.000000</td>\n",
       "      <td>0.000000</td>\n",
       "    </tr>\n",
       "    <tr>\n",
       "      <th>50%</th>\n",
       "      <td>1.569434e+07</td>\n",
       "      <td>NaN</td>\n",
       "      <td>37.000000</td>\n",
       "      <td>70000.000000</td>\n",
       "      <td>0.000000</td>\n",
       "    </tr>\n",
       "    <tr>\n",
       "      <th>75%</th>\n",
       "      <td>1.575036e+07</td>\n",
       "      <td>NaN</td>\n",
       "      <td>46.000000</td>\n",
       "      <td>88000.000000</td>\n",
       "      <td>1.000000</td>\n",
       "    </tr>\n",
       "    <tr>\n",
       "      <th>max</th>\n",
       "      <td>1.581524e+07</td>\n",
       "      <td>NaN</td>\n",
       "      <td>60.000000</td>\n",
       "      <td>150000.000000</td>\n",
       "      <td>1.000000</td>\n",
       "    </tr>\n",
       "  </tbody>\n",
       "</table>\n",
       "</div>"
      ],
      "text/plain": [
       "             User ID  Gender         Age  EstimatedSalary   Purchased\n",
       "count   4.000000e+02     400  400.000000       400.000000  400.000000\n",
       "unique           NaN       2         NaN              NaN         NaN\n",
       "top              NaN  Female         NaN              NaN         NaN\n",
       "freq             NaN     204         NaN              NaN         NaN\n",
       "mean    1.569154e+07     NaN   37.655000     69742.500000    0.357500\n",
       "std     7.165832e+04     NaN   10.482877     34096.960282    0.479864\n",
       "min     1.556669e+07     NaN   18.000000     15000.000000    0.000000\n",
       "25%     1.562676e+07     NaN   29.750000     43000.000000    0.000000\n",
       "50%     1.569434e+07     NaN   37.000000     70000.000000    0.000000\n",
       "75%     1.575036e+07     NaN   46.000000     88000.000000    1.000000\n",
       "max     1.581524e+07     NaN   60.000000    150000.000000    1.000000"
      ]
     },
     "execution_count": 11,
     "metadata": {},
     "output_type": "execute_result"
    }
   ],
   "source": [
    "SN_ad.describe(include = 'all')"
   ]
  },
  {
   "cell_type": "code",
   "execution_count": 12,
   "id": "bd580d0e",
   "metadata": {},
   "outputs": [
    {
     "data": {
      "text/plain": [
       "User ID            0\n",
       "Gender             0\n",
       "Age                0\n",
       "EstimatedSalary    0\n",
       "Purchased          0\n",
       "dtype: int64"
      ]
     },
     "execution_count": 12,
     "metadata": {},
     "output_type": "execute_result"
    }
   ],
   "source": [
    "SN_ad.isnull().sum()"
   ]
  },
  {
   "cell_type": "code",
   "execution_count": 13,
   "id": "23b27751",
   "metadata": {},
   "outputs": [
    {
     "name": "stdout",
     "output_type": "stream",
     "text": [
      "Total number of labels: 400\n",
      "Number of male: 257\n",
      "Number of female: 143\n"
     ]
    }
   ],
   "source": [
    "#총 라벨 수 확인\n",
    "print(\"Total number of labels: {}\".format(SN_ad.shape[0]))\n",
    "print(\"Number of male: {}\".format(SN_ad[SN_ad.Purchased == 0].shape[0]))\n",
    "print(\"Number of female: {}\".format(SN_ad[SN_ad.Purchased == 1].shape[0]))"
   ]
  },
  {
   "cell_type": "markdown",
   "id": "eeba6f06",
   "metadata": {},
   "source": [
    "### 2.2 간단한 데이터 전처리"
   ]
  },
  {
   "cell_type": "code",
   "execution_count": 14,
   "id": "29525110",
   "metadata": {},
   "outputs": [],
   "source": [
    "#쓸모없는 User ID 정보 삭제\n",
    "SN_ad = SN_ad.drop('User ID',axis = 1)"
   ]
  },
  {
   "cell_type": "code",
   "execution_count": 15,
   "id": "62653451",
   "metadata": {},
   "outputs": [
    {
     "data": {
      "text/html": [
       "<div>\n",
       "<style scoped>\n",
       "    .dataframe tbody tr th:only-of-type {\n",
       "        vertical-align: middle;\n",
       "    }\n",
       "\n",
       "    .dataframe tbody tr th {\n",
       "        vertical-align: top;\n",
       "    }\n",
       "\n",
       "    .dataframe thead th {\n",
       "        text-align: right;\n",
       "    }\n",
       "</style>\n",
       "<table border=\"1\" class=\"dataframe\">\n",
       "  <thead>\n",
       "    <tr style=\"text-align: right;\">\n",
       "      <th></th>\n",
       "      <th>Gender</th>\n",
       "      <th>Age</th>\n",
       "      <th>EstimatedSalary</th>\n",
       "      <th>Purchased</th>\n",
       "    </tr>\n",
       "  </thead>\n",
       "  <tbody>\n",
       "    <tr>\n",
       "      <th>51</th>\n",
       "      <td>Female</td>\n",
       "      <td>18</td>\n",
       "      <td>44000</td>\n",
       "      <td>0</td>\n",
       "    </tr>\n",
       "    <tr>\n",
       "      <th>281</th>\n",
       "      <td>Male</td>\n",
       "      <td>35</td>\n",
       "      <td>61000</td>\n",
       "      <td>0</td>\n",
       "    </tr>\n",
       "    <tr>\n",
       "      <th>155</th>\n",
       "      <td>Female</td>\n",
       "      <td>31</td>\n",
       "      <td>15000</td>\n",
       "      <td>0</td>\n",
       "    </tr>\n",
       "    <tr>\n",
       "      <th>104</th>\n",
       "      <td>Female</td>\n",
       "      <td>19</td>\n",
       "      <td>21000</td>\n",
       "      <td>0</td>\n",
       "    </tr>\n",
       "    <tr>\n",
       "      <th>186</th>\n",
       "      <td>Female</td>\n",
       "      <td>20</td>\n",
       "      <td>82000</td>\n",
       "      <td>0</td>\n",
       "    </tr>\n",
       "  </tbody>\n",
       "</table>\n",
       "</div>"
      ],
      "text/plain": [
       "     Gender  Age  EstimatedSalary  Purchased\n",
       "51   Female   18            44000          0\n",
       "281    Male   35            61000          0\n",
       "155  Female   31            15000          0\n",
       "104  Female   19            21000          0\n",
       "186  Female   20            82000          0"
      ]
     },
     "execution_count": 15,
     "metadata": {},
     "output_type": "execute_result"
    }
   ],
   "source": [
    "SN_ad.sample(5)"
   ]
  },
  {
   "cell_type": "code",
   "execution_count": 16,
   "id": "40a9d9c4",
   "metadata": {},
   "outputs": [],
   "source": [
    "#Male Female을 숫자로\n",
    "def transform_to_integer(x):\n",
    "    if x=='Male':\n",
    "        return 0\n",
    "    elif x=='Female':\n",
    "        return 1"
   ]
  },
  {
   "cell_type": "code",
   "execution_count": 17,
   "id": "54882046",
   "metadata": {},
   "outputs": [],
   "source": [
    "SN_ad['Gender'] = SN_ad['Gender'].apply(transform_to_integer)"
   ]
  },
  {
   "cell_type": "code",
   "execution_count": 18,
   "id": "467b069d",
   "metadata": {},
   "outputs": [],
   "source": [
    "X = SN_ad.iloc[:,:-1] # X\n",
    "y = SN_ad.iloc[:,-1] # y"
   ]
  },
  {
   "cell_type": "code",
   "execution_count": 19,
   "id": "81d135f5",
   "metadata": {},
   "outputs": [
    {
     "name": "stdout",
     "output_type": "stream",
     "text": [
      "0      0\n",
      "1      0\n",
      "2      0\n",
      "3      0\n",
      "4      0\n",
      "      ..\n",
      "395    1\n",
      "396    1\n",
      "397    1\n",
      "398    0\n",
      "399    1\n",
      "Name: Purchased, Length: 400, dtype: int64\n"
     ]
    }
   ],
   "source": [
    "print(y)"
   ]
  },
  {
   "cell_type": "code",
   "execution_count": 20,
   "id": "b0d073f9",
   "metadata": {},
   "outputs": [],
   "source": [
    "#거리를 쓰는 데이터는? 스케일링해 주는 것이 좋다!\n",
    "scaler = StandardScaler()\n",
    "X = scaler.fit_transform(X)"
   ]
  },
  {
   "cell_type": "markdown",
   "id": "ce1a43ba",
   "metadata": {},
   "source": [
    "### 2.3 train, test 데이터셋 분리"
   ]
  },
  {
   "cell_type": "code",
   "execution_count": 21,
   "id": "826b7347",
   "metadata": {},
   "outputs": [],
   "source": [
    "#데이터 셋 분리 \n",
    "from sklearn.model_selection import train_test_split\n",
    "X_train, X_test, y_train, y_test = train_test_split(X, y, test_size=0.2, random_state=48)"
   ]
  },
  {
   "cell_type": "code",
   "execution_count": 22,
   "id": "51b4df1b",
   "metadata": {},
   "outputs": [
    {
     "name": "stdout",
     "output_type": "stream",
     "text": [
      "Accuracy Score:\n",
      "0.825\n"
     ]
    }
   ],
   "source": [
    "from sklearn import metrics #model evaluation하는 라이브러리\n",
    "svc=SVC(kernel='linear') # linear model\n",
    "svc.fit(X_train,y_train) # model training\n",
    "y_pred=svc.predict(X_test) # 훈련한 모델로 test셋을 시험\n",
    "print('Accuracy Score:') \n",
    "print(metrics.accuracy_score(y_test,y_pred)) #스코어"
   ]
  },
  {
   "cell_type": "code",
   "execution_count": 23,
   "id": "a88b3c3e",
   "metadata": {},
   "outputs": [
    {
     "name": "stdout",
     "output_type": "stream",
     "text": [
      "Accuracy Score:\n",
      "0.875\n"
     ]
    }
   ],
   "source": [
    "svc_rbf=SVC(kernel='rbf', gamma = 1) #rbf kernel\n",
    "svc_rbf.fit(X_train,y_train) # model training\n",
    "y_pred=svc_rbf.predict(X_test)\n",
    "print('Accuracy Score:')\n",
    "print(metrics.accuracy_score(y_test,y_pred))"
   ]
  },
  {
   "cell_type": "code",
   "execution_count": 24,
   "id": "86c9f80f",
   "metadata": {},
   "outputs": [
    {
     "name": "stderr",
     "output_type": "stream",
     "text": [
      "100%|██████████████████████████████████████████████████████████████████████████████████| 79/79 [00:05<00:00, 14.19it/s]"
     ]
    },
    {
     "name": "stdout",
     "output_type": "stream",
     "text": [
      "0.905\n",
      "1\n"
     ]
    },
    {
     "name": "stderr",
     "output_type": "stream",
     "text": [
      "\n"
     ]
    }
   ],
   "source": [
    "from tqdm import tqdm\n",
    "from sklearn.model_selection import cross_validate\n",
    "C_range=list(np.arange(1,80,1)) # C값은 1부터 80까지 1간격\n",
    "acc_score = [] # 결과 보관할 list\n",
    "\n",
    "#cross validation도 해보자\n",
    "for c in tqdm(C_range): \n",
    "    svc = SVC(kernel='rbf', C=c, gamma = 'scale') #gamma에 default 값을 scale로 안해주면 워닝이 어마무시하게 뜬다..!\n",
    "    scores = cross_validate(svc, X, y, cv=10, scoring='accuracy') # 점수를 리스트로 관리\n",
    "    score = np.mean(scores['test_score']) #10개 스코어 값의 평균\n",
    "    acc_score.append(score) \n",
    "print(np.max(acc_score)) #제일 좋은 결과\n",
    "print(C_range[np.argmax(acc_score)]) #제일 좋은 결과가 나온 파라미터"
   ]
  },
  {
   "cell_type": "code",
   "execution_count": 25,
   "id": "4d9488e3",
   "metadata": {},
   "outputs": [
    {
     "data": {
      "text/plain": [
       "Text(0, 0.5, 'Cross-Validated Accuracy')"
      ]
     },
     "execution_count": 25,
     "metadata": {},
     "output_type": "execute_result"
    },
    {
     "data": {
      "image/png": "[encoded data removed]",
      "text/plain": [
       "<Figure size 432x288 with 1 Axes>"
      ]
     },
     "metadata": {
      "needs_background": "light"
     },
     "output_type": "display_data"
    }
   ],
   "source": [
    "C_range=list(np.arange(1,80,1))\n",
    "plt.plot(C_range,acc_score)\n",
    "plt.xticks(np.arange(0,100,5))\n",
    "plt.xlabel('Value of C for SVC')\n",
    "plt.ylabel('Cross-Validated Accuracy')"
   ]
  },
  {
   "cell_type": "code",
   "execution_count": 26,
   "id": "15cdd47e",
   "metadata": {},
   "outputs": [
    {
     "name": "stderr",
     "output_type": "stream",
     "text": [
      "100%|████████████████████████████████████████████████████████████████████████████████| 290/290 [00:21<00:00, 13.66it/s]"
     ]
    },
    {
     "name": "stdout",
     "output_type": "stream",
     "text": [
      "0.9075\n",
      "4.3000000000000025\n"
     ]
    },
    {
     "name": "stderr",
     "output_type": "stream",
     "text": [
      "\n"
     ]
    }
   ],
   "source": [
    "C_range=list(np.arange(1,30,0.1))\n",
    "acc_score = []\n",
    "for c in tqdm(C_range):\n",
    "    svc = SVC(kernel='rbf',gamma = 'scale', C=c)\n",
    "    svc.fit(X_train,y_train)\n",
    "    scores = cross_validate(svc, X, y, cv=10, scoring='accuracy') # 점수를 리스트로 관리해줍니다.\n",
    "    score = np.mean(scores['test_score']) #10개 스코어 값의 평균\n",
    "    acc_score.append(score) \n",
    "print(np.max(acc_score)) #제일 좋은 결과\n",
    "print(C_range[np.argmax(acc_score)]) #제일 좋은 결과가 나온 파라미터"
   ]
  },
  {
   "cell_type": "code",
   "execution_count": 27,
   "id": "af83d77b",
   "metadata": {},
   "outputs": [
    {
     "data": {
      "text/plain": [
       "Text(0, 0.5, 'Accuracy')"
      ]
     },
     "execution_count": 27,
     "metadata": {},
     "output_type": "execute_result"
    },
    {
     "data": {
      "image/png": "[encoded data removed]",
      "text/plain": [
       "<Figure size 432x288 with 1 Axes>"
      ]
     },
     "metadata": {
      "needs_background": "light"
     },
     "output_type": "display_data"
    }
   ],
   "source": [
    "# 각 하이퍼 파라미터 별로 값이 얼만지 그려서 확인해보자\n",
    "C_range=list(np.arange(1,30,0.1))\n",
    "plt.plot(C_range,acc_score)\n",
    "plt.xticks(np.arange(0,30,5))\n",
    "plt.xlabel('Value of C for SVC')\n",
    "plt.ylabel('Accuracy')"
   ]
  },
  {
   "cell_type": "code",
   "execution_count": 28,
   "id": "582e33d4",
   "metadata": {},
   "outputs": [
    {
     "data": {
      "text/plain": [
       "4.3000000000000025"
      ]
     },
     "execution_count": 28,
     "metadata": {},
     "output_type": "execute_result"
    }
   ],
   "source": [
    "C_range[np.argmax(acc_score)]"
   ]
  },
  {
   "cell_type": "code",
   "execution_count": 29,
   "id": "d758130c",
   "metadata": {},
   "outputs": [],
   "source": [
    "tuned_parameters = {\n",
    " 'C': (np.arange(3,5,0.2)), 'kernel': ['linear'],\n",
    " 'C': (np.arange(3,5,0.2)), 'gamma': (np.arange(1,5.1)), 'kernel': ['rbf']\n",
    "                   }"
   ]
  },
  {
   "cell_type": "code",
   "execution_count": 30,
   "id": "c137d3de",
   "metadata": {},
   "outputs": [],
   "source": [
    "from sklearn.model_selection import GridSearchCV\n",
    "svm_model= SVC()\n",
    "model_svm = GridSearchCV(svm_model, tuned_parameters,cv=10,scoring='accuracy', verbose = 3)\n",
    "# 모델과 tuned parameter를 집어넣음! 그리고 verbose는 진행상황을 나타내주는 파라미터로 크면클수록 정보를많이줌\n",
    "# 이건 default로 두면 > 데이터셋 커지는 경우에 내 코드/컴퓨터/파이썬 중 뭐가 이상한건지 찾기 힘들어집니다"
   ]
  },
  {
   "cell_type": "code",
   "execution_count": 31,
   "id": "5d1a9dfe",
   "metadata": {},
   "outputs": [
    {
     "name": "stdout",
     "output_type": "stream",
     "text": [
      "Fitting 10 folds for each of 50 candidates, totalling 500 fits\n",
      "[CV 1/10] END ..................C=3.0, gamma=1.0, kernel=rbf; total time=   0.0s\n",
      "[CV 2/10] END ..................C=3.0, gamma=1.0, kernel=rbf; total time=   0.0s\n",
      "[CV 3/10] END ..................C=3.0, gamma=1.0, kernel=rbf; total time=   0.0s\n",
      "[CV 4/10] END ..................C=3.0, gamma=1.0, kernel=rbf; total time=   0.0s\n",
      "[CV 5/10] END ..................C=3.0, gamma=1.0, kernel=rbf; total time=   0.0s\n",
      "[CV 6/10] END ..................C=3.0, gamma=1.0, kernel=rbf; total time=   0.0s\n",
      "[CV 7/10] END ..................C=3.0, gamma=1.0, kernel=rbf; total time=   0.0s\n",
      "[CV 8/10] END ..................C=3.0, gamma=1.0, kernel=rbf; total time=   0.0s\n",
      "[CV 9/10] END ..................C=3.0, gamma=1.0, kernel=rbf; total time=   0.0s\n",
      "[CV 10/10] END .................C=3.0, gamma=1.0, kernel=rbf; total time=   0.0s\n",
      "[CV 1/10] END ..................C=3.0, gamma=2.0, kernel=rbf; total time=   0.0s\n",
      "[CV 2/10] END ..................C=3.0, gamma=2.0, kernel=rbf; total time=   0.0s\n",
      "[CV 3/10] END ..................C=3.0, gamma=2.0, kernel=rbf; total time=   0.0s\n",
      "[CV 4/10] END ..................C=3.0, gamma=2.0, kernel=rbf; total time=   0.0s\n",
      "[CV 5/10] END ..................C=3.0, gamma=2.0, kernel=rbf; total time=   0.0s\n",
      "[CV 6/10] END ..................C=3.0, gamma=2.0, kernel=rbf; total time=   0.0s\n",
      "[CV 7/10] END ..................C=3.0, gamma=2.0, kernel=rbf; total time=   0.0s\n",
      "[CV 8/10] END ..................C=3.0, gamma=2.0, kernel=rbf; total time=   0.0s\n",
      "[CV 9/10] END ..................C=3.0, gamma=2.0, kernel=rbf; total time=   0.0s\n",
      "[CV 10/10] END .................C=3.0, gamma=2.0, kernel=rbf; total time=   0.0s\n",
      "[CV 1/10] END ..................C=3.0, gamma=3.0, kernel=rbf; total time=   0.0s\n",
      "[CV 2/10] END ..................C=3.0, gamma=3.0, kernel=rbf; total time=   0.0s\n",
      "[CV 3/10] END ..................C=3.0, gamma=3.0, kernel=rbf; total time=   0.0s\n",
      "[CV 4/10] END ..................C=3.0, gamma=3.0, kernel=rbf; total time=   0.0s\n",
      "[CV 5/10] END ..................C=3.0, gamma=3.0, kernel=rbf; total time=   0.0s\n",
      "[CV 6/10] END ..................C=3.0, gamma=3.0, kernel=rbf; total time=   0.0s\n",
      "[CV 7/10] END ..................C=3.0, gamma=3.0, kernel=rbf; total time=   0.0s\n",
      "[CV 8/10] END ..................C=3.0, gamma=3.0, kernel=rbf; total time=   0.0s\n",
      "[CV 9/10] END ..................C=3.0, gamma=3.0, kernel=rbf; total time=   0.0s\n",
      "[CV 10/10] END .................C=3.0, gamma=3.0, kernel=rbf; total time=   0.0s\n",
      "[CV 1/10] END ..................C=3.0, gamma=4.0, kernel=rbf; total time=   0.0s\n",
      "[CV 2/10] END ..................C=3.0, gamma=4.0, kernel=rbf; total time=   0.0s\n",
      "[CV 3/10] END ..................C=3.0, gamma=4.0, kernel=rbf; total time=   0.0s\n",
      "[CV 4/10] END ..................C=3.0, gamma=4.0, kernel=rbf; total time=   0.0s\n",
      "[CV 5/10] END ..................C=3.0, gamma=4.0, kernel=rbf; total time=   0.0s\n",
      "[CV 6/10] END ..................C=3.0, gamma=4.0, kernel=rbf; total time=   0.0s\n",
      "[CV 7/10] END ..................C=3.0, gamma=4.0, kernel=rbf; total time=   0.0s\n",
      "[CV 8/10] END ..................C=3.0, gamma=4.0, kernel=rbf; total time=   0.0s\n",
      "[CV 9/10] END ..................C=3.0, gamma=4.0, kernel=rbf; total time=   0.0s\n",
      "[CV 10/10] END .................C=3.0, gamma=4.0, kernel=rbf; total time=   0.0s\n",
      "[CV 1/10] END ..................C=3.0, gamma=5.0, kernel=rbf; total time=   0.0s\n",
      "[CV 2/10] END ..................C=3.0, gamma=5.0, kernel=rbf; total time=   0.0s\n",
      "[CV 3/10] END ..................C=3.0, gamma=5.0, kernel=rbf; total time=   0.0s\n",
      "[CV 4/10] END ..................C=3.0, gamma=5.0, kernel=rbf; total time=   0.0s\n",
      "[CV 5/10] END ..................C=3.0, gamma=5.0, kernel=rbf; total time=   0.0s\n",
      "[CV 6/10] END ..................C=3.0, gamma=5.0, kernel=rbf; total time=   0.0s\n",
      "[CV 7/10] END ..................C=3.0, gamma=5.0, kernel=rbf; total time=   0.0s\n",
      "[CV 8/10] END ..................C=3.0, gamma=5.0, kernel=rbf; total time=   0.0s\n",
      "[CV 9/10] END ..................C=3.0, gamma=5.0, kernel=rbf; total time=   0.0s\n",
      "[CV 10/10] END .................C=3.0, gamma=5.0, kernel=rbf; total time=   0.0s\n",
      "[CV 1/10] END ..................C=3.2, gamma=1.0, kernel=rbf; total time=   0.0s\n",
      "[CV 2/10] END ..................C=3.2, gamma=1.0, kernel=rbf; total time=   0.0s\n",
      "[CV 3/10] END ..................C=3.2, gamma=1.0, kernel=rbf; total time=   0.0s\n",
      "[CV 4/10] END ..................C=3.2, gamma=1.0, kernel=rbf; total time=   0.0s\n",
      "[CV 5/10] END ..................C=3.2, gamma=1.0, kernel=rbf; total time=   0.0s\n",
      "[CV 6/10] END ..................C=3.2, gamma=1.0, kernel=rbf; total time=   0.0s\n",
      "[CV 7/10] END ..................C=3.2, gamma=1.0, kernel=rbf; total time=   0.0s\n",
      "[CV 8/10] END ..................C=3.2, gamma=1.0, kernel=rbf; total time=   0.0s\n",
      "[CV 9/10] END ..................C=3.2, gamma=1.0, kernel=rbf; total time=   0.0s\n",
      "[CV 10/10] END .................C=3.2, gamma=1.0, kernel=rbf; total time=   0.0s\n",
      "[CV 1/10] END ..................C=3.2, gamma=2.0, kernel=rbf; total time=   0.0s\n",
      "[CV 2/10] END ..................C=3.2, gamma=2.0, kernel=rbf; total time=   0.0s\n",
      "[CV 3/10] END ..................C=3.2, gamma=2.0, kernel=rbf; total time=   0.0s\n",
      "[CV 4/10] END ..................C=3.2, gamma=2.0, kernel=rbf; total time=   0.0s\n",
      "[CV 5/10] END ..................C=3.2, gamma=2.0, kernel=rbf; total time=   0.0s\n",
      "[CV 6/10] END ..................C=3.2, gamma=2.0, kernel=rbf; total time=   0.0s\n",
      "[CV 7/10] END ..................C=3.2, gamma=2.0, kernel=rbf; total time=   0.0s\n",
      "[CV 8/10] END ..................C=3.2, gamma=2.0, kernel=rbf; total time=   0.0s\n",
      "[CV 9/10] END ..................C=3.2, gamma=2.0, kernel=rbf; total time=   0.0s\n",
      "[CV 10/10] END .................C=3.2, gamma=2.0, kernel=rbf; total time=   0.0s\n",
      "[CV 1/10] END ..................C=3.2, gamma=3.0, kernel=rbf; total time=   0.0s\n",
      "[CV 2/10] END ..................C=3.2, gamma=3.0, kernel=rbf; total time=   0.0s\n",
      "[CV 3/10] END ..................C=3.2, gamma=3.0, kernel=rbf; total time=   0.0s\n",
      "[CV 4/10] END ..................C=3.2, gamma=3.0, kernel=rbf; total time=   0.0s\n",
      "[CV 5/10] END ..................C=3.2, gamma=3.0, kernel=rbf; total time=   0.0s\n",
      "[CV 6/10] END ..................C=3.2, gamma=3.0, kernel=rbf; total time=   0.0s\n",
      "[CV 7/10] END ..................C=3.2, gamma=3.0, kernel=rbf; total time=   0.0s\n",
      "[CV 8/10] END ..................C=3.2, gamma=3.0, kernel=rbf; total time=   0.0s\n",
      "[CV 9/10] END ..................C=3.2, gamma=3.0, kernel=rbf; total time=   0.0s\n",
      "[CV 10/10] END .................C=3.2, gamma=3.0, kernel=rbf; total time=   0.0s\n",
      "[CV 1/10] END ..................C=3.2, gamma=4.0, kernel=rbf; total time=   0.0s\n",
      "[CV 2/10] END ..................C=3.2, gamma=4.0, kernel=rbf; total time=   0.0s\n",
      "[CV 3/10] END ..................C=3.2, gamma=4.0, kernel=rbf; total time=   0.0s\n",
      "[CV 4/10] END ..................C=3.2, gamma=4.0, kernel=rbf; total time=   0.0s\n",
      "[CV 5/10] END ..................C=3.2, gamma=4.0, kernel=rbf; total time=   0.0s\n",
      "[CV 6/10] END ..................C=3.2, gamma=4.0, kernel=rbf; total time=   0.0s\n",
      "[CV 7/10] END ..................C=3.2, gamma=4.0, kernel=rbf; total time=   0.0s\n",
      "[CV 8/10] END ..................C=3.2, gamma=4.0, kernel=rbf; total time=   0.0s\n",
      "[CV 9/10] END ..................C=3.2, gamma=4.0, kernel=rbf; total time=   0.0s\n",
      "[CV 10/10] END .................C=3.2, gamma=4.0, kernel=rbf; total time=   0.0s\n",
      "[CV 1/10] END ..................C=3.2, gamma=5.0, kernel=rbf; total time=   0.0s\n",
      "[CV 2/10] END ..................C=3.2, gamma=5.0, kernel=rbf; total time=   0.0s\n",
      "[CV 3/10] END ..................C=3.2, gamma=5.0, kernel=rbf; total time=   0.0s\n",
      "[CV 4/10] END ..................C=3.2, gamma=5.0, kernel=rbf; total time=   0.0s\n",
      "[CV 5/10] END ..................C=3.2, gamma=5.0, kernel=rbf; total time=   0.0s\n",
      "[CV 6/10] END ..................C=3.2, gamma=5.0, kernel=rbf; total time=   0.0s\n",
      "[CV 7/10] END ..................C=3.2, gamma=5.0, kernel=rbf; total time=   0.0s\n",
      "[CV 8/10] END ..................C=3.2, gamma=5.0, kernel=rbf; total time=   0.0s\n",
      "[CV 9/10] END ..................C=3.2, gamma=5.0, kernel=rbf; total time=   0.0s\n",
      "[CV 10/10] END .................C=3.2, gamma=5.0, kernel=rbf; total time=   0.0s\n",
      "[CV 1/10] END ...C=3.4000000000000004, gamma=1.0, kernel=rbf; total time=   0.0s\n",
      "[CV 2/10] END ...C=3.4000000000000004, gamma=1.0, kernel=rbf; total time=   0.0s\n",
      "[CV 3/10] END ...C=3.4000000000000004, gamma=1.0, kernel=rbf; total time=   0.0s\n",
      "[CV 4/10] END ...C=3.4000000000000004, gamma=1.0, kernel=rbf; total time=   0.0s\n",
      "[CV 5/10] END ...C=3.4000000000000004, gamma=1.0, kernel=rbf; total time=   0.0s\n",
      "[CV 6/10] END ...C=3.4000000000000004, gamma=1.0, kernel=rbf; total time=   0.0s\n",
      "[CV 7/10] END ...C=3.4000000000000004, gamma=1.0, kernel=rbf; total time=   0.0s\n",
      "[CV 8/10] END ...C=3.4000000000000004, gamma=1.0, kernel=rbf; total time=   0.0s\n",
      "[CV 9/10] END ...C=3.4000000000000004, gamma=1.0, kernel=rbf; total time=   0.0s\n",
      "[CV 10/10] END ..C=3.4000000000000004, gamma=1.0, kernel=rbf; total time=   0.0s\n",
      "[CV 1/10] END ...C=3.4000000000000004, gamma=2.0, kernel=rbf; total time=   0.0s\n",
      "[CV 2/10] END ...C=3.4000000000000004, gamma=2.0, kernel=rbf; total time=   0.0s\n"
     ]
    },
    {
     "name": "stdout",
     "output_type": "stream",
     "text": [
      "[CV 3/10] END ...C=3.4000000000000004, gamma=2.0, kernel=rbf; total time=   0.0s\n",
      "[CV 4/10] END ...C=3.4000000000000004, gamma=2.0, kernel=rbf; total time=   0.0s\n",
      "[CV 5/10] END ...C=3.4000000000000004, gamma=2.0, kernel=rbf; total time=   0.0s\n",
      "[CV 6/10] END ...C=3.4000000000000004, gamma=2.0, kernel=rbf; total time=   0.0s\n",
      "[CV 7/10] END ...C=3.4000000000000004, gamma=2.0, kernel=rbf; total time=   0.0s\n",
      "[CV 8/10] END ...C=3.4000000000000004, gamma=2.0, kernel=rbf; total time=   0.0s\n",
      "[CV 9/10] END ...C=3.4000000000000004, gamma=2.0, kernel=rbf; total time=   0.0s\n",
      "[CV 10/10] END ..C=3.4000000000000004, gamma=2.0, kernel=rbf; total time=   0.0s\n",
      "[CV 1/10] END ...C=3.4000000000000004, gamma=3.0, kernel=rbf; total time=   0.0s\n",
      "[CV 2/10] END ...C=3.4000000000000004, gamma=3.0, kernel=rbf; total time=   0.0s\n",
      "[CV 3/10] END ...C=3.4000000000000004, gamma=3.0, kernel=rbf; total time=   0.0s\n",
      "[CV 4/10] END ...C=3.4000000000000004, gamma=3.0, kernel=rbf; total time=   0.0s\n",
      "[CV 5/10] END ...C=3.4000000000000004, gamma=3.0, kernel=rbf; total time=   0.0s\n",
      "[CV 6/10] END ...C=3.4000000000000004, gamma=3.0, kernel=rbf; total time=   0.0s\n",
      "[CV 7/10] END ...C=3.4000000000000004, gamma=3.0, kernel=rbf; total time=   0.0s\n",
      "[CV 8/10] END ...C=3.4000000000000004, gamma=3.0, kernel=rbf; total time=   0.0s\n",
      "[CV 9/10] END ...C=3.4000000000000004, gamma=3.0, kernel=rbf; total time=   0.0s\n",
      "[CV 10/10] END ..C=3.4000000000000004, gamma=3.0, kernel=rbf; total time=   0.0s\n",
      "[CV 1/10] END ...C=3.4000000000000004, gamma=4.0, kernel=rbf; total time=   0.0s\n",
      "[CV 2/10] END ...C=3.4000000000000004, gamma=4.0, kernel=rbf; total time=   0.0s\n",
      "[CV 3/10] END ...C=3.4000000000000004, gamma=4.0, kernel=rbf; total time=   0.0s\n",
      "[CV 4/10] END ...C=3.4000000000000004, gamma=4.0, kernel=rbf; total time=   0.0s\n",
      "[CV 5/10] END ...C=3.4000000000000004, gamma=4.0, kernel=rbf; total time=   0.0s\n",
      "[CV 6/10] END ...C=3.4000000000000004, gamma=4.0, kernel=rbf; total time=   0.0s\n",
      "[CV 7/10] END ...C=3.4000000000000004, gamma=4.0, kernel=rbf; total time=   0.0s\n",
      "[CV 8/10] END ...C=3.4000000000000004, gamma=4.0, kernel=rbf; total time=   0.0s\n",
      "[CV 9/10] END ...C=3.4000000000000004, gamma=4.0, kernel=rbf; total time=   0.0s\n",
      "[CV 10/10] END ..C=3.4000000000000004, gamma=4.0, kernel=rbf; total time=   0.0s\n",
      "[CV 1/10] END ...C=3.4000000000000004, gamma=5.0, kernel=rbf; total time=   0.0s\n",
      "[CV 2/10] END ...C=3.4000000000000004, gamma=5.0, kernel=rbf; total time=   0.0s\n",
      "[CV 3/10] END ...C=3.4000000000000004, gamma=5.0, kernel=rbf; total time=   0.0s\n",
      "[CV 4/10] END ...C=3.4000000000000004, gamma=5.0, kernel=rbf; total time=   0.0s\n",
      "[CV 5/10] END ...C=3.4000000000000004, gamma=5.0, kernel=rbf; total time=   0.0s\n",
      "[CV 6/10] END ...C=3.4000000000000004, gamma=5.0, kernel=rbf; total time=   0.0s\n",
      "[CV 7/10] END ...C=3.4000000000000004, gamma=5.0, kernel=rbf; total time=   0.0s\n",
      "[CV 8/10] END ...C=3.4000000000000004, gamma=5.0, kernel=rbf; total time=   0.0s\n",
      "[CV 9/10] END ...C=3.4000000000000004, gamma=5.0, kernel=rbf; total time=   0.0s\n",
      "[CV 10/10] END ..C=3.4000000000000004, gamma=5.0, kernel=rbf; total time=   0.0s\n",
      "[CV 1/10] END ...C=3.6000000000000005, gamma=1.0, kernel=rbf; total time=   0.0s\n",
      "[CV 2/10] END ...C=3.6000000000000005, gamma=1.0, kernel=rbf; total time=   0.0s\n",
      "[CV 3/10] END ...C=3.6000000000000005, gamma=1.0, kernel=rbf; total time=   0.0s\n",
      "[CV 4/10] END ...C=3.6000000000000005, gamma=1.0, kernel=rbf; total time=   0.0s\n",
      "[CV 5/10] END ...C=3.6000000000000005, gamma=1.0, kernel=rbf; total time=   0.0s\n",
      "[CV 6/10] END ...C=3.6000000000000005, gamma=1.0, kernel=rbf; total time=   0.0s\n",
      "[CV 7/10] END ...C=3.6000000000000005, gamma=1.0, kernel=rbf; total time=   0.0s\n",
      "[CV 8/10] END ...C=3.6000000000000005, gamma=1.0, kernel=rbf; total time=   0.0s\n",
      "[CV 9/10] END ...C=3.6000000000000005, gamma=1.0, kernel=rbf; total time=   0.0s\n",
      "[CV 10/10] END ..C=3.6000000000000005, gamma=1.0, kernel=rbf; total time=   0.0s\n",
      "[CV 1/10] END ...C=3.6000000000000005, gamma=2.0, kernel=rbf; total time=   0.0s\n",
      "[CV 2/10] END ...C=3.6000000000000005, gamma=2.0, kernel=rbf; total time=   0.0s\n",
      "[CV 3/10] END ...C=3.6000000000000005, gamma=2.0, kernel=rbf; total time=   0.0s\n",
      "[CV 4/10] END ...C=3.6000000000000005, gamma=2.0, kernel=rbf; total time=   0.0s\n",
      "[CV 5/10] END ...C=3.6000000000000005, gamma=2.0, kernel=rbf; total time=   0.0s\n",
      "[CV 6/10] END ...C=3.6000000000000005, gamma=2.0, kernel=rbf; total time=   0.0s\n",
      "[CV 7/10] END ...C=3.6000000000000005, gamma=2.0, kernel=rbf; total time=   0.0s\n",
      "[CV 8/10] END ...C=3.6000000000000005, gamma=2.0, kernel=rbf; total time=   0.0s\n",
      "[CV 9/10] END ...C=3.6000000000000005, gamma=2.0, kernel=rbf; total time=   0.0s\n",
      "[CV 10/10] END ..C=3.6000000000000005, gamma=2.0, kernel=rbf; total time=   0.0s\n",
      "[CV 1/10] END ...C=3.6000000000000005, gamma=3.0, kernel=rbf; total time=   0.0s\n",
      "[CV 2/10] END ...C=3.6000000000000005, gamma=3.0, kernel=rbf; total time=   0.0s\n",
      "[CV 3/10] END ...C=3.6000000000000005, gamma=3.0, kernel=rbf; total time=   0.0s\n",
      "[CV 4/10] END ...C=3.6000000000000005, gamma=3.0, kernel=rbf; total time=   0.0s\n",
      "[CV 5/10] END ...C=3.6000000000000005, gamma=3.0, kernel=rbf; total time=   0.0s\n",
      "[CV 6/10] END ...C=3.6000000000000005, gamma=3.0, kernel=rbf; total time=   0.0s\n",
      "[CV 7/10] END ...C=3.6000000000000005, gamma=3.0, kernel=rbf; total time=   0.0s\n",
      "[CV 8/10] END ...C=3.6000000000000005, gamma=3.0, kernel=rbf; total time=   0.0s\n",
      "[CV 9/10] END ...C=3.6000000000000005, gamma=3.0, kernel=rbf; total time=   0.0s\n",
      "[CV 10/10] END ..C=3.6000000000000005, gamma=3.0, kernel=rbf; total time=   0.0s\n",
      "[CV 1/10] END ...C=3.6000000000000005, gamma=4.0, kernel=rbf; total time=   0.0s\n",
      "[CV 2/10] END ...C=3.6000000000000005, gamma=4.0, kernel=rbf; total time=   0.0s\n",
      "[CV 3/10] END ...C=3.6000000000000005, gamma=4.0, kernel=rbf; total time=   0.0s\n",
      "[CV 4/10] END ...C=3.6000000000000005, gamma=4.0, kernel=rbf; total time=   0.0s\n",
      "[CV 5/10] END ...C=3.6000000000000005, gamma=4.0, kernel=rbf; total time=   0.0s\n",
      "[CV 6/10] END ...C=3.6000000000000005, gamma=4.0, kernel=rbf; total time=   0.0s\n",
      "[CV 7/10] END ...C=3.6000000000000005, gamma=4.0, kernel=rbf; total time=   0.0s\n",
      "[CV 8/10] END ...C=3.6000000000000005, gamma=4.0, kernel=rbf; total time=   0.0s\n",
      "[CV 9/10] END ...C=3.6000000000000005, gamma=4.0, kernel=rbf; total time=   0.0s\n",
      "[CV 10/10] END ..C=3.6000000000000005, gamma=4.0, kernel=rbf; total time=   0.0s\n",
      "[CV 1/10] END ...C=3.6000000000000005, gamma=5.0, kernel=rbf; total time=   0.0s\n",
      "[CV 2/10] END ...C=3.6000000000000005, gamma=5.0, kernel=rbf; total time=   0.0s\n",
      "[CV 3/10] END ...C=3.6000000000000005, gamma=5.0, kernel=rbf; total time=   0.0s\n",
      "[CV 4/10] END ...C=3.6000000000000005, gamma=5.0, kernel=rbf; total time=   0.0s\n",
      "[CV 5/10] END ...C=3.6000000000000005, gamma=5.0, kernel=rbf; total time=   0.0s\n",
      "[CV 6/10] END ...C=3.6000000000000005, gamma=5.0, kernel=rbf; total time=   0.0s\n",
      "[CV 7/10] END ...C=3.6000000000000005, gamma=5.0, kernel=rbf; total time=   0.0s\n",
      "[CV 8/10] END ...C=3.6000000000000005, gamma=5.0, kernel=rbf; total time=   0.0s\n",
      "[CV 9/10] END ...C=3.6000000000000005, gamma=5.0, kernel=rbf; total time=   0.0s\n",
      "[CV 10/10] END ..C=3.6000000000000005, gamma=5.0, kernel=rbf; total time=   0.0s\n",
      "[CV 1/10] END ...C=3.8000000000000007, gamma=1.0, kernel=rbf; total time=   0.0s\n",
      "[CV 2/10] END ...C=3.8000000000000007, gamma=1.0, kernel=rbf; total time=   0.0s\n",
      "[CV 3/10] END ...C=3.8000000000000007, gamma=1.0, kernel=rbf; total time=   0.0s\n",
      "[CV 4/10] END ...C=3.8000000000000007, gamma=1.0, kernel=rbf; total time=   0.0s\n",
      "[CV 5/10] END ...C=3.8000000000000007, gamma=1.0, kernel=rbf; total time=   0.0s\n",
      "[CV 6/10] END ...C=3.8000000000000007, gamma=1.0, kernel=rbf; total time=   0.0s\n",
      "[CV 7/10] END ...C=3.8000000000000007, gamma=1.0, kernel=rbf; total time=   0.0s\n",
      "[CV 8/10] END ...C=3.8000000000000007, gamma=1.0, kernel=rbf; total time=   0.0s\n",
      "[CV 9/10] END ...C=3.8000000000000007, gamma=1.0, kernel=rbf; total time=   0.0s\n",
      "[CV 10/10] END ..C=3.8000000000000007, gamma=1.0, kernel=rbf; total time=   0.0s\n",
      "[CV 1/10] END ...C=3.8000000000000007, gamma=2.0, kernel=rbf; total time=   0.0s\n",
      "[CV 2/10] END ...C=3.8000000000000007, gamma=2.0, kernel=rbf; total time=   0.0s\n",
      "[CV 3/10] END ...C=3.8000000000000007, gamma=2.0, kernel=rbf; total time=   0.0s\n",
      "[CV 4/10] END ...C=3.8000000000000007, gamma=2.0, kernel=rbf; total time=   0.0s\n",
      "[CV 5/10] END ...C=3.8000000000000007, gamma=2.0, kernel=rbf; total time=   0.0s\n"
     ]
    },
    {
     "name": "stdout",
     "output_type": "stream",
     "text": [
      "[CV 6/10] END ...C=3.8000000000000007, gamma=2.0, kernel=rbf; total time=   0.0s\n",
      "[CV 7/10] END ...C=3.8000000000000007, gamma=2.0, kernel=rbf; total time=   0.0s\n",
      "[CV 8/10] END ...C=3.8000000000000007, gamma=2.0, kernel=rbf; total time=   0.0s\n",
      "[CV 9/10] END ...C=3.8000000000000007, gamma=2.0, kernel=rbf; total time=   0.0s\n",
      "[CV 10/10] END ..C=3.8000000000000007, gamma=2.0, kernel=rbf; total time=   0.0s\n",
      "[CV 1/10] END ...C=3.8000000000000007, gamma=3.0, kernel=rbf; total time=   0.0s\n",
      "[CV 2/10] END ...C=3.8000000000000007, gamma=3.0, kernel=rbf; total time=   0.0s\n",
      "[CV 3/10] END ...C=3.8000000000000007, gamma=3.0, kernel=rbf; total time=   0.0s\n",
      "[CV 4/10] END ...C=3.8000000000000007, gamma=3.0, kernel=rbf; total time=   0.0s\n",
      "[CV 5/10] END ...C=3.8000000000000007, gamma=3.0, kernel=rbf; total time=   0.0s\n",
      "[CV 6/10] END ...C=3.8000000000000007, gamma=3.0, kernel=rbf; total time=   0.0s\n",
      "[CV 7/10] END ...C=3.8000000000000007, gamma=3.0, kernel=rbf; total time=   0.0s\n",
      "[CV 8/10] END ...C=3.8000000000000007, gamma=3.0, kernel=rbf; total time=   0.0s\n",
      "[CV 9/10] END ...C=3.8000000000000007, gamma=3.0, kernel=rbf; total time=   0.0s\n",
      "[CV 10/10] END ..C=3.8000000000000007, gamma=3.0, kernel=rbf; total time=   0.0s\n",
      "[CV 1/10] END ...C=3.8000000000000007, gamma=4.0, kernel=rbf; total time=   0.0s\n",
      "[CV 2/10] END ...C=3.8000000000000007, gamma=4.0, kernel=rbf; total time=   0.0s\n",
      "[CV 3/10] END ...C=3.8000000000000007, gamma=4.0, kernel=rbf; total time=   0.0s\n",
      "[CV 4/10] END ...C=3.8000000000000007, gamma=4.0, kernel=rbf; total time=   0.0s\n",
      "[CV 5/10] END ...C=3.8000000000000007, gamma=4.0, kernel=rbf; total time=   0.0s\n",
      "[CV 6/10] END ...C=3.8000000000000007, gamma=4.0, kernel=rbf; total time=   0.0s\n",
      "[CV 7/10] END ...C=3.8000000000000007, gamma=4.0, kernel=rbf; total time=   0.0s\n",
      "[CV 8/10] END ...C=3.8000000000000007, gamma=4.0, kernel=rbf; total time=   0.0s\n",
      "[CV 9/10] END ...C=3.8000000000000007, gamma=4.0, kernel=rbf; total time=   0.0s\n",
      "[CV 10/10] END ..C=3.8000000000000007, gamma=4.0, kernel=rbf; total time=   0.0s\n",
      "[CV 1/10] END ...C=3.8000000000000007, gamma=5.0, kernel=rbf; total time=   0.0s\n",
      "[CV 2/10] END ...C=3.8000000000000007, gamma=5.0, kernel=rbf; total time=   0.0s\n",
      "[CV 3/10] END ...C=3.8000000000000007, gamma=5.0, kernel=rbf; total time=   0.0s\n",
      "[CV 4/10] END ...C=3.8000000000000007, gamma=5.0, kernel=rbf; total time=   0.0s\n",
      "[CV 5/10] END ...C=3.8000000000000007, gamma=5.0, kernel=rbf; total time=   0.0s\n",
      "[CV 6/10] END ...C=3.8000000000000007, gamma=5.0, kernel=rbf; total time=   0.0s\n",
      "[CV 7/10] END ...C=3.8000000000000007, gamma=5.0, kernel=rbf; total time=   0.0s\n",
      "[CV 8/10] END ...C=3.8000000000000007, gamma=5.0, kernel=rbf; total time=   0.0s\n",
      "[CV 9/10] END ...C=3.8000000000000007, gamma=5.0, kernel=rbf; total time=   0.0s\n",
      "[CV 10/10] END ..C=3.8000000000000007, gamma=5.0, kernel=rbf; total time=   0.0s\n",
      "[CV 1/10] END ....C=4.000000000000001, gamma=1.0, kernel=rbf; total time=   0.0s\n",
      "[CV 2/10] END ....C=4.000000000000001, gamma=1.0, kernel=rbf; total time=   0.0s\n",
      "[CV 3/10] END ....C=4.000000000000001, gamma=1.0, kernel=rbf; total time=   0.0s\n",
      "[CV 4/10] END ....C=4.000000000000001, gamma=1.0, kernel=rbf; total time=   0.0s\n",
      "[CV 5/10] END ....C=4.000000000000001, gamma=1.0, kernel=rbf; total time=   0.0s\n",
      "[CV 6/10] END ....C=4.000000000000001, gamma=1.0, kernel=rbf; total time=   0.0s\n",
      "[CV 7/10] END ....C=4.000000000000001, gamma=1.0, kernel=rbf; total time=   0.0s\n",
      "[CV 8/10] END ....C=4.000000000000001, gamma=1.0, kernel=rbf; total time=   0.0s\n",
      "[CV 9/10] END ....C=4.000000000000001, gamma=1.0, kernel=rbf; total time=   0.0s\n",
      "[CV 10/10] END ...C=4.000000000000001, gamma=1.0, kernel=rbf; total time=   0.0s\n",
      "[CV 1/10] END ....C=4.000000000000001, gamma=2.0, kernel=rbf; total time=   0.0s\n",
      "[CV 2/10] END ....C=4.000000000000001, gamma=2.0, kernel=rbf; total time=   0.0s\n",
      "[CV 3/10] END ....C=4.000000000000001, gamma=2.0, kernel=rbf; total time=   0.0s\n",
      "[CV 4/10] END ....C=4.000000000000001, gamma=2.0, kernel=rbf; total time=   0.0s\n",
      "[CV 5/10] END ....C=4.000000000000001, gamma=2.0, kernel=rbf; total time=   0.0s\n",
      "[CV 6/10] END ....C=4.000000000000001, gamma=2.0, kernel=rbf; total time=   0.0s\n",
      "[CV 7/10] END ....C=4.000000000000001, gamma=2.0, kernel=rbf; total time=   0.0s\n",
      "[CV 8/10] END ....C=4.000000000000001, gamma=2.0, kernel=rbf; total time=   0.0s\n",
      "[CV 9/10] END ....C=4.000000000000001, gamma=2.0, kernel=rbf; total time=   0.0s\n",
      "[CV 10/10] END ...C=4.000000000000001, gamma=2.0, kernel=rbf; total time=   0.0s\n",
      "[CV 1/10] END ....C=4.000000000000001, gamma=3.0, kernel=rbf; total time=   0.0s\n",
      "[CV 2/10] END ....C=4.000000000000001, gamma=3.0, kernel=rbf; total time=   0.0s\n",
      "[CV 3/10] END ....C=4.000000000000001, gamma=3.0, kernel=rbf; total time=   0.0s\n",
      "[CV 4/10] END ....C=4.000000000000001, gamma=3.0, kernel=rbf; total time=   0.0s\n",
      "[CV 5/10] END ....C=4.000000000000001, gamma=3.0, kernel=rbf; total time=   0.0s\n",
      "[CV 6/10] END ....C=4.000000000000001, gamma=3.0, kernel=rbf; total time=   0.0s\n",
      "[CV 7/10] END ....C=4.000000000000001, gamma=3.0, kernel=rbf; total time=   0.0s\n",
      "[CV 8/10] END ....C=4.000000000000001, gamma=3.0, kernel=rbf; total time=   0.0s\n",
      "[CV 9/10] END ....C=4.000000000000001, gamma=3.0, kernel=rbf; total time=   0.0s\n",
      "[CV 10/10] END ...C=4.000000000000001, gamma=3.0, kernel=rbf; total time=   0.0s\n",
      "[CV 1/10] END ....C=4.000000000000001, gamma=4.0, kernel=rbf; total time=   0.0s\n",
      "[CV 2/10] END ....C=4.000000000000001, gamma=4.0, kernel=rbf; total time=   0.0s\n",
      "[CV 3/10] END ....C=4.000000000000001, gamma=4.0, kernel=rbf; total time=   0.0s\n",
      "[CV 4/10] END ....C=4.000000000000001, gamma=4.0, kernel=rbf; total time=   0.0s\n",
      "[CV 5/10] END ....C=4.000000000000001, gamma=4.0, kernel=rbf; total time=   0.0s\n",
      "[CV 6/10] END ....C=4.000000000000001, gamma=4.0, kernel=rbf; total time=   0.0s\n",
      "[CV 7/10] END ....C=4.000000000000001, gamma=4.0, kernel=rbf; total time=   0.0s\n",
      "[CV 8/10] END ....C=4.000000000000001, gamma=4.0, kernel=rbf; total time=   0.0s\n",
      "[CV 9/10] END ....C=4.000000000000001, gamma=4.0, kernel=rbf; total time=   0.0s\n",
      "[CV 10/10] END ...C=4.000000000000001, gamma=4.0, kernel=rbf; total time=   0.0s\n",
      "[CV 1/10] END ....C=4.000000000000001, gamma=5.0, kernel=rbf; total time=   0.0s\n",
      "[CV 2/10] END ....C=4.000000000000001, gamma=5.0, kernel=rbf; total time=   0.0s\n",
      "[CV 3/10] END ....C=4.000000000000001, gamma=5.0, kernel=rbf; total time=   0.0s\n",
      "[CV 4/10] END ....C=4.000000000000001, gamma=5.0, kernel=rbf; total time=   0.0s\n",
      "[CV 5/10] END ....C=4.000000000000001, gamma=5.0, kernel=rbf; total time=   0.0s\n",
      "[CV 6/10] END ....C=4.000000000000001, gamma=5.0, kernel=rbf; total time=   0.0s\n",
      "[CV 7/10] END ....C=4.000000000000001, gamma=5.0, kernel=rbf; total time=   0.0s\n",
      "[CV 8/10] END ....C=4.000000000000001, gamma=5.0, kernel=rbf; total time=   0.0s\n",
      "[CV 9/10] END ....C=4.000000000000001, gamma=5.0, kernel=rbf; total time=   0.0s\n",
      "[CV 10/10] END ...C=4.000000000000001, gamma=5.0, kernel=rbf; total time=   0.0s\n",
      "[CV 1/10] END ....C=4.200000000000001, gamma=1.0, kernel=rbf; total time=   0.0s\n",
      "[CV 2/10] END ....C=4.200000000000001, gamma=1.0, kernel=rbf; total time=   0.0s\n",
      "[CV 3/10] END ....C=4.200000000000001, gamma=1.0, kernel=rbf; total time=   0.0s\n",
      "[CV 4/10] END ....C=4.200000000000001, gamma=1.0, kernel=rbf; total time=   0.0s\n",
      "[CV 5/10] END ....C=4.200000000000001, gamma=1.0, kernel=rbf; total time=   0.0s\n",
      "[CV 6/10] END ....C=4.200000000000001, gamma=1.0, kernel=rbf; total time=   0.0s\n",
      "[CV 7/10] END ....C=4.200000000000001, gamma=1.0, kernel=rbf; total time=   0.0s\n",
      "[CV 8/10] END ....C=4.200000000000001, gamma=1.0, kernel=rbf; total time=   0.0s\n",
      "[CV 9/10] END ....C=4.200000000000001, gamma=1.0, kernel=rbf; total time=   0.0s\n",
      "[CV 10/10] END ...C=4.200000000000001, gamma=1.0, kernel=rbf; total time=   0.0s\n",
      "[CV 1/10] END ....C=4.200000000000001, gamma=2.0, kernel=rbf; total time=   0.0s\n",
      "[CV 2/10] END ....C=4.200000000000001, gamma=2.0, kernel=rbf; total time=   0.0s\n",
      "[CV 3/10] END ....C=4.200000000000001, gamma=2.0, kernel=rbf; total time=   0.0s\n",
      "[CV 4/10] END ....C=4.200000000000001, gamma=2.0, kernel=rbf; total time=   0.0s\n",
      "[CV 5/10] END ....C=4.200000000000001, gamma=2.0, kernel=rbf; total time=   0.0s\n",
      "[CV 6/10] END ....C=4.200000000000001, gamma=2.0, kernel=rbf; total time=   0.0s\n",
      "[CV 7/10] END ....C=4.200000000000001, gamma=2.0, kernel=rbf; total time=   0.0s\n",
      "[CV 8/10] END ....C=4.200000000000001, gamma=2.0, kernel=rbf; total time=   0.0s\n",
      "[CV 9/10] END ....C=4.200000000000001, gamma=2.0, kernel=rbf; total time=   0.0s\n",
      "[CV 10/10] END ...C=4.200000000000001, gamma=2.0, kernel=rbf; total time=   0.0s\n",
      "[CV 1/10] END ....C=4.200000000000001, gamma=3.0, kernel=rbf; total time=   0.0s\n",
      "[CV 2/10] END ....C=4.200000000000001, gamma=3.0, kernel=rbf; total time=   0.0s\n",
      "[CV 3/10] END ....C=4.200000000000001, gamma=3.0, kernel=rbf; total time=   0.0s\n",
      "[CV 4/10] END ....C=4.200000000000001, gamma=3.0, kernel=rbf; total time=   0.0s\n",
      "[CV 5/10] END ....C=4.200000000000001, gamma=3.0, kernel=rbf; total time=   0.0s\n",
      "[CV 6/10] END ....C=4.200000000000001, gamma=3.0, kernel=rbf; total time=   0.0s\n",
      "[CV 7/10] END ....C=4.200000000000001, gamma=3.0, kernel=rbf; total time=   0.0s\n",
      "[CV 8/10] END ....C=4.200000000000001, gamma=3.0, kernel=rbf; total time=   0.0s\n",
      "[CV 9/10] END ....C=4.200000000000001, gamma=3.0, kernel=rbf; total time=   0.0s\n",
      "[CV 10/10] END ...C=4.200000000000001, gamma=3.0, kernel=rbf; total time=   0.0s\n",
      "[CV 1/10] END ....C=4.200000000000001, gamma=4.0, kernel=rbf; total time=   0.0s\n",
      "[CV 2/10] END ....C=4.200000000000001, gamma=4.0, kernel=rbf; total time=   0.0s\n",
      "[CV 3/10] END ....C=4.200000000000001, gamma=4.0, kernel=rbf; total time=   0.0s\n",
      "[CV 4/10] END ....C=4.200000000000001, gamma=4.0, kernel=rbf; total time=   0.0s\n",
      "[CV 5/10] END ....C=4.200000000000001, gamma=4.0, kernel=rbf; total time=   0.0s\n",
      "[CV 6/10] END ....C=4.200000000000001, gamma=4.0, kernel=rbf; total time=   0.0s\n"
     ]
    },
    {
     "name": "stdout",
     "output_type": "stream",
     "text": [
      "[CV 7/10] END ....C=4.200000000000001, gamma=4.0, kernel=rbf; total time=   0.0s\n",
      "[CV 8/10] END ....C=4.200000000000001, gamma=4.0, kernel=rbf; total time=   0.0s\n",
      "[CV 9/10] END ....C=4.200000000000001, gamma=4.0, kernel=rbf; total time=   0.0s\n",
      "[CV 10/10] END ...C=4.200000000000001, gamma=4.0, kernel=rbf; total time=   0.0s\n",
      "[CV 1/10] END ....C=4.200000000000001, gamma=5.0, kernel=rbf; total time=   0.0s\n",
      "[CV 2/10] END ....C=4.200000000000001, gamma=5.0, kernel=rbf; total time=   0.0s\n",
      "[CV 3/10] END ....C=4.200000000000001, gamma=5.0, kernel=rbf; total time=   0.0s\n",
      "[CV 4/10] END ....C=4.200000000000001, gamma=5.0, kernel=rbf; total time=   0.0s\n",
      "[CV 5/10] END ....C=4.200000000000001, gamma=5.0, kernel=rbf; total time=   0.0s\n",
      "[CV 6/10] END ....C=4.200000000000001, gamma=5.0, kernel=rbf; total time=   0.0s\n",
      "[CV 7/10] END ....C=4.200000000000001, gamma=5.0, kernel=rbf; total time=   0.0s\n",
      "[CV 8/10] END ....C=4.200000000000001, gamma=5.0, kernel=rbf; total time=   0.0s\n",
      "[CV 9/10] END ....C=4.200000000000001, gamma=5.0, kernel=rbf; total time=   0.0s\n",
      "[CV 10/10] END ...C=4.200000000000001, gamma=5.0, kernel=rbf; total time=   0.0s\n",
      "[CV 1/10] END ....C=4.400000000000001, gamma=1.0, kernel=rbf; total time=   0.0s\n",
      "[CV 2/10] END ....C=4.400000000000001, gamma=1.0, kernel=rbf; total time=   0.0s\n",
      "[CV 3/10] END ....C=4.400000000000001, gamma=1.0, kernel=rbf; total time=   0.0s\n",
      "[CV 4/10] END ....C=4.400000000000001, gamma=1.0, kernel=rbf; total time=   0.0s\n",
      "[CV 5/10] END ....C=4.400000000000001, gamma=1.0, kernel=rbf; total time=   0.0s\n",
      "[CV 6/10] END ....C=4.400000000000001, gamma=1.0, kernel=rbf; total time=   0.0s\n",
      "[CV 7/10] END ....C=4.400000000000001, gamma=1.0, kernel=rbf; total time=   0.0s\n",
      "[CV 8/10] END ....C=4.400000000000001, gamma=1.0, kernel=rbf; total time=   0.0s\n",
      "[CV 9/10] END ....C=4.400000000000001, gamma=1.0, kernel=rbf; total time=   0.0s\n",
      "[CV 10/10] END ...C=4.400000000000001, gamma=1.0, kernel=rbf; total time=   0.0s\n",
      "[CV 1/10] END ....C=4.400000000000001, gamma=2.0, kernel=rbf; total time=   0.0s\n",
      "[CV 2/10] END ....C=4.400000000000001, gamma=2.0, kernel=rbf; total time=   0.0s\n",
      "[CV 3/10] END ....C=4.400000000000001, gamma=2.0, kernel=rbf; total time=   0.0s\n",
      "[CV 4/10] END ....C=4.400000000000001, gamma=2.0, kernel=rbf; total time=   0.0s\n",
      "[CV 5/10] END ....C=4.400000000000001, gamma=2.0, kernel=rbf; total time=   0.0s\n",
      "[CV 6/10] END ....C=4.400000000000001, gamma=2.0, kernel=rbf; total time=   0.0s\n",
      "[CV 7/10] END ....C=4.400000000000001, gamma=2.0, kernel=rbf; total time=   0.0s\n",
      "[CV 8/10] END ....C=4.400000000000001, gamma=2.0, kernel=rbf; total time=   0.0s\n",
      "[CV 9/10] END ....C=4.400000000000001, gamma=2.0, kernel=rbf; total time=   0.0s\n",
      "[CV 10/10] END ...C=4.400000000000001, gamma=2.0, kernel=rbf; total time=   0.0s\n",
      "[CV 1/10] END ....C=4.400000000000001, gamma=3.0, kernel=rbf; total time=   0.0s\n",
      "[CV 2/10] END ....C=4.400000000000001, gamma=3.0, kernel=rbf; total time=   0.0s\n",
      "[CV 3/10] END ....C=4.400000000000001, gamma=3.0, kernel=rbf; total time=   0.0s\n",
      "[CV 4/10] END ....C=4.400000000000001, gamma=3.0, kernel=rbf; total time=   0.0s\n",
      "[CV 5/10] END ....C=4.400000000000001, gamma=3.0, kernel=rbf; total time=   0.0s\n",
      "[CV 6/10] END ....C=4.400000000000001, gamma=3.0, kernel=rbf; total time=   0.0s\n",
      "[CV 7/10] END ....C=4.400000000000001, gamma=3.0, kernel=rbf; total time=   0.0s\n",
      "[CV 8/10] END ....C=4.400000000000001, gamma=3.0, kernel=rbf; total time=   0.0s\n",
      "[CV 9/10] END ....C=4.400000000000001, gamma=3.0, kernel=rbf; total time=   0.0s\n",
      "[CV 10/10] END ...C=4.400000000000001, gamma=3.0, kernel=rbf; total time=   0.0s\n",
      "[CV 1/10] END ....C=4.400000000000001, gamma=4.0, kernel=rbf; total time=   0.0s\n",
      "[CV 2/10] END ....C=4.400000000000001, gamma=4.0, kernel=rbf; total time=   0.0s\n",
      "[CV 3/10] END ....C=4.400000000000001, gamma=4.0, kernel=rbf; total time=   0.0s\n",
      "[CV 4/10] END ....C=4.400000000000001, gamma=4.0, kernel=rbf; total time=   0.0s\n",
      "[CV 5/10] END ....C=4.400000000000001, gamma=4.0, kernel=rbf; total time=   0.0s\n",
      "[CV 6/10] END ....C=4.400000000000001, gamma=4.0, kernel=rbf; total time=   0.0s\n",
      "[CV 7/10] END ....C=4.400000000000001, gamma=4.0, kernel=rbf; total time=   0.0s\n",
      "[CV 8/10] END ....C=4.400000000000001, gamma=4.0, kernel=rbf; total time=   0.0s\n",
      "[CV 9/10] END ....C=4.400000000000001, gamma=4.0, kernel=rbf; total time=   0.0s\n",
      "[CV 10/10] END ...C=4.400000000000001, gamma=4.0, kernel=rbf; total time=   0.0s\n",
      "[CV 1/10] END ....C=4.400000000000001, gamma=5.0, kernel=rbf; total time=   0.0s\n",
      "[CV 2/10] END ....C=4.400000000000001, gamma=5.0, kernel=rbf; total time=   0.0s\n",
      "[CV 3/10] END ....C=4.400000000000001, gamma=5.0, kernel=rbf; total time=   0.0s\n",
      "[CV 4/10] END ....C=4.400000000000001, gamma=5.0, kernel=rbf; total time=   0.0s\n",
      "[CV 5/10] END ....C=4.400000000000001, gamma=5.0, kernel=rbf; total time=   0.0s\n",
      "[CV 6/10] END ....C=4.400000000000001, gamma=5.0, kernel=rbf; total time=   0.0s\n",
      "[CV 7/10] END ....C=4.400000000000001, gamma=5.0, kernel=rbf; total time=   0.0s\n",
      "[CV 8/10] END ....C=4.400000000000001, gamma=5.0, kernel=rbf; total time=   0.0s\n",
      "[CV 9/10] END ....C=4.400000000000001, gamma=5.0, kernel=rbf; total time=   0.0s\n",
      "[CV 10/10] END ...C=4.400000000000001, gamma=5.0, kernel=rbf; total time=   0.0s\n",
      "[CV 1/10] END ....C=4.600000000000001, gamma=1.0, kernel=rbf; total time=   0.0s\n",
      "[CV 2/10] END ....C=4.600000000000001, gamma=1.0, kernel=rbf; total time=   0.0s\n",
      "[CV 3/10] END ....C=4.600000000000001, gamma=1.0, kernel=rbf; total time=   0.0s\n",
      "[CV 4/10] END ....C=4.600000000000001, gamma=1.0, kernel=rbf; total time=   0.0s\n",
      "[CV 5/10] END ....C=4.600000000000001, gamma=1.0, kernel=rbf; total time=   0.0s\n",
      "[CV 6/10] END ....C=4.600000000000001, gamma=1.0, kernel=rbf; total time=   0.0s\n",
      "[CV 7/10] END ....C=4.600000000000001, gamma=1.0, kernel=rbf; total time=   0.0s\n",
      "[CV 8/10] END ....C=4.600000000000001, gamma=1.0, kernel=rbf; total time=   0.0s\n",
      "[CV 9/10] END ....C=4.600000000000001, gamma=1.0, kernel=rbf; total time=   0.0s\n",
      "[CV 10/10] END ...C=4.600000000000001, gamma=1.0, kernel=rbf; total time=   0.0s\n",
      "[CV 1/10] END ....C=4.600000000000001, gamma=2.0, kernel=rbf; total time=   0.0s\n",
      "[CV 2/10] END ....C=4.600000000000001, gamma=2.0, kernel=rbf; total time=   0.0s\n",
      "[CV 3/10] END ....C=4.600000000000001, gamma=2.0, kernel=rbf; total time=   0.0s\n",
      "[CV 4/10] END ....C=4.600000000000001, gamma=2.0, kernel=rbf; total time=   0.0s\n",
      "[CV 5/10] END ....C=4.600000000000001, gamma=2.0, kernel=rbf; total time=   0.0s\n",
      "[CV 6/10] END ....C=4.600000000000001, gamma=2.0, kernel=rbf; total time=   0.0s\n",
      "[CV 7/10] END ....C=4.600000000000001, gamma=2.0, kernel=rbf; total time=   0.0s\n",
      "[CV 8/10] END ....C=4.600000000000001, gamma=2.0, kernel=rbf; total time=   0.0s\n",
      "[CV 9/10] END ....C=4.600000000000001, gamma=2.0, kernel=rbf; total time=   0.0s\n",
      "[CV 10/10] END ...C=4.600000000000001, gamma=2.0, kernel=rbf; total time=   0.0s\n",
      "[CV 1/10] END ....C=4.600000000000001, gamma=3.0, kernel=rbf; total time=   0.0s\n",
      "[CV 2/10] END ....C=4.600000000000001, gamma=3.0, kernel=rbf; total time=   0.0s\n",
      "[CV 3/10] END ....C=4.600000000000001, gamma=3.0, kernel=rbf; total time=   0.0s\n",
      "[CV 4/10] END ....C=4.600000000000001, gamma=3.0, kernel=rbf; total time=   0.0s\n",
      "[CV 5/10] END ....C=4.600000000000001, gamma=3.0, kernel=rbf; total time=   0.0s\n",
      "[CV 6/10] END ....C=4.600000000000001, gamma=3.0, kernel=rbf; total time=   0.0s\n",
      "[CV 7/10] END ....C=4.600000000000001, gamma=3.0, kernel=rbf; total time=   0.0s\n",
      "[CV 8/10] END ....C=4.600000000000001, gamma=3.0, kernel=rbf; total time=   0.0s\n",
      "[CV 9/10] END ....C=4.600000000000001, gamma=3.0, kernel=rbf; total time=   0.0s\n",
      "[CV 10/10] END ...C=4.600000000000001, gamma=3.0, kernel=rbf; total time=   0.0s\n",
      "[CV 1/10] END ....C=4.600000000000001, gamma=4.0, kernel=rbf; total time=   0.0s\n",
      "[CV 2/10] END ....C=4.600000000000001, gamma=4.0, kernel=rbf; total time=   0.0s\n",
      "[CV 3/10] END ....C=4.600000000000001, gamma=4.0, kernel=rbf; total time=   0.0s\n",
      "[CV 4/10] END ....C=4.600000000000001, gamma=4.0, kernel=rbf; total time=   0.0s\n",
      "[CV 5/10] END ....C=4.600000000000001, gamma=4.0, kernel=rbf; total time=   0.0s\n",
      "[CV 6/10] END ....C=4.600000000000001, gamma=4.0, kernel=rbf; total time=   0.0s\n",
      "[CV 7/10] END ....C=4.600000000000001, gamma=4.0, kernel=rbf; total time=   0.0s\n",
      "[CV 8/10] END ....C=4.600000000000001, gamma=4.0, kernel=rbf; total time=   0.0s\n",
      "[CV 9/10] END ....C=4.600000000000001, gamma=4.0, kernel=rbf; total time=   0.0s\n",
      "[CV 10/10] END ...C=4.600000000000001, gamma=4.0, kernel=rbf; total time=   0.0s\n",
      "[CV 1/10] END ....C=4.600000000000001, gamma=5.0, kernel=rbf; total time=   0.0s\n",
      "[CV 2/10] END ....C=4.600000000000001, gamma=5.0, kernel=rbf; total time=   0.0s\n",
      "[CV 3/10] END ....C=4.600000000000001, gamma=5.0, kernel=rbf; total time=   0.0s\n",
      "[CV 4/10] END ....C=4.600000000000001, gamma=5.0, kernel=rbf; total time=   0.0s\n",
      "[CV 5/10] END ....C=4.600000000000001, gamma=5.0, kernel=rbf; total time=   0.0s\n",
      "[CV 6/10] END ....C=4.600000000000001, gamma=5.0, kernel=rbf; total time=   0.0s\n",
      "[CV 7/10] END ....C=4.600000000000001, gamma=5.0, kernel=rbf; total time=   0.0s\n",
      "[CV 8/10] END ....C=4.600000000000001, gamma=5.0, kernel=rbf; total time=   0.0s\n",
      "[CV 9/10] END ....C=4.600000000000001, gamma=5.0, kernel=rbf; total time=   0.0s\n",
      "[CV 10/10] END ...C=4.600000000000001, gamma=5.0, kernel=rbf; total time=   0.0s\n",
      "[CV 1/10] END ....C=4.800000000000002, gamma=1.0, kernel=rbf; total time=   0.0s\n",
      "[CV 2/10] END ....C=4.800000000000002, gamma=1.0, kernel=rbf; total time=   0.0s\n",
      "[CV 3/10] END ....C=4.800000000000002, gamma=1.0, kernel=rbf; total time=   0.0s\n",
      "[CV 4/10] END ....C=4.800000000000002, gamma=1.0, kernel=rbf; total time=   0.0s\n"
     ]
    },
    {
     "name": "stdout",
     "output_type": "stream",
     "text": [
      "[CV 5/10] END ....C=4.800000000000002, gamma=1.0, kernel=rbf; total time=   0.0s\n",
      "[CV 6/10] END ....C=4.800000000000002, gamma=1.0, kernel=rbf; total time=   0.0s\n",
      "[CV 7/10] END ....C=4.800000000000002, gamma=1.0, kernel=rbf; total time=   0.0s\n",
      "[CV 8/10] END ....C=4.800000000000002, gamma=1.0, kernel=rbf; total time=   0.0s\n",
      "[CV 9/10] END ....C=4.800000000000002, gamma=1.0, kernel=rbf; total time=   0.0s\n",
      "[CV 10/10] END ...C=4.800000000000002, gamma=1.0, kernel=rbf; total time=   0.0s\n",
      "[CV 1/10] END ....C=4.800000000000002, gamma=2.0, kernel=rbf; total time=   0.0s\n",
      "[CV 2/10] END ....C=4.800000000000002, gamma=2.0, kernel=rbf; total time=   0.0s\n",
      "[CV 3/10] END ....C=4.800000000000002, gamma=2.0, kernel=rbf; total time=   0.0s\n",
      "[CV 4/10] END ....C=4.800000000000002, gamma=2.0, kernel=rbf; total time=   0.0s\n",
      "[CV 5/10] END ....C=4.800000000000002, gamma=2.0, kernel=rbf; total time=   0.0s\n",
      "[CV 6/10] END ....C=4.800000000000002, gamma=2.0, kernel=rbf; total time=   0.0s\n",
      "[CV 7/10] END ....C=4.800000000000002, gamma=2.0, kernel=rbf; total time=   0.0s\n",
      "[CV 8/10] END ....C=4.800000000000002, gamma=2.0, kernel=rbf; total time=   0.0s\n",
      "[CV 9/10] END ....C=4.800000000000002, gamma=2.0, kernel=rbf; total time=   0.0s\n",
      "[CV 10/10] END ...C=4.800000000000002, gamma=2.0, kernel=rbf; total time=   0.0s\n",
      "[CV 1/10] END ....C=4.800000000000002, gamma=3.0, kernel=rbf; total time=   0.0s\n",
      "[CV 2/10] END ....C=4.800000000000002, gamma=3.0, kernel=rbf; total time=   0.0s\n",
      "[CV 3/10] END ....C=4.800000000000002, gamma=3.0, kernel=rbf; total time=   0.0s\n",
      "[CV 4/10] END ....C=4.800000000000002, gamma=3.0, kernel=rbf; total time=   0.0s\n",
      "[CV 5/10] END ....C=4.800000000000002, gamma=3.0, kernel=rbf; total time=   0.0s\n",
      "[CV 6/10] END ....C=4.800000000000002, gamma=3.0, kernel=rbf; total time=   0.0s\n",
      "[CV 7/10] END ....C=4.800000000000002, gamma=3.0, kernel=rbf; total time=   0.0s\n",
      "[CV 8/10] END ....C=4.800000000000002, gamma=3.0, kernel=rbf; total time=   0.0s\n",
      "[CV 9/10] END ....C=4.800000000000002, gamma=3.0, kernel=rbf; total time=   0.0s\n",
      "[CV 10/10] END ...C=4.800000000000002, gamma=3.0, kernel=rbf; total time=   0.0s\n",
      "[CV 1/10] END ....C=4.800000000000002, gamma=4.0, kernel=rbf; total time=   0.0s\n",
      "[CV 2/10] END ....C=4.800000000000002, gamma=4.0, kernel=rbf; total time=   0.0s\n",
      "[CV 3/10] END ....C=4.800000000000002, gamma=4.0, kernel=rbf; total time=   0.0s\n",
      "[CV 4/10] END ....C=4.800000000000002, gamma=4.0, kernel=rbf; total time=   0.0s\n",
      "[CV 5/10] END ....C=4.800000000000002, gamma=4.0, kernel=rbf; total time=   0.0s\n",
      "[CV 6/10] END ....C=4.800000000000002, gamma=4.0, kernel=rbf; total time=   0.0s\n",
      "[CV 7/10] END ....C=4.800000000000002, gamma=4.0, kernel=rbf; total time=   0.0s\n",
      "[CV 8/10] END ....C=4.800000000000002, gamma=4.0, kernel=rbf; total time=   0.0s\n",
      "[CV 9/10] END ....C=4.800000000000002, gamma=4.0, kernel=rbf; total time=   0.0s\n",
      "[CV 10/10] END ...C=4.800000000000002, gamma=4.0, kernel=rbf; total time=   0.0s\n",
      "[CV 1/10] END ....C=4.800000000000002, gamma=5.0, kernel=rbf; total time=   0.0s\n",
      "[CV 2/10] END ....C=4.800000000000002, gamma=5.0, kernel=rbf; total time=   0.0s\n",
      "[CV 3/10] END ....C=4.800000000000002, gamma=5.0, kernel=rbf; total time=   0.0s\n",
      "[CV 4/10] END ....C=4.800000000000002, gamma=5.0, kernel=rbf; total time=   0.0s\n",
      "[CV 5/10] END ....C=4.800000000000002, gamma=5.0, kernel=rbf; total time=   0.0s\n",
      "[CV 6/10] END ....C=4.800000000000002, gamma=5.0, kernel=rbf; total time=   0.0s\n",
      "[CV 7/10] END ....C=4.800000000000002, gamma=5.0, kernel=rbf; total time=   0.0s\n",
      "[CV 8/10] END ....C=4.800000000000002, gamma=5.0, kernel=rbf; total time=   0.0s\n",
      "[CV 9/10] END ....C=4.800000000000002, gamma=5.0, kernel=rbf; total time=   0.0s\n",
      "[CV 10/10] END ...C=4.800000000000002, gamma=5.0, kernel=rbf; total time=   0.0s\n",
      "0.921875\n"
     ]
    }
   ],
   "source": [
    "model_svm.fit(X_train, y_train)\n",
    "print(model_svm.best_score_)"
   ]
  },
  {
   "cell_type": "code",
   "execution_count": 32,
   "id": "a5af96e0",
   "metadata": {},
   "outputs": [
    {
     "name": "stdout",
     "output_type": "stream",
     "text": [
      "{'C': 3.0, 'gamma': 3.0, 'kernel': 'rbf'}\n"
     ]
    }
   ],
   "source": [
    "print(model_svm.best_params_) # 최고의 결과가 나온 경우"
   ]
  },
  {
   "cell_type": "code",
   "execution_count": 33,
   "id": "17036c38",
   "metadata": {},
   "outputs": [],
   "source": [
    "svm_temp = SVC(kernel = 'rbf', gamma = 3.0, C = 3.0)"
   ]
  },
  {
   "cell_type": "code",
   "execution_count": 34,
   "id": "80b613f3",
   "metadata": {},
   "outputs": [
    {
     "name": "stdout",
     "output_type": "stream",
     "text": [
      "Accuracy Score:\n",
      "0.85\n"
     ]
    }
   ],
   "source": [
    "svm_temp.fit(X_train,y_train)\n",
    "y_pred = svm_temp.predict(X_test) # 훈련한 모델로 test셋을 시험해보자\n",
    "print('Accuracy Score:') \n",
    "print(metrics.accuracy_score(y_test,y_pred)) #스코어 확인"
   ]
  },
  {
   "cell_type": "code",
   "execution_count": null,
   "id": "2c0b3915",
   "metadata": {},
   "outputs": [],
   "source": []
  }
 ],
 "metadata": {
  "kernelspec": {
   "display_name": "Python 3 (ipykernel)",
   "language": "python",
   "name": "python3"
  },
  "language_info": {
   "codemirror_mode": {
    "name": "ipython",
    "version": 3
   },
   "file_extension": ".py",
   "mimetype": "text/x-python",
   "name": "python",
   "nbconvert_exporter": "python",
   "pygments_lexer": "ipython3",
   "version": "3.9.13"
  },
  "toc": {
   "base_numbering": 1,
   "nav_menu": {},
   "number_sections": false,
   "sideBar": true,
   "skip_h1_title": false,
   "title_cell": "Table of Contents",
   "title_sidebar": "Contents",
   "toc_cell": false,
   "toc_position": {
    "height": "calc(100% - 180px)",
    "left": "10px",
    "top": "150px",
    "width": "303.837px"
   },
   "toc_section_display": true,
   "toc_window_display": false
  }
 },
 "nbformat": 4,
 "nbformat_minor": 5
}
