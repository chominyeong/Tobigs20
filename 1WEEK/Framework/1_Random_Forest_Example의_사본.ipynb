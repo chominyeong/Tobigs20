{
  "nbformat": 4,
  "nbformat_minor": 0,
  "metadata": {
    "colab": {
      "provenance": [],
      "include_colab_link": true
    },
    "kernelspec": {
      "name": "python3",
      "display_name": "Python 3"
    },
    "language_info": {
      "name": "python"
    }
  },
  "cells": [
    {
      "cell_type": "markdown",
      "metadata": {
        "id": "view-in-github",
        "colab_type": "text"
      },
      "source": [
        "<a href=\"https://colab.research.google.com/github/chominyeong/Tobigs20/blob/main/1WEEK/Framework/1_Random_Forest_Example%EC%9D%98_%EC%82%AC%EB%B3%B8.ipynb\" target=\"_parent\"><img src=\"https://colab.research.google.com/assets/colab-badge.svg\" alt=\"Open In Colab\"/></a>"
      ]
    },
    {
      "cell_type": "code",
      "source": [
        "### matplotlib 한글 폰트 깨짐 방지\n",
        "### 이 셀 실행시키고 런타임->런타임 다시 시작 한 다음에\n",
        "### 이 셀은 건너뛰고 아래부터 실행 시키면 됨.\n",
        "\n",
        "!sudo apt-get install -y fonts-nanum\n",
        "!sudo fc-cache -fv\n",
        "!rm ~/.cache/matplotlib -rf"
      ],
      "metadata": {
        "colab": {
          "base_uri": "https://localhost:8080/"
        },
        "id": "6oMohjBKWQ0O",
        "outputId": "35c9d2b1-8eaa-4924-8f4b-79c8de2d0f09"
      },
      "execution_count": null,
      "outputs": [
        {
          "output_type": "stream",
          "name": "stdout",
          "text": [
            "Reading package lists... Done\n",
            "Building dependency tree       \n",
            "Reading state information... Done\n",
            "The following package was automatically installed and is no longer required:\n",
            "  libnvidia-common-460\n",
            "Use 'sudo apt autoremove' to remove it.\n",
            "The following NEW packages will be installed:\n",
            "  fonts-nanum\n",
            "0 upgraded, 1 newly installed, 0 to remove and 21 not upgraded.\n",
            "Need to get 9,604 kB of archives.\n",
            "After this operation, 29.5 MB of additional disk space will be used.\n",
            "Get:1 http://archive.ubuntu.com/ubuntu bionic/universe amd64 fonts-nanum all 20170925-1 [9,604 kB]\n",
            "Fetched 9,604 kB in 1s (7,272 kB/s)\n",
            "debconf: unable to initialize frontend: Dialog\n",
            "debconf: (No usable dialog-like program is installed, so the dialog based frontend cannot be used. at /usr/share/perl5/Debconf/FrontEnd/Dialog.pm line 76, <> line 1.)\n",
            "debconf: falling back to frontend: Readline\n",
            "debconf: unable to initialize frontend: Readline\n",
            "debconf: (This frontend requires a controlling tty.)\n",
            "debconf: falling back to frontend: Teletype\n",
            "dpkg-preconfigure: unable to re-open stdin: \n",
            "Selecting previously unselected package fonts-nanum.\n",
            "(Reading database ... 124016 files and directories currently installed.)\n",
            "Preparing to unpack .../fonts-nanum_20170925-1_all.deb ...\n",
            "Unpacking fonts-nanum (20170925-1) ...\n",
            "Setting up fonts-nanum (20170925-1) ...\n",
            "Processing triggers for fontconfig (2.12.6-0ubuntu2) ...\n",
            "/usr/share/fonts: caching, new cache contents: 0 fonts, 1 dirs\n",
            "/usr/share/fonts/truetype: caching, new cache contents: 0 fonts, 3 dirs\n",
            "/usr/share/fonts/truetype/humor-sans: caching, new cache contents: 1 fonts, 0 dirs\n",
            "/usr/share/fonts/truetype/liberation: caching, new cache contents: 16 fonts, 0 dirs\n",
            "/usr/share/fonts/truetype/nanum: caching, new cache contents: 10 fonts, 0 dirs\n",
            "/usr/local/share/fonts: caching, new cache contents: 0 fonts, 0 dirs\n",
            "/root/.local/share/fonts: skipping, no such directory\n",
            "/root/.fonts: skipping, no such directory\n",
            "/var/cache/fontconfig: cleaning cache directory\n",
            "/root/.cache/fontconfig: not cleaning non-existent cache directory\n",
            "/root/.fontconfig: not cleaning non-existent cache directory\n",
            "fc-cache: succeeded\n"
          ]
        }
      ]
    },
    {
      "cell_type": "code",
      "source": [
        "from google.colab import drive\n",
        "drive.mount('/content/drive')"
      ],
      "metadata": {
        "colab": {
          "base_uri": "https://localhost:8080/"
        },
        "id": "FacznXw1QzQq",
        "outputId": "7a30777c-c8ec-4855-8c02-ca700946fd2c"
      },
      "execution_count": null,
      "outputs": [
        {
          "output_type": "stream",
          "name": "stdout",
          "text": [
            "Mounted at /content/drive\n"
          ]
        }
      ]
    },
    {
      "cell_type": "code",
      "execution_count": null,
      "metadata": {
        "id": "VNVIPO2MQsVv"
      },
      "outputs": [],
      "source": [
        "import pandas as pd\n",
        "import numpy as np\n",
        "import matplotlib.pyplot as plt\n",
        "from matplotlib import font_manager, rc\n",
        "import matplotlib.pyplot as plt\n",
        "plt.rc('font', family='NanumBarunGothic')\n",
        "import warnings\n",
        "warnings.filterwarnings(action='ignore')"
      ]
    },
    {
      "cell_type": "code",
      "source": [
        "df = pd.read_csv(\"/content/drive/MyDrive/AI/bundang.csv\")\n",
        "df = df.drop(columns=['시군구','단지명','건축년도'])\n",
        "df.head()"
      ],
      "metadata": {
        "colab": {
          "base_uri": "https://localhost:8080/",
          "height": 206
        },
        "id": "uEH04h4vQwuc",
        "outputId": "f7036c14-e9a4-4622-ac32-e194bd964198"
      },
      "execution_count": null,
      "outputs": [
        {
          "output_type": "execute_result",
          "data": {
            "text/plain": [
              "    전용면적  층  경과년수   지하철  대형몰   병원  최고층  총세대수  용적률  건폐율   거래금액\n",
              "0  42.12  2    23  0.46  0.4  2.2    8   342  422   74  15100\n",
              "1  50.22  4    23  0.46  0.4  2.2    8   342  422   74  17600\n",
              "2  42.12  2    23  0.46  0.4  2.2    8   342  422   74  14600\n",
              "3  84.24  5    23  0.46  0.4  2.2    8   342  422   74  27000\n",
              "4  42.12  7    23  0.46  0.4  2.2    8   342  422   74  15300"
            ],
            "text/html": [
              "\n",
              "  <div id=\"df-bf965a20-ebdd-4261-b7aa-99f03f911e4e\">\n",
              "    <div class=\"colab-df-container\">\n",
              "      <div>\n",
              "<style scoped>\n",
              "    .dataframe tbody tr th:only-of-type {\n",
              "        vertical-align: middle;\n",
              "    }\n",
              "\n",
              "    .dataframe tbody tr th {\n",
              "        vertical-align: top;\n",
              "    }\n",
              "\n",
              "    .dataframe thead th {\n",
              "        text-align: right;\n",
              "    }\n",
              "</style>\n",
              "<table border=\"1\" class=\"dataframe\">\n",
              "  <thead>\n",
              "    <tr style=\"text-align: right;\">\n",
              "      <th></th>\n",
              "      <th>전용면적</th>\n",
              "      <th>층</th>\n",
              "      <th>경과년수</th>\n",
              "      <th>지하철</th>\n",
              "      <th>대형몰</th>\n",
              "      <th>병원</th>\n",
              "      <th>최고층</th>\n",
              "      <th>총세대수</th>\n",
              "      <th>용적률</th>\n",
              "      <th>건폐율</th>\n",
              "      <th>거래금액</th>\n",
              "    </tr>\n",
              "  </thead>\n",
              "  <tbody>\n",
              "    <tr>\n",
              "      <th>0</th>\n",
              "      <td>42.12</td>\n",
              "      <td>2</td>\n",
              "      <td>23</td>\n",
              "      <td>0.46</td>\n",
              "      <td>0.4</td>\n",
              "      <td>2.2</td>\n",
              "      <td>8</td>\n",
              "      <td>342</td>\n",
              "      <td>422</td>\n",
              "      <td>74</td>\n",
              "      <td>15100</td>\n",
              "    </tr>\n",
              "    <tr>\n",
              "      <th>1</th>\n",
              "      <td>50.22</td>\n",
              "      <td>4</td>\n",
              "      <td>23</td>\n",
              "      <td>0.46</td>\n",
              "      <td>0.4</td>\n",
              "      <td>2.2</td>\n",
              "      <td>8</td>\n",
              "      <td>342</td>\n",
              "      <td>422</td>\n",
              "      <td>74</td>\n",
              "      <td>17600</td>\n",
              "    </tr>\n",
              "    <tr>\n",
              "      <th>2</th>\n",
              "      <td>42.12</td>\n",
              "      <td>2</td>\n",
              "      <td>23</td>\n",
              "      <td>0.46</td>\n",
              "      <td>0.4</td>\n",
              "      <td>2.2</td>\n",
              "      <td>8</td>\n",
              "      <td>342</td>\n",
              "      <td>422</td>\n",
              "      <td>74</td>\n",
              "      <td>14600</td>\n",
              "    </tr>\n",
              "    <tr>\n",
              "      <th>3</th>\n",
              "      <td>84.24</td>\n",
              "      <td>5</td>\n",
              "      <td>23</td>\n",
              "      <td>0.46</td>\n",
              "      <td>0.4</td>\n",
              "      <td>2.2</td>\n",
              "      <td>8</td>\n",
              "      <td>342</td>\n",
              "      <td>422</td>\n",
              "      <td>74</td>\n",
              "      <td>27000</td>\n",
              "    </tr>\n",
              "    <tr>\n",
              "      <th>4</th>\n",
              "      <td>42.12</td>\n",
              "      <td>7</td>\n",
              "      <td>23</td>\n",
              "      <td>0.46</td>\n",
              "      <td>0.4</td>\n",
              "      <td>2.2</td>\n",
              "      <td>8</td>\n",
              "      <td>342</td>\n",
              "      <td>422</td>\n",
              "      <td>74</td>\n",
              "      <td>15300</td>\n",
              "    </tr>\n",
              "  </tbody>\n",
              "</table>\n",
              "</div>\n",
              "      <button class=\"colab-df-convert\" onclick=\"convertToInteractive('df-bf965a20-ebdd-4261-b7aa-99f03f911e4e')\"\n",
              "              title=\"Convert this dataframe to an interactive table.\"\n",
              "              style=\"display:none;\">\n",
              "        \n",
              "  <svg xmlns=\"http://www.w3.org/2000/svg\" height=\"24px\"viewBox=\"0 0 24 24\"\n",
              "       width=\"24px\">\n",
              "    <path d=\"M0 0h24v24H0V0z\" fill=\"none\"/>\n",
              "    <path d=\"M18.56 5.44l.94 2.06.94-2.06 2.06-.94-2.06-.94-.94-2.06-.94 2.06-2.06.94zm-11 1L8.5 8.5l.94-2.06 2.06-.94-2.06-.94L8.5 2.5l-.94 2.06-2.06.94zm10 10l.94 2.06.94-2.06 2.06-.94-2.06-.94-.94-2.06-.94 2.06-2.06.94z\"/><path d=\"M17.41 7.96l-1.37-1.37c-.4-.4-.92-.59-1.43-.59-.52 0-1.04.2-1.43.59L10.3 9.45l-7.72 7.72c-.78.78-.78 2.05 0 2.83L4 21.41c.39.39.9.59 1.41.59.51 0 1.02-.2 1.41-.59l7.78-7.78 2.81-2.81c.8-.78.8-2.07 0-2.86zM5.41 20L4 18.59l7.72-7.72 1.47 1.35L5.41 20z\"/>\n",
              "  </svg>\n",
              "      </button>\n",
              "      \n",
              "  <style>\n",
              "    .colab-df-container {\n",
              "      display:flex;\n",
              "      flex-wrap:wrap;\n",
              "      gap: 12px;\n",
              "    }\n",
              "\n",
              "    .colab-df-convert {\n",
              "      background-color: #E8F0FE;\n",
              "      border: none;\n",
              "      border-radius: 50%;\n",
              "      cursor: pointer;\n",
              "      display: none;\n",
              "      fill: #1967D2;\n",
              "      height: 32px;\n",
              "      padding: 0 0 0 0;\n",
              "      width: 32px;\n",
              "    }\n",
              "\n",
              "    .colab-df-convert:hover {\n",
              "      background-color: #E2EBFA;\n",
              "      box-shadow: 0px 1px 2px rgba(60, 64, 67, 0.3), 0px 1px 3px 1px rgba(60, 64, 67, 0.15);\n",
              "      fill: #174EA6;\n",
              "    }\n",
              "\n",
              "    [theme=dark] .colab-df-convert {\n",
              "      background-color: #3B4455;\n",
              "      fill: #D2E3FC;\n",
              "    }\n",
              "\n",
              "    [theme=dark] .colab-df-convert:hover {\n",
              "      background-color: #434B5C;\n",
              "      box-shadow: 0px 1px 3px 1px rgba(0, 0, 0, 0.15);\n",
              "      filter: drop-shadow(0px 1px 2px rgba(0, 0, 0, 0.3));\n",
              "      fill: #FFFFFF;\n",
              "    }\n",
              "  </style>\n",
              "\n",
              "      <script>\n",
              "        const buttonEl =\n",
              "          document.querySelector('#df-bf965a20-ebdd-4261-b7aa-99f03f911e4e button.colab-df-convert');\n",
              "        buttonEl.style.display =\n",
              "          google.colab.kernel.accessAllowed ? 'block' : 'none';\n",
              "\n",
              "        async function convertToInteractive(key) {\n",
              "          const element = document.querySelector('#df-bf965a20-ebdd-4261-b7aa-99f03f911e4e');\n",
              "          const dataTable =\n",
              "            await google.colab.kernel.invokeFunction('convertToInteractive',\n",
              "                                                     [key], {});\n",
              "          if (!dataTable) return;\n",
              "\n",
              "          const docLinkHtml = 'Like what you see? Visit the ' +\n",
              "            '<a target=\"_blank\" href=https://colab.research.google.com/notebooks/data_table.ipynb>data table notebook</a>'\n",
              "            + ' to learn more about interactive tables.';\n",
              "          element.innerHTML = '';\n",
              "          dataTable['output_type'] = 'display_data';\n",
              "          await google.colab.output.renderOutput(dataTable, element);\n",
              "          const docLink = document.createElement('div');\n",
              "          docLink.innerHTML = docLinkHtml;\n",
              "          element.appendChild(docLink);\n",
              "        }\n",
              "      </script>\n",
              "    </div>\n",
              "  </div>\n",
              "  "
            ]
          },
          "metadata": {},
          "execution_count": 3
        }
      ]
    },
    {
      "cell_type": "code",
      "source": [
        "## 결측개수 확인하기\n",
        "df.isna().sum()"
      ],
      "metadata": {
        "colab": {
          "base_uri": "https://localhost:8080/"
        },
        "id": "ti1k6F9-Qwwy",
        "outputId": "2da09c89-7baa-4919-a202-1b93d27b78d8"
      },
      "execution_count": null,
      "outputs": [
        {
          "output_type": "execute_result",
          "data": {
            "text/plain": [
              "전용면적    0\n",
              "층       0\n",
              "경과년수    0\n",
              "지하철     0\n",
              "대형몰     0\n",
              "병원      0\n",
              "최고층     0\n",
              "총세대수    0\n",
              "용적률     0\n",
              "건폐율     0\n",
              "거래금액    0\n",
              "dtype: int64"
            ]
          },
          "metadata": {},
          "execution_count": 4
        }
      ]
    },
    {
      "cell_type": "code",
      "source": [
        "## x축의 폭을 100으로 설정하여 '거래금액'의 히스토그램 그리기\n",
        "plt.hist(df['거래금액'],bins=100)"
      ],
      "metadata": {
        "colab": {
          "base_uri": "https://localhost:8080/",
          "height": 742
        },
        "id": "gekeGukSQwzK",
        "outputId": "aaddd846-d449-4db5-93b3-e16975cd2131"
      },
      "execution_count": null,
      "outputs": [
        {
          "output_type": "execute_result",
          "data": {
            "text/plain": [
              "(array([  2.,   5.,  21.,  69., 162., 146., 148., 144., 122.,  97., 149.,\n",
              "         75.,  59.,  59.,  16.,  13.,  14.,  23.,  22.,  34.,  15.,  22.,\n",
              "         24.,  13.,   8.,  17.,  13.,  15.,   3.,  11.,  15.,  13.,   7.,\n",
              "         12.,  12.,   5.,   7.,   4.,  12.,   3.,   3.,   7.,   4.,  11.,\n",
              "          4.,   5.,   6.,   1.,   1.,   2.,   3.,   3.,   1.,   2.,   5.,\n",
              "          2.,   1.,   1.,   0.,   0.,   2.,   0.,   0.,   0.,   1.,   3.,\n",
              "          0.,   3.,   0.,   1.,   3.,   1.,   0.,   0.,   1.,   0.,   0.,\n",
              "          0.,   0.,   0.,   0.,   0.,   0.,   0.,   0.,   0.,   0.,   0.,\n",
              "          0.,   1.,   0.,   0.,   0.,   0.,   0.,   0.,   1.,   0.,   0.,\n",
              "          1.]),\n",
              " array([  8000.,   9870.,  11740.,  13610.,  15480.,  17350.,  19220.,\n",
              "         21090.,  22960.,  24830.,  26700.,  28570.,  30440.,  32310.,\n",
              "         34180.,  36050.,  37920.,  39790.,  41660.,  43530.,  45400.,\n",
              "         47270.,  49140.,  51010.,  52880.,  54750.,  56620.,  58490.,\n",
              "         60360.,  62230.,  64100.,  65970.,  67840.,  69710.,  71580.,\n",
              "         73450.,  75320.,  77190.,  79060.,  80930.,  82800.,  84670.,\n",
              "         86540.,  88410.,  90280.,  92150.,  94020.,  95890.,  97760.,\n",
              "         99630., 101500., 103370., 105240., 107110., 108980., 110850.,\n",
              "        112720., 114590., 116460., 118330., 120200., 122070., 123940.,\n",
              "        125810., 127680., 129550., 131420., 133290., 135160., 137030.,\n",
              "        138900., 140770., 142640., 144510., 146380., 148250., 150120.,\n",
              "        151990., 153860., 155730., 157600., 159470., 161340., 163210.,\n",
              "        165080., 166950., 168820., 170690., 172560., 174430., 176300.,\n",
              "        178170., 180040., 181910., 183780., 185650., 187520., 189390.,\n",
              "        191260., 193130., 195000.]),\n",
              " <a list of 100 Patch objects>)"
            ]
          },
          "metadata": {},
          "execution_count": 5
        },
        {
          "output_type": "display_data",
          "data": {
            "text/plain": [
              "<Figure size 432x288 with 1 Axes>"
            ],
            "image/png": "[encoded data removed]"
          },
          "metadata": {
            "needs_background": "light"
          }
        }
      ]
    },
    {
      "cell_type": "code",
      "source": [
        "## 거래금액에 1을 더해 로그변환한 변수를 새로 만들기(0을 로그변환하기 위해 1을 더함)\n",
        "df['거래금액_log'] = np.log(df['거래금액']+1)\n",
        "\n",
        "## 기존의 변수 삭제\n",
        "df = df.drop(columns=['거래금액'])\n",
        "\n",
        "## 로그변환한 거래금액에 대해 히스토그램 그리기 -> 기존변수보다는 정규분포를 따름\n",
        "plt.hist(df['거래금액_log'],bins=100)"
      ],
      "metadata": {
        "colab": {
          "base_uri": "https://localhost:8080/",
          "height": 816
        },
        "id": "feJ3CrxPQw15",
        "outputId": "ac22c5ac-65f1-42d9-85dd-bdc1e5f44bc3"
      },
      "execution_count": null,
      "outputs": [
        {
          "output_type": "execute_result",
          "data": {
            "text/plain": [
              "(array([ 1.,  0.,  0.,  0.,  0.,  0.,  1.,  1.,  0.,  4.,  0.,  0.,  8.,\n",
              "         3.,  2.,  2., 10.,  8., 13., 29., 37., 41., 59., 36., 30., 52.,\n",
              "        44., 58., 55., 31., 67., 85., 20., 56., 47., 47., 49., 40., 57.,\n",
              "        76., 49., 30., 30., 28., 32., 24.,  9., 12., 10.,  5., 18., 12.,\n",
              "        17., 16., 27., 11., 18., 22., 15.,  6., 16., 10., 15.,  7.,  9.,\n",
              "        19., 13., 18.,  8.,  9.,  8.,  5., 14.,  6.,  7., 14.,  5.,  8.,\n",
              "         2.,  4.,  4.,  4.,  7.,  1.,  1.,  1.,  0.,  4.,  3.,  4.,  1.,\n",
              "         1.,  0.,  0.,  0.,  0.,  1.,  0.,  0.,  2.]),\n",
              " array([ 8.98732181,  9.01925619,  9.05119058,  9.08312496,  9.11505934,\n",
              "         9.14699372,  9.1789281 ,  9.21086248,  9.24279687,  9.27473125,\n",
              "         9.30666563,  9.33860001,  9.37053439,  9.40246877,  9.43440315,\n",
              "         9.46633754,  9.49827192,  9.5302063 ,  9.56214068,  9.59407506,\n",
              "         9.62600944,  9.65794382,  9.68987821,  9.72181259,  9.75374697,\n",
              "         9.78568135,  9.81761573,  9.84955011,  9.8814845 ,  9.91341888,\n",
              "         9.94535326,  9.97728764, 10.00922202, 10.0411564 , 10.07309078,\n",
              "        10.10502517, 10.13695955, 10.16889393, 10.20082831, 10.23276269,\n",
              "        10.26469707, 10.29663146, 10.32856584, 10.36050022, 10.3924346 ,\n",
              "        10.42436898, 10.45630336, 10.48823774, 10.52017213, 10.55210651,\n",
              "        10.58404089, 10.61597527, 10.64790965, 10.67984403, 10.71177842,\n",
              "        10.7437128 , 10.77564718, 10.80758156, 10.83951594, 10.87145032,\n",
              "        10.9033847 , 10.93531909, 10.96725347, 10.99918785, 11.03112223,\n",
              "        11.06305661, 11.09499099, 11.12692538, 11.15885976, 11.19079414,\n",
              "        11.22272852, 11.2546629 , 11.28659728, 11.31853166, 11.35046605,\n",
              "        11.38240043, 11.41433481, 11.44626919, 11.47820357, 11.51013795,\n",
              "        11.54207234, 11.57400672, 11.6059411 , 11.63787548, 11.66980986,\n",
              "        11.70174424, 11.73367862, 11.76561301, 11.79754739, 11.82948177,\n",
              "        11.86141615, 11.89335053, 11.92528491, 11.9572193 , 11.98915368,\n",
              "        12.02108806, 12.05302244, 12.08495682, 12.1168912 , 12.14882558,\n",
              "        12.18075997]),\n",
              " <a list of 100 Patch objects>)"
            ]
          },
          "metadata": {},
          "execution_count": 6
        },
        {
          "output_type": "display_data",
          "data": {
            "text/plain": [
              "<Figure size 432x288 with 1 Axes>"
            ],
            "image/png": "[encoded data removed]"
          },
          "metadata": {
            "needs_background": "light"
          }
        }
      ]
    },
    {
      "cell_type": "code",
      "source": [
        "from sklearn.model_selection import train_test_split\n",
        "from sklearn.ensemble import RandomForestRegressor\n",
        "\n",
        "## 로그변환을 취한 거래금액을 종속변수로 설정\n",
        "Y = df['거래금액_log'].values\n",
        "## 데이터타입 실수로 설정\n",
        "Y = Y.astype('float32')\n",
        "\n",
        "## 거래금액을 제외한 나머지 변수를 독립변수로 설정\n",
        "X = df.drop(columns=['거래금액_log'])\n",
        "X = X.astype('float32')\n",
        "\n",
        "## 전체 데이터를 학습데이터(80%)와 검증데이터(20%)로 나눔\n",
        "X_train, X_test, Y_train, Y_test = train_test_split(X,Y,test_size=0.2, random_state=42)\n",
        "## 랜덤포레스트회귀 모델 생성(생성할 의사결정 나무 개수는 2000개)\n",
        "RF_model = RandomForestRegressor(n_estimators=2000, random_state=42)\n",
        "## 랜포모델 적합시키기\n",
        "RF_model.fit(X_train,Y_train)"
      ],
      "metadata": {
        "colab": {
          "base_uri": "https://localhost:8080/"
        },
        "id": "eB8-PjXQQw4q",
        "outputId": "23c36032-fc88-440b-fa75-94b7cc63049a"
      },
      "execution_count": null,
      "outputs": [
        {
          "output_type": "execute_result",
          "data": {
            "text/plain": [
              "RandomForestRegressor(n_estimators=2000, random_state=42)"
            ]
          },
          "metadata": {},
          "execution_count": 7
        }
      ]
    },
    {
      "cell_type": "code",
      "source": [
        "## 학습데이터에 대한 예측값\n",
        "Train_Prediction = (RF_model.predict(X_train))\n",
        "## 검증데이터에 대한 예측값\n",
        "Test_Prediction = (RF_model.predict(X_test))\n",
        "\n",
        "## 학습데이터의 평균절대오차 구하기\n",
        "RF_Train_MAE = round(np.mean(np.abs(Y_train-Train_Prediction)),3)\n",
        "## 학습데이터의 퍼센트오차값 구하기\n",
        "RF_Train_MAPE = round((np.mean(np.abs((Y_train-Train_Prediction)/(Y_train)))*100),3)\n",
        "\n",
        "## 검증데이터의 평균절대오차 구하기\n",
        "RF_Test_MAE = round(np.mean(np.abs(Y_test-Test_Prediction)),3)\n",
        "## 검증데이터의 퍼센트오차값 구하기\n",
        "RF_Test_MAPE = round((np.mean(np.abs((Y_test-Test_Prediction)/(Y_test)))*100),3)\n",
        "\n",
        "print(\"Mean Absolute Error for Train Set is : {:.3f}\".format(RF_Train_MAE))\n",
        "print(\"Mean Absolute Percent Error for Train Set is : {:.3f} %\".format(RF_Train_MAPE))\n",
        "print(\"Mean Absolute Error for Test Set is : {:.3f}\".format(RF_Test_MAE))\n",
        "print(\"Mean Absolute Percent Error for Test Set is : {:.3f} %\".format(RF_Test_MAPE))"
      ],
      "metadata": {
        "colab": {
          "base_uri": "https://localhost:8080/"
        },
        "id": "hg0XB_PpQw7z",
        "outputId": "958db1cf-2779-4d0f-a5a4-cd8f1897dbb4"
      },
      "execution_count": null,
      "outputs": [
        {
          "output_type": "stream",
          "name": "stdout",
          "text": [
            "Mean Absolute Error for Train Set is : 0.025\n",
            "Mean Absolute Percent Error for Train Set is : 0.242 %\n",
            "Mean Absolute Error for Test Set is : 0.057\n",
            "Mean Absolute Percent Error for Test Set is : 0.544 %\n"
          ]
        }
      ]
    },
    {
      "cell_type": "code",
      "source": [
        "## 검증데이터의 예측값을 지수변환시키기(로그변환의 역변환)\n",
        "Original_Predictions = (np.round(np.exp(Test_Prediction+1),-2)).astype(int)\n",
        "print(Original_Predictions[:10])\n",
        "\n",
        "## 실제값을 지수변환시키기\n",
        "Original_Values = (np.round(np.exp(Y_test+1),-2)).astype(int)\n",
        "print(Original_Values[:10])\n",
        "\n",
        "## 데이터프레임 생성\n",
        "data = {'Original':  Original_Values,'Prediction': Original_Predictions}\n",
        "final = pd.DataFrame(data)\n",
        "final"
      ],
      "metadata": {
        "colab": {
          "base_uri": "https://localhost:8080/",
          "height": 460
        },
        "id": "rxmAwJRhQxAy",
        "outputId": "8eb5b25f-77bb-4a99-9a44-f4501110506f"
      },
      "execution_count": null,
      "outputs": [
        {
          "output_type": "stream",
          "name": "stdout",
          "text": [
            "[ 44500  57300 158300 188800 353700  81700 211400  65500  58200  41900]\n",
            "[ 45700  59800 154900 182100 312600  59800 201200  59800  58400  42400]\n"
          ]
        },
        {
          "output_type": "execute_result",
          "data": {
            "text/plain": [
              "     Original  Prediction\n",
              "0       45700       44500\n",
              "1       59800       57300\n",
              "2      154900      158300\n",
              "3      182100      188800\n",
              "4      312600      353700\n",
              "..        ...         ...\n",
              "334     69300       75800\n",
              "335    187300      225600\n",
              "336     44900       43900\n",
              "337     53000       55000\n",
              "338    293600      257700\n",
              "\n",
              "[339 rows x 2 columns]"
            ],
            "text/html": [
              "\n",
              "  <div id=\"df-80c75919-e951-41f0-99cc-694757b102b2\">\n",
              "    <div class=\"colab-df-container\">\n",
              "      <div>\n",
              "<style scoped>\n",
              "    .dataframe tbody tr th:only-of-type {\n",
              "        vertical-align: middle;\n",
              "    }\n",
              "\n",
              "    .dataframe tbody tr th {\n",
              "        vertical-align: top;\n",
              "    }\n",
              "\n",
              "    .dataframe thead th {\n",
              "        text-align: right;\n",
              "    }\n",
              "</style>\n",
              "<table border=\"1\" class=\"dataframe\">\n",
              "  <thead>\n",
              "    <tr style=\"text-align: right;\">\n",
              "      <th></th>\n",
              "      <th>Original</th>\n",
              "      <th>Prediction</th>\n",
              "    </tr>\n",
              "  </thead>\n",
              "  <tbody>\n",
              "    <tr>\n",
              "      <th>0</th>\n",
              "      <td>45700</td>\n",
              "      <td>44500</td>\n",
              "    </tr>\n",
              "    <tr>\n",
              "      <th>1</th>\n",
              "      <td>59800</td>\n",
              "      <td>57300</td>\n",
              "    </tr>\n",
              "    <tr>\n",
              "      <th>2</th>\n",
              "      <td>154900</td>\n",
              "      <td>158300</td>\n",
              "    </tr>\n",
              "    <tr>\n",
              "      <th>3</th>\n",
              "      <td>182100</td>\n",
              "      <td>188800</td>\n",
              "    </tr>\n",
              "    <tr>\n",
              "      <th>4</th>\n",
              "      <td>312600</td>\n",
              "      <td>353700</td>\n",
              "    </tr>\n",
              "    <tr>\n",
              "      <th>...</th>\n",
              "      <td>...</td>\n",
              "      <td>...</td>\n",
              "    </tr>\n",
              "    <tr>\n",
              "      <th>334</th>\n",
              "      <td>69300</td>\n",
              "      <td>75800</td>\n",
              "    </tr>\n",
              "    <tr>\n",
              "      <th>335</th>\n",
              "      <td>187300</td>\n",
              "      <td>225600</td>\n",
              "    </tr>\n",
              "    <tr>\n",
              "      <th>336</th>\n",
              "      <td>44900</td>\n",
              "      <td>43900</td>\n",
              "    </tr>\n",
              "    <tr>\n",
              "      <th>337</th>\n",
              "      <td>53000</td>\n",
              "      <td>55000</td>\n",
              "    </tr>\n",
              "    <tr>\n",
              "      <th>338</th>\n",
              "      <td>293600</td>\n",
              "      <td>257700</td>\n",
              "    </tr>\n",
              "  </tbody>\n",
              "</table>\n",
              "<p>339 rows × 2 columns</p>\n",
              "</div>\n",
              "      <button class=\"colab-df-convert\" onclick=\"convertToInteractive('df-80c75919-e951-41f0-99cc-694757b102b2')\"\n",
              "              title=\"Convert this dataframe to an interactive table.\"\n",
              "              style=\"display:none;\">\n",
              "        \n",
              "  <svg xmlns=\"http://www.w3.org/2000/svg\" height=\"24px\"viewBox=\"0 0 24 24\"\n",
              "       width=\"24px\">\n",
              "    <path d=\"M0 0h24v24H0V0z\" fill=\"none\"/>\n",
              "    <path d=\"M18.56 5.44l.94 2.06.94-2.06 2.06-.94-2.06-.94-.94-2.06-.94 2.06-2.06.94zm-11 1L8.5 8.5l.94-2.06 2.06-.94-2.06-.94L8.5 2.5l-.94 2.06-2.06.94zm10 10l.94 2.06.94-2.06 2.06-.94-2.06-.94-.94-2.06-.94 2.06-2.06.94z\"/><path d=\"M17.41 7.96l-1.37-1.37c-.4-.4-.92-.59-1.43-.59-.52 0-1.04.2-1.43.59L10.3 9.45l-7.72 7.72c-.78.78-.78 2.05 0 2.83L4 21.41c.39.39.9.59 1.41.59.51 0 1.02-.2 1.41-.59l7.78-7.78 2.81-2.81c.8-.78.8-2.07 0-2.86zM5.41 20L4 18.59l7.72-7.72 1.47 1.35L5.41 20z\"/>\n",
              "  </svg>\n",
              "      </button>\n",
              "      \n",
              "  <style>\n",
              "    .colab-df-container {\n",
              "      display:flex;\n",
              "      flex-wrap:wrap;\n",
              "      gap: 12px;\n",
              "    }\n",
              "\n",
              "    .colab-df-convert {\n",
              "      background-color: #E8F0FE;\n",
              "      border: none;\n",
              "      border-radius: 50%;\n",
              "      cursor: pointer;\n",
              "      display: none;\n",
              "      fill: #1967D2;\n",
              "      height: 32px;\n",
              "      padding: 0 0 0 0;\n",
              "      width: 32px;\n",
              "    }\n",
              "\n",
              "    .colab-df-convert:hover {\n",
              "      background-color: #E2EBFA;\n",
              "      box-shadow: 0px 1px 2px rgba(60, 64, 67, 0.3), 0px 1px 3px 1px rgba(60, 64, 67, 0.15);\n",
              "      fill: #174EA6;\n",
              "    }\n",
              "\n",
              "    [theme=dark] .colab-df-convert {\n",
              "      background-color: #3B4455;\n",
              "      fill: #D2E3FC;\n",
              "    }\n",
              "\n",
              "    [theme=dark] .colab-df-convert:hover {\n",
              "      background-color: #434B5C;\n",
              "      box-shadow: 0px 1px 3px 1px rgba(0, 0, 0, 0.15);\n",
              "      filter: drop-shadow(0px 1px 2px rgba(0, 0, 0, 0.3));\n",
              "      fill: #FFFFFF;\n",
              "    }\n",
              "  </style>\n",
              "\n",
              "      <script>\n",
              "        const buttonEl =\n",
              "          document.querySelector('#df-80c75919-e951-41f0-99cc-694757b102b2 button.colab-df-convert');\n",
              "        buttonEl.style.display =\n",
              "          google.colab.kernel.accessAllowed ? 'block' : 'none';\n",
              "\n",
              "        async function convertToInteractive(key) {\n",
              "          const element = document.querySelector('#df-80c75919-e951-41f0-99cc-694757b102b2');\n",
              "          const dataTable =\n",
              "            await google.colab.kernel.invokeFunction('convertToInteractive',\n",
              "                                                     [key], {});\n",
              "          if (!dataTable) return;\n",
              "\n",
              "          const docLinkHtml = 'Like what you see? Visit the ' +\n",
              "            '<a target=\"_blank\" href=https://colab.research.google.com/notebooks/data_table.ipynb>data table notebook</a>'\n",
              "            + ' to learn more about interactive tables.';\n",
              "          element.innerHTML = '';\n",
              "          dataTable['output_type'] = 'display_data';\n",
              "          await google.colab.output.renderOutput(dataTable, element);\n",
              "          const docLink = document.createElement('div');\n",
              "          docLink.innerHTML = docLinkHtml;\n",
              "          element.appendChild(docLink);\n",
              "        }\n",
              "      </script>\n",
              "    </div>\n",
              "  </div>\n",
              "  "
            ]
          },
          "metadata": {},
          "execution_count": 9
        }
      ]
    },
    {
      "cell_type": "code",
      "source": [
        "## 랜포모델의 변수별 중요도(트리를 분할하는데 얼마나 기여했는가) 정렬하기\n",
        "sorted_idx = RF_model.feature_importances_.argsort()\n",
        "\n",
        "## 중요도에 대해 bar차트 그리기\n",
        "plt.barh(X.columns[sorted_idx], RF_model.feature_importances_[sorted_idx])\n",
        "plt.xlabel(\"Random Forest Feature Importance\")"
      ],
      "metadata": {
        "colab": {
          "base_uri": "https://localhost:8080/",
          "height": 297
        },
        "id": "0q6OKrUwQxDa",
        "outputId": "49a7f29a-8e53-4322-feed-a8e0e6e765bf"
      },
      "execution_count": null,
      "outputs": [
        {
          "output_type": "execute_result",
          "data": {
            "text/plain": [
              "Text(0.5, 0, 'Random Forest Feature Importance')"
            ]
          },
          "metadata": {},
          "execution_count": 10
        },
        {
          "output_type": "display_data",
          "data": {
            "text/plain": [
              "<Figure size 432x288 with 1 Axes>"
            ],
            "image/png": "[encoded data removed]"
          },
          "metadata": {
            "needs_background": "light"
          }
        }
      ]
    },
    {
      "cell_type": "code",
      "source": [],
      "metadata": {
        "id": "DlFOYZp9TGSj"
      },
      "execution_count": null,
      "outputs": []
    },
    {
      "cell_type": "code",
      "source": [],
      "metadata": {
        "id": "tUOUjI5STGX8"
      },
      "execution_count": null,
      "outputs": []
    },
    {
      "cell_type": "markdown",
      "source": [
        "# XGBoost"
      ],
      "metadata": {
        "id": "UnuZmzfLSApu"
      }
    },
    {
      "cell_type": "code",
      "source": [
        "import xgboost\n",
        "\n",
        "## 전체 데이터를 학습데이터(80%)와 검증데이터(20%)로 나눔\n",
        "X_train, X_test, Y_train, Y_test = train_test_split(X,Y,test_size=0.2, random_state=41)\n",
        "## xgb회귀 모델 생성(생성할 의사결정 나무 개수는 2000개)\n",
        "XGB_model = xgboost.XGBRegressor(n_estimators=2000, random_state=41)\n",
        "## 모델 적합시키기\n",
        "XGB_model.fit(X_train,Y_train)"
      ],
      "metadata": {
        "colab": {
          "base_uri": "https://localhost:8080/"
        },
        "id": "FJ7-4rclQxGC",
        "outputId": "0a7f49e7-c5e9-46be-953d-9baed630a958"
      },
      "execution_count": null,
      "outputs": [
        {
          "output_type": "stream",
          "name": "stdout",
          "text": [
            "[04:08:27] WARNING: /workspace/src/objective/regression_obj.cu:152: reg:linear is now deprecated in favor of reg:squarederror.\n"
          ]
        },
        {
          "output_type": "execute_result",
          "data": {
            "text/plain": [
              "XGBRegressor(n_estimators=2000, random_state=41)"
            ]
          },
          "metadata": {},
          "execution_count": 11
        }
      ]
    },
    {
      "cell_type": "code",
      "source": [
        "## 학습데이터에 대한 예측값\n",
        "Train_Prediction = (XGB_model.predict(X_train))\n",
        "## 검증데이터에 대한 예측값\n",
        "Test_Prediction = (XGB_model.predict(X_test))\n",
        "\n",
        "## 학습데이터의 평균절대오차 구하기\n",
        "XGB_Train_MAE = round(np.mean(np.abs(Y_train-Train_Prediction)),3)\n",
        "## 학습데이터의 퍼센트오차값 구하기\n",
        "XGB_Train_MAPE = round((np.mean(np.abs((Y_train-Train_Prediction)/(Y_train)))*100),3)\n",
        "\n",
        "## 검증데이터의 평균절대오차 구하기\n",
        "XGB_Test_MAE = round(np.mean(np.abs(Y_test-Test_Prediction)),3)\n",
        "## 검증데이터의 퍼센트오차값 구하기\n",
        "XGB_Test_MAPE = round((np.mean(np.abs((Y_test-Test_Prediction)/(Y_test)))*100),3)\n",
        "\n",
        "print(\"Mean Absolute Error for Train Set is : {:.3f}\".format(XGB_Train_MAE))\n",
        "print(\"Mean Absolute Percent Error for Train Set is : {:.3f} %\".format(XGB_Train_MAPE))\n",
        "print(\"Mean Absolute Error for Test Set is : {:.3f}\".format(XGB_Test_MAE))\n",
        "print(\"Mean Absolute Percent Error for Test Set is : {:.3f} %\".format(XGB_Test_MAPE))"
      ],
      "metadata": {
        "colab": {
          "base_uri": "https://localhost:8080/"
        },
        "id": "Ila5zFZgQxIq",
        "outputId": "549708f8-fed9-4714-c3cc-ada9406727c7"
      },
      "execution_count": null,
      "outputs": [
        {
          "output_type": "stream",
          "name": "stdout",
          "text": [
            "Mean Absolute Error for Train Set is : 0.025\n",
            "Mean Absolute Percent Error for Train Set is : 0.239 %\n",
            "Mean Absolute Error for Test Set is : 0.053\n",
            "Mean Absolute Percent Error for Test Set is : 0.503 %\n"
          ]
        }
      ]
    },
    {
      "cell_type": "code",
      "source": [
        "## 변수별 중요도\n",
        "xgboost.plot_importance(XGB_model)"
      ],
      "metadata": {
        "colab": {
          "base_uri": "https://localhost:8080/",
          "height": 312
        },
        "id": "LsMb89cbS2Ie",
        "outputId": "f8407c24-43d9-4b40-b74d-70d5d93438d6"
      },
      "execution_count": null,
      "outputs": [
        {
          "output_type": "execute_result",
          "data": {
            "text/plain": [
              "<matplotlib.axes._subplots.AxesSubplot at 0x7f411645a0d0>"
            ]
          },
          "metadata": {},
          "execution_count": 13
        },
        {
          "output_type": "display_data",
          "data": {
            "text/plain": [
              "<Figure size 432x288 with 1 Axes>"
            ],
            "image/png": "[encoded data removed]"
          },
          "metadata": {
            "needs_background": "light"
          }
        }
      ]
    },
    {
      "cell_type": "code",
      "source": [],
      "metadata": {
        "id": "ckpNyu3XR_7J"
      },
      "execution_count": null,
      "outputs": []
    },
    {
      "cell_type": "code",
      "source": [],
      "metadata": {
        "id": "wRjmQymvR_-b"
      },
      "execution_count": null,
      "outputs": []
    }
  ]
}